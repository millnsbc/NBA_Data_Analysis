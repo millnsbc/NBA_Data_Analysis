{
 "cells": [
  {
   "cell_type": "markdown",
   "metadata": {},
   "source": [
    "# MAT022 Foundations of Statistics and Data Science"
   ]
  },
  {
   "cell_type": "code",
   "execution_count": 1,
   "metadata": {},
   "outputs": [],
   "source": [
    "# libraries\n",
    "library(ggplot2)\n",
    "library(dplyr)\n",
    "library(hrbrthemes)\n",
    "library(viridis)\n",
    "library(gridExtra)\n",
    "library(ggpubr)\n",
    "library(Hmisc)   "
   ]
  },
  {
   "cell_type": "code",
   "execution_count": 161,
   "metadata": {},
   "outputs": [],
   "source": [
    "# Read data\n",
    "setwd('C:/Users/c2098580/OneDrive - Cardiff University/Documents/MAT022/Coursework/Data')\n",
    "nba_data <- read.csv('nbadata.csv', header=TRUE)"
   ]
  },
  {
   "cell_type": "code",
   "execution_count": 3,
   "metadata": {},
   "outputs": [
    {
     "data": {
      "text/html": [
       "<table>\n",
       "<thead><tr><th scope=col>GAME_ID</th><th scope=col>DATE</th><th scope=col>HOME_TEAM</th><th scope=col>AWAY_TEAM</th><th scope=col>PLAYER_NAME</th><th scope=col>PLAYER_ID</th><th scope=col>LOCATION</th><th scope=col>W</th><th scope=col>FINAL_MARGIN</th><th scope=col>SHOT_NUMBER</th><th scope=col>...</th><th scope=col>DRIBBLES</th><th scope=col>TOUCH_TIME</th><th scope=col>SHOT_DIST</th><th scope=col>PTS_TYPE</th><th scope=col>SHOT_RESULT</th><th scope=col>CLOSEST_DEFENDER</th><th scope=col>CLOSEST_DEFENDER_ID</th><th scope=col>CLOSE_DEF_DIST</th><th scope=col>FGM</th><th scope=col>PTS</th></tr></thead>\n",
       "<tbody>\n",
       "\t<tr><td>21400001      </td><td>OCT 28, 2014  </td><td>NOP           </td><td>ORL           </td><td>Omer Asik     </td><td>201600        </td><td>H             </td><td>W             </td><td>17            </td><td>1             </td><td>...           </td><td>0             </td><td>0.8           </td><td>3.6           </td><td>2             </td><td>made          </td><td>Nikola Vucevic</td><td>202696        </td><td>1.7           </td><td>1             </td><td>2             </td></tr>\n",
       "\t<tr><td>21400001      </td><td>OCT 28, 2014  </td><td>NOP           </td><td>ORL           </td><td>Omer Asik     </td><td>201600        </td><td>H             </td><td>W             </td><td>17            </td><td>2             </td><td>...           </td><td>1             </td><td>2.9           </td><td>0.9           </td><td>2             </td><td>missed        </td><td>Kyle O'Quinn  </td><td>203124        </td><td>2.0           </td><td>0             </td><td>0             </td></tr>\n",
       "\t<tr><td>21400001      </td><td>OCT 28, 2014  </td><td>NOP           </td><td>ORL           </td><td>Omer Asik     </td><td>201600        </td><td>H             </td><td>W             </td><td>17            </td><td>3             </td><td>...           </td><td>0             </td><td>0.6           </td><td>0.8           </td><td>2             </td><td>made          </td><td>Tobias Harris </td><td>202699        </td><td>2.6           </td><td>1             </td><td>2             </td></tr>\n",
       "\t<tr><td>21400001      </td><td>OCT 28, 2014  </td><td>NOP           </td><td>ORL           </td><td>Omer Asik     </td><td>201600        </td><td>H             </td><td>W             </td><td>17            </td><td>4             </td><td>...           </td><td>0             </td><td>0.6           </td><td>3.4           </td><td>2             </td><td>missed        </td><td>Evan Fournier </td><td>203095        </td><td>1.5           </td><td>0             </td><td>0             </td></tr>\n",
       "\t<tr><td>21400001      </td><td>OCT 28, 2014  </td><td>NOP           </td><td>ORL           </td><td>Omer Asik     </td><td>201600        </td><td>H             </td><td>W             </td><td>17            </td><td>5             </td><td>...           </td><td>0             </td><td>0.8           </td><td>2.6           </td><td>2             </td><td>made          </td><td>Dewayne Dedmon</td><td>203473        </td><td>4.5           </td><td>1             </td><td>2             </td></tr>\n",
       "\t<tr><td>21400001      </td><td>OCT 28, 2014  </td><td>NOP           </td><td>ORL           </td><td>Omer Asik     </td><td>201600        </td><td>H             </td><td>W             </td><td>17            </td><td>6             </td><td>...           </td><td>0             </td><td>1.1           </td><td>2.7           </td><td>2             </td><td>made          </td><td>Dewayne Dedmon</td><td>203473        </td><td>1.7           </td><td>1             </td><td>2             </td></tr>\n",
       "</tbody>\n",
       "</table>\n"
      ],
      "text/latex": [
       "\\begin{tabular}{r|lllllllllllllllllllllll}\n",
       " GAME\\_ID & DATE & HOME\\_TEAM & AWAY\\_TEAM & PLAYER\\_NAME & PLAYER\\_ID & LOCATION & W & FINAL\\_MARGIN & SHOT\\_NUMBER & ... & DRIBBLES & TOUCH\\_TIME & SHOT\\_DIST & PTS\\_TYPE & SHOT\\_RESULT & CLOSEST\\_DEFENDER & CLOSEST\\_DEFENDER\\_ID & CLOSE\\_DEF\\_DIST & FGM & PTS\\\\\n",
       "\\hline\n",
       "\t 21400001       & OCT 28, 2014   & NOP            & ORL            & Omer Asik      & 201600         & H              & W              & 17             & 1              & ...            & 0              & 0.8            & 3.6            & 2              & made           & Nikola Vucevic & 202696         & 1.7            & 1              & 2             \\\\\n",
       "\t 21400001       & OCT 28, 2014   & NOP            & ORL            & Omer Asik      & 201600         & H              & W              & 17             & 2              & ...            & 1              & 2.9            & 0.9            & 2              & missed         & Kyle O'Quinn   & 203124         & 2.0            & 0              & 0             \\\\\n",
       "\t 21400001       & OCT 28, 2014   & NOP            & ORL            & Omer Asik      & 201600         & H              & W              & 17             & 3              & ...            & 0              & 0.6            & 0.8            & 2              & made           & Tobias Harris  & 202699         & 2.6            & 1              & 2             \\\\\n",
       "\t 21400001       & OCT 28, 2014   & NOP            & ORL            & Omer Asik      & 201600         & H              & W              & 17             & 4              & ...            & 0              & 0.6            & 3.4            & 2              & missed         & Evan Fournier  & 203095         & 1.5            & 0              & 0             \\\\\n",
       "\t 21400001       & OCT 28, 2014   & NOP            & ORL            & Omer Asik      & 201600         & H              & W              & 17             & 5              & ...            & 0              & 0.8            & 2.6            & 2              & made           & Dewayne Dedmon & 203473         & 4.5            & 1              & 2             \\\\\n",
       "\t 21400001       & OCT 28, 2014   & NOP            & ORL            & Omer Asik      & 201600         & H              & W              & 17             & 6              & ...            & 0              & 1.1            & 2.7            & 2              & made           & Dewayne Dedmon & 203473         & 1.7            & 1              & 2             \\\\\n",
       "\\end{tabular}\n"
      ],
      "text/markdown": [
       "\n",
       "| GAME_ID | DATE | HOME_TEAM | AWAY_TEAM | PLAYER_NAME | PLAYER_ID | LOCATION | W | FINAL_MARGIN | SHOT_NUMBER | ... | DRIBBLES | TOUCH_TIME | SHOT_DIST | PTS_TYPE | SHOT_RESULT | CLOSEST_DEFENDER | CLOSEST_DEFENDER_ID | CLOSE_DEF_DIST | FGM | PTS |\n",
       "|---|---|---|---|---|---|---|---|---|---|---|---|---|---|---|---|---|---|---|---|---|\n",
       "| 21400001       | OCT 28, 2014   | NOP            | ORL            | Omer Asik      | 201600         | H              | W              | 17             | 1              | ...            | 0              | 0.8            | 3.6            | 2              | made           | Nikola Vucevic | 202696         | 1.7            | 1              | 2              |\n",
       "| 21400001       | OCT 28, 2014   | NOP            | ORL            | Omer Asik      | 201600         | H              | W              | 17             | 2              | ...            | 1              | 2.9            | 0.9            | 2              | missed         | Kyle O'Quinn   | 203124         | 2.0            | 0              | 0              |\n",
       "| 21400001       | OCT 28, 2014   | NOP            | ORL            | Omer Asik      | 201600         | H              | W              | 17             | 3              | ...            | 0              | 0.6            | 0.8            | 2              | made           | Tobias Harris  | 202699         | 2.6            | 1              | 2              |\n",
       "| 21400001       | OCT 28, 2014   | NOP            | ORL            | Omer Asik      | 201600         | H              | W              | 17             | 4              | ...            | 0              | 0.6            | 3.4            | 2              | missed         | Evan Fournier  | 203095         | 1.5            | 0              | 0              |\n",
       "| 21400001       | OCT 28, 2014   | NOP            | ORL            | Omer Asik      | 201600         | H              | W              | 17             | 5              | ...            | 0              | 0.8            | 2.6            | 2              | made           | Dewayne Dedmon | 203473         | 4.5            | 1              | 2              |\n",
       "| 21400001       | OCT 28, 2014   | NOP            | ORL            | Omer Asik      | 201600         | H              | W              | 17             | 6              | ...            | 0              | 1.1            | 2.7            | 2              | made           | Dewayne Dedmon | 203473         | 1.7            | 1              | 2              |\n",
       "\n"
      ],
      "text/plain": [
       "  GAME_ID  DATE         HOME_TEAM AWAY_TEAM PLAYER_NAME PLAYER_ID LOCATION W\n",
       "1 21400001 OCT 28, 2014 NOP       ORL       Omer Asik   201600    H        W\n",
       "2 21400001 OCT 28, 2014 NOP       ORL       Omer Asik   201600    H        W\n",
       "3 21400001 OCT 28, 2014 NOP       ORL       Omer Asik   201600    H        W\n",
       "4 21400001 OCT 28, 2014 NOP       ORL       Omer Asik   201600    H        W\n",
       "5 21400001 OCT 28, 2014 NOP       ORL       Omer Asik   201600    H        W\n",
       "6 21400001 OCT 28, 2014 NOP       ORL       Omer Asik   201600    H        W\n",
       "  FINAL_MARGIN SHOT_NUMBER ... DRIBBLES TOUCH_TIME SHOT_DIST PTS_TYPE\n",
       "1 17           1           ... 0        0.8        3.6       2       \n",
       "2 17           2           ... 1        2.9        0.9       2       \n",
       "3 17           3           ... 0        0.6        0.8       2       \n",
       "4 17           4           ... 0        0.6        3.4       2       \n",
       "5 17           5           ... 0        0.8        2.6       2       \n",
       "6 17           6           ... 0        1.1        2.7       2       \n",
       "  SHOT_RESULT CLOSEST_DEFENDER CLOSEST_DEFENDER_ID CLOSE_DEF_DIST FGM PTS\n",
       "1 made        Nikola Vucevic   202696              1.7            1   2  \n",
       "2 missed      Kyle O'Quinn     203124              2.0            0   0  \n",
       "3 made        Tobias Harris    202699              2.6            1   2  \n",
       "4 missed      Evan Fournier    203095              1.5            0   0  \n",
       "5 made        Dewayne Dedmon   203473              4.5            1   2  \n",
       "6 made        Dewayne Dedmon   203473              1.7            1   2  "
      ]
     },
     "metadata": {},
     "output_type": "display_data"
    },
    {
     "data": {
      "text/html": [
       "<dl class=dl-horizontal>\n",
       "\t<dt>GAME_ID</dt>\n",
       "\t\t<dd>'integer'</dd>\n",
       "\t<dt>DATE</dt>\n",
       "\t\t<dd>'factor'</dd>\n",
       "\t<dt>HOME_TEAM</dt>\n",
       "\t\t<dd>'factor'</dd>\n",
       "\t<dt>AWAY_TEAM</dt>\n",
       "\t\t<dd>'factor'</dd>\n",
       "\t<dt>PLAYER_NAME</dt>\n",
       "\t\t<dd>'factor'</dd>\n",
       "\t<dt>PLAYER_ID</dt>\n",
       "\t\t<dd>'integer'</dd>\n",
       "\t<dt>LOCATION</dt>\n",
       "\t\t<dd>'factor'</dd>\n",
       "\t<dt>W</dt>\n",
       "\t\t<dd>'factor'</dd>\n",
       "\t<dt>FINAL_MARGIN</dt>\n",
       "\t\t<dd>'integer'</dd>\n",
       "\t<dt>SHOT_NUMBER</dt>\n",
       "\t\t<dd>'integer'</dd>\n",
       "\t<dt>PERIOD</dt>\n",
       "\t\t<dd>'integer'</dd>\n",
       "\t<dt>GAME_CLOCK</dt>\n",
       "\t\t<dd>'factor'</dd>\n",
       "\t<dt>SHOT_CLOCK</dt>\n",
       "\t\t<dd>'numeric'</dd>\n",
       "\t<dt>DRIBBLES</dt>\n",
       "\t\t<dd>'integer'</dd>\n",
       "\t<dt>TOUCH_TIME</dt>\n",
       "\t\t<dd>'numeric'</dd>\n",
       "\t<dt>SHOT_DIST</dt>\n",
       "\t\t<dd>'numeric'</dd>\n",
       "\t<dt>PTS_TYPE</dt>\n",
       "\t\t<dd>'integer'</dd>\n",
       "\t<dt>SHOT_RESULT</dt>\n",
       "\t\t<dd>'factor'</dd>\n",
       "\t<dt>CLOSEST_DEFENDER</dt>\n",
       "\t\t<dd>'factor'</dd>\n",
       "\t<dt>CLOSEST_DEFENDER_ID</dt>\n",
       "\t\t<dd>'integer'</dd>\n",
       "\t<dt>CLOSE_DEF_DIST</dt>\n",
       "\t\t<dd>'numeric'</dd>\n",
       "\t<dt>FGM</dt>\n",
       "\t\t<dd>'integer'</dd>\n",
       "\t<dt>PTS</dt>\n",
       "\t\t<dd>'integer'</dd>\n",
       "</dl>\n"
      ],
      "text/latex": [
       "\\begin{description*}\n",
       "\\item[GAME\\textbackslash{}\\_ID] 'integer'\n",
       "\\item[DATE] 'factor'\n",
       "\\item[HOME\\textbackslash{}\\_TEAM] 'factor'\n",
       "\\item[AWAY\\textbackslash{}\\_TEAM] 'factor'\n",
       "\\item[PLAYER\\textbackslash{}\\_NAME] 'factor'\n",
       "\\item[PLAYER\\textbackslash{}\\_ID] 'integer'\n",
       "\\item[LOCATION] 'factor'\n",
       "\\item[W] 'factor'\n",
       "\\item[FINAL\\textbackslash{}\\_MARGIN] 'integer'\n",
       "\\item[SHOT\\textbackslash{}\\_NUMBER] 'integer'\n",
       "\\item[PERIOD] 'integer'\n",
       "\\item[GAME\\textbackslash{}\\_CLOCK] 'factor'\n",
       "\\item[SHOT\\textbackslash{}\\_CLOCK] 'numeric'\n",
       "\\item[DRIBBLES] 'integer'\n",
       "\\item[TOUCH\\textbackslash{}\\_TIME] 'numeric'\n",
       "\\item[SHOT\\textbackslash{}\\_DIST] 'numeric'\n",
       "\\item[PTS\\textbackslash{}\\_TYPE] 'integer'\n",
       "\\item[SHOT\\textbackslash{}\\_RESULT] 'factor'\n",
       "\\item[CLOSEST\\textbackslash{}\\_DEFENDER] 'factor'\n",
       "\\item[CLOSEST\\textbackslash{}\\_DEFENDER\\textbackslash{}\\_ID] 'integer'\n",
       "\\item[CLOSE\\textbackslash{}\\_DEF\\textbackslash{}\\_DIST] 'numeric'\n",
       "\\item[FGM] 'integer'\n",
       "\\item[PTS] 'integer'\n",
       "\\end{description*}\n"
      ],
      "text/markdown": [
       "GAME_ID\n",
       ":   'integer'DATE\n",
       ":   'factor'HOME_TEAM\n",
       ":   'factor'AWAY_TEAM\n",
       ":   'factor'PLAYER_NAME\n",
       ":   'factor'PLAYER_ID\n",
       ":   'integer'LOCATION\n",
       ":   'factor'W\n",
       ":   'factor'FINAL_MARGIN\n",
       ":   'integer'SHOT_NUMBER\n",
       ":   'integer'PERIOD\n",
       ":   'integer'GAME_CLOCK\n",
       ":   'factor'SHOT_CLOCK\n",
       ":   'numeric'DRIBBLES\n",
       ":   'integer'TOUCH_TIME\n",
       ":   'numeric'SHOT_DIST\n",
       ":   'numeric'PTS_TYPE\n",
       ":   'integer'SHOT_RESULT\n",
       ":   'factor'CLOSEST_DEFENDER\n",
       ":   'factor'CLOSEST_DEFENDER_ID\n",
       ":   'integer'CLOSE_DEF_DIST\n",
       ":   'numeric'FGM\n",
       ":   'integer'PTS\n",
       ":   'integer'\n",
       "\n"
      ],
      "text/plain": [
       "            GAME_ID                DATE           HOME_TEAM           AWAY_TEAM \n",
       "          \"integer\"            \"factor\"            \"factor\"            \"factor\" \n",
       "        PLAYER_NAME           PLAYER_ID            LOCATION                   W \n",
       "           \"factor\"           \"integer\"            \"factor\"            \"factor\" \n",
       "       FINAL_MARGIN         SHOT_NUMBER              PERIOD          GAME_CLOCK \n",
       "          \"integer\"           \"integer\"           \"integer\"            \"factor\" \n",
       "         SHOT_CLOCK            DRIBBLES          TOUCH_TIME           SHOT_DIST \n",
       "          \"numeric\"           \"integer\"           \"numeric\"           \"numeric\" \n",
       "           PTS_TYPE         SHOT_RESULT    CLOSEST_DEFENDER CLOSEST_DEFENDER_ID \n",
       "          \"integer\"            \"factor\"            \"factor\"           \"integer\" \n",
       "     CLOSE_DEF_DIST                 FGM                 PTS \n",
       "          \"numeric\"           \"integer\"           \"integer\" "
      ]
     },
     "metadata": {},
     "output_type": "display_data"
    },
    {
     "data": {
      "text/html": [
       "128069"
      ],
      "text/latex": [
       "128069"
      ],
      "text/markdown": [
       "128069"
      ],
      "text/plain": [
       "[1] 128069"
      ]
     },
     "metadata": {},
     "output_type": "display_data"
    },
    {
     "data": {
      "text/html": [
       "23"
      ],
      "text/latex": [
       "23"
      ],
      "text/markdown": [
       "23"
      ],
      "text/plain": [
       "[1] 23"
      ]
     },
     "metadata": {},
     "output_type": "display_data"
    }
   ],
   "source": [
    "#Prelim analysis\n",
    "head(nba_data)\n",
    "sapply(nba_data, class)\n",
    "nrow(nba_data)\n",
    "ncol(nba_data)\n"
   ]
  },
  {
   "cell_type": "code",
   "execution_count": 4,
   "metadata": {},
   "outputs": [
    {
     "data": {
      "text/plain": [
       "    GAME_ID                   DATE          HOME_TEAM       AWAY_TEAM     \n",
       " Min.   :21400001   JAN 07, 2015:  1941   SAC    : 4889   PHX    :  4793  \n",
       " 1st Qu.:21400233   JAN 16, 2015:  1875   CHI    : 4875   GSW    :  4774  \n",
       " Median :21400449   NOV 26, 2014:  1822   LAC    : 4708   LAL    :  4645  \n",
       " Mean   :21400452   DEC 12, 2014:  1784   ATL    : 4707   IND    :  4615  \n",
       " 3rd Qu.:21400673   FEB 27, 2015:  1784   WAS    : 4655   SAS    :  4603  \n",
       " Max.   :21400908   JAN 21, 2015:  1775   BOS    : 4599   OKC    :  4575  \n",
       "                    (Other)     :117088   (Other):99636   (Other):100064  \n",
       "            PLAYER_NAME       PLAYER_ID      LOCATION  W        \n",
       " James Harden     :  1054   Min.   :   708   A:64135   L:63474  \n",
       " Mnta Ellis       :  1052   1st Qu.:101162   H:63934   W:64595  \n",
       " Lamarcus Aldridge:  1050   Median :201939                      \n",
       " Damian Lillard   :   986   Mean   :157238                      \n",
       " Lebron James     :   978   3rd Qu.:202704                      \n",
       " Klay Thompson    :   971   Max.   :204060                      \n",
       " (Other)          :121978                                       \n",
       "  FINAL_MARGIN       SHOT_NUMBER         PERIOD        GAME_CLOCK    \n",
       " Min.   :-53.0000   Min.   : 1.000   Min.   :1.000   0:01   :   859  \n",
       " 1st Qu.: -8.0000   1st Qu.: 3.000   1st Qu.:1.000   0:02   :   546  \n",
       " Median :  1.0000   Median : 5.000   Median :2.000   0:00   :   480  \n",
       " Mean   :  0.2087   Mean   : 6.507   Mean   :2.469   0:03   :   436  \n",
       " 3rd Qu.:  9.0000   3rd Qu.: 9.000   3rd Qu.:3.000   0:04   :   340  \n",
       " Max.   : 53.0000   Max.   :38.000   Max.   :7.000   0:05   :   281  \n",
       "                                                     (Other):125127  \n",
       "   SHOT_CLOCK       DRIBBLES        TOUCH_TIME         SHOT_DIST    \n",
       " Min.   : 0.00   Min.   : 0.000   Min.   :-163.600   Min.   : 0.00  \n",
       " 1st Qu.: 8.20   1st Qu.: 0.000   1st Qu.:   0.900   1st Qu.: 4.70  \n",
       " Median :12.30   Median : 1.000   Median :   1.600   Median :13.70  \n",
       " Mean   :12.45   Mean   : 2.023   Mean   :   2.766   Mean   :13.57  \n",
       " 3rd Qu.:16.68   3rd Qu.: 2.000   3rd Qu.:   3.700   3rd Qu.:22.50  \n",
       " Max.   :24.00   Max.   :32.000   Max.   :  24.900   Max.   :47.20  \n",
       " NA's   :5567                                                       \n",
       "    PTS_TYPE     SHOT_RESULT          CLOSEST_DEFENDER  CLOSEST_DEFENDER_ID\n",
       " Min.   :2.000   made  :57905   Serge Ibaka   :   814   Min.   :   708     \n",
       " 1st Qu.:2.000   missed:70164   DeAndre Jordan:   795   1st Qu.:101249     \n",
       " Median :2.000                  Pau Gasol     :   754   Median :201949     \n",
       " Mean   :2.265                  Draymond Green:   751   Mean   :159039     \n",
       " 3rd Qu.:3.000                  Paul Millsap  :   750   3rd Qu.:203079     \n",
       " Max.   :3.000                  Tyson Chandler:   698   Max.   :530027     \n",
       "                                (Other)       :123507                      \n",
       " CLOSE_DEF_DIST        FGM              PTS        \n",
       " Min.   : 0.000   Min.   :0.0000   Min.   :0.0000  \n",
       " 1st Qu.: 2.300   1st Qu.:0.0000   1st Qu.:0.0000  \n",
       " Median : 3.700   Median :0.0000   Median :0.0000  \n",
       " Mean   : 4.123   Mean   :0.4521   Mean   :0.9973  \n",
       " 3rd Qu.: 5.300   3rd Qu.:1.0000   3rd Qu.:2.0000  \n",
       " Max.   :53.200   Max.   :1.0000   Max.   :3.0000  \n",
       "                                                   "
      ]
     },
     "metadata": {},
     "output_type": "display_data"
    }
   ],
   "source": [
    "summary(nba_data)"
   ]
  },
  {
   "cell_type": "markdown",
   "metadata": {},
   "source": [
    "#### Looking at the data I would like to investigate:\n",
    "\n",
    "why is final margin mean not 0\n",
    "\n",
    "SHOT_CLOCK 5567 NAs\n",
    "\n",
    "TOUCH_TIME minimum is -163.600\n",
    "\n",
    "TOUCH TIME BIGGER THAN 24\n",
    "\n",
    "2 point distance longer than the minimum 3 point shot\n",
    "\n",
    "vice versa"
   ]
  },
  {
   "cell_type": "markdown",
   "metadata": {},
   "source": [
    "#### NA shot clock"
   ]
  },
  {
   "cell_type": "code",
   "execution_count": 5,
   "metadata": {},
   "outputs": [
    {
     "name": "stdout",
     "output_type": "stream",
     "text": [
      "[1] FALSE\n",
      "[1] 1\n",
      "[1] FALSE\n",
      "[1] 2\n",
      "[1] FALSE\n",
      "[1] 3\n",
      "[1] FALSE\n",
      "[1] 4\n",
      "[1] FALSE\n",
      "[1] 5\n",
      "[1] FALSE\n",
      "[1] 6\n",
      "[1] FALSE\n",
      "[1] 7\n",
      "[1] FALSE\n",
      "[1] 8\n",
      "[1] FALSE\n",
      "[1] 9\n",
      "[1] FALSE\n",
      "[1] 10\n",
      "[1] FALSE\n",
      "[1] 11\n",
      "[1] FALSE\n",
      "[1] 12\n",
      "[1] TRUE\n",
      "[1] 13\n",
      "[1] FALSE\n",
      "[1] 14\n",
      "[1] FALSE\n",
      "[1] 15\n",
      "[1] FALSE\n",
      "[1] 16\n",
      "[1] FALSE\n",
      "[1] 17\n",
      "[1] FALSE\n",
      "[1] 18\n",
      "[1] FALSE\n",
      "[1] 19\n",
      "[1] FALSE\n",
      "[1] 20\n",
      "[1] FALSE\n",
      "[1] 21\n",
      "[1] FALSE\n",
      "[1] 22\n",
      "[1] FALSE\n",
      "[1] 23\n"
     ]
    },
    {
     "data": {
      "text/html": [
       "5567"
      ],
      "text/latex": [
       "5567"
      ],
      "text/markdown": [
       "5567"
      ],
      "text/plain": [
       "[1] 5567"
      ]
     },
     "metadata": {},
     "output_type": "display_data"
    }
   ],
   "source": [
    "#check for any NA values\n",
    "for (i in 1:ncol(nba_data)) {\n",
    "    print(anyNA(nba_data[,i]))\n",
    "    print(i)\n",
    "    }\n",
    "# NA values in 13th column SHOT_CLOCK\n",
    "#Isolate NA values\n",
    "na_shotclock <- nba_data[is.na(nba_data$SHOT_CLOCK),]\n",
    "nrow(na_shotclock)"
   ]
  },
  {
   "cell_type": "markdown",
   "metadata": {},
   "source": [
    "5567 rows have NA values for shot clock \n",
    "\n",
    "This is 5567 / 128069 = 4.3% of the shot clock data "
   ]
  },
  {
   "cell_type": "markdown",
   "metadata": {},
   "source": [
    "Missing completely at random\n",
    "\n",
    "I will replace the data with the mean of the shot clock column"
   ]
  },
  {
   "cell_type": "code",
   "execution_count": 7,
   "metadata": {},
   "outputs": [],
   "source": [
    "nba_data[is.na(nba_data[,13]), 13] <- mean(nba_data[,13], na.rm = TRUE)"
   ]
  },
  {
   "cell_type": "markdown",
   "metadata": {},
   "source": [
    "#### touch time\n",
    "\n",
    "##### minus touch time"
   ]
  },
  {
   "cell_type": "code",
   "execution_count": 8,
   "metadata": {},
   "outputs": [
    {
     "data": {
      "text/html": [
       "312"
      ],
      "text/latex": [
       "312"
      ],
      "text/markdown": [
       "312"
      ],
      "text/plain": [
       "[1] 312"
      ]
     },
     "metadata": {},
     "output_type": "display_data"
    }
   ],
   "source": [
    "minus_touchtime <- nba_data[nba_data$TOUCH_TIME < 0,]\n",
    "nrow(minus_touchtime)"
   ]
  },
  {
   "cell_type": "markdown",
   "metadata": {},
   "source": [
    "312 rows have negative touchtime values\n",
    "\n",
    "Cannot be negative as 'TOUCH_TIME is the TIME that the ball was in the shooting player’s hand'\n",
    "\n",
    "This is 312 / 128069 = 0.24% of the touchtime data. Since this represents a small amount of the data it will be removed from the dataset.\n",
    "\n",
    "try to see if it is a error in typing (negative time instead of positive)"
   ]
  },
  {
   "cell_type": "code",
   "execution_count": 9,
   "metadata": {},
   "outputs": [],
   "source": [
    "nba_data <- nba_data[nba_data$TOUCH_TIME > 0,]"
   ]
  },
  {
   "cell_type": "markdown",
   "metadata": {},
   "source": [
    "###### touch time over 24 seconds"
   ]
  },
  {
   "cell_type": "code",
   "execution_count": 162,
   "metadata": {},
   "outputs": [
    {
     "data": {
      "text/html": [
       "4"
      ],
      "text/latex": [
       "4"
      ],
      "text/markdown": [
       "4"
      ],
      "text/plain": [
       "[1] 4"
      ]
     },
     "metadata": {},
     "output_type": "display_data"
    }
   ],
   "source": [
    "sum(nba_data$TOUCH_TIME > 24)"
   ]
  },
  {
   "cell_type": "markdown",
   "metadata": {},
   "source": [
    "There are 4 instances of the touch time being over 24 seconds, which is impossible. This data will be removed"
   ]
  },
  {
   "cell_type": "code",
   "execution_count": 11,
   "metadata": {},
   "outputs": [],
   "source": [
    "nba_data <- nba_data[nba_data$TOUCH_TIME <= 24,]"
   ]
  },
  {
   "cell_type": "markdown",
   "metadata": {},
   "source": [
    "#### mean of final margin != 0\n",
    "\n",
    "First look if there is duplicate values"
   ]
  },
  {
   "cell_type": "code",
   "execution_count": 12,
   "metadata": {
    "scrolled": true
   },
   "outputs": [
    {
     "name": "stderr",
     "output_type": "stream",
     "text": [
      "Warning message in cbind(parts$left, ellip_h, parts$right, deparse.level = 0L):\n",
      "\"number of rows of result is not a multiple of vector length (arg 2)\"Warning message in cbind(parts$left, ellip_h, parts$right, deparse.level = 0L):\n",
      "\"number of rows of result is not a multiple of vector length (arg 2)\"Warning message in cbind(parts$left, ellip_h, parts$right, deparse.level = 0L):\n",
      "\"number of rows of result is not a multiple of vector length (arg 2)\"Warning message in cbind(parts$left, ellip_h, parts$right, deparse.level = 0L):\n",
      "\"number of rows of result is not a multiple of vector length (arg 2)\""
     ]
    },
    {
     "data": {
      "text/html": [
       "<table>\n",
       "<thead><tr><th scope=col>GAME_ID</th><th scope=col>DATE</th><th scope=col>HOME_TEAM</th><th scope=col>AWAY_TEAM</th><th scope=col>PLAYER_NAME</th><th scope=col>PLAYER_ID</th><th scope=col>LOCATION</th><th scope=col>W</th><th scope=col>FINAL_MARGIN</th><th scope=col>SHOT_NUMBER</th><th scope=col>...</th><th scope=col>DRIBBLES</th><th scope=col>TOUCH_TIME</th><th scope=col>SHOT_DIST</th><th scope=col>PTS_TYPE</th><th scope=col>SHOT_RESULT</th><th scope=col>CLOSEST_DEFENDER</th><th scope=col>CLOSEST_DEFENDER_ID</th><th scope=col>CLOSE_DEF_DIST</th><th scope=col>FGM</th><th scope=col>PTS</th></tr></thead>\n",
       "<tbody>\n",
       "</tbody>\n",
       "</table>\n"
      ],
      "text/latex": [
       "\\begin{tabular}{r|lllllllllllllllllllllll}\n",
       " GAME\\_ID & DATE & HOME\\_TEAM & AWAY\\_TEAM & PLAYER\\_NAME & PLAYER\\_ID & LOCATION & W & FINAL\\_MARGIN & SHOT\\_NUMBER & ... & DRIBBLES & TOUCH\\_TIME & SHOT\\_DIST & PTS\\_TYPE & SHOT\\_RESULT & CLOSEST\\_DEFENDER & CLOSEST\\_DEFENDER\\_ID & CLOSE\\_DEF\\_DIST & FGM & PTS\\\\\n",
       "\\hline\n",
       "\\end{tabular}\n"
      ],
      "text/markdown": [
       "\n",
       "| GAME_ID | DATE | HOME_TEAM | AWAY_TEAM | PLAYER_NAME | PLAYER_ID | LOCATION | W | FINAL_MARGIN | SHOT_NUMBER | ... | DRIBBLES | TOUCH_TIME | SHOT_DIST | PTS_TYPE | SHOT_RESULT | CLOSEST_DEFENDER | CLOSEST_DEFENDER_ID | CLOSE_DEF_DIST | FGM | PTS |\n",
       "|---|---|---|---|---|---|---|---|---|---|---|---|---|---|---|---|---|---|---|---|---|\n",
       "\n"
      ],
      "text/plain": [
       "     GAME_ID DATE HOME_TEAM AWAY_TEAM PLAYER_NAME PLAYER_ID LOCATION W\n",
       "     FINAL_MARGIN SHOT_NUMBER ... DRIBBLES TOUCH_TIME SHOT_DIST PTS_TYPE\n",
       "     SHOT_RESULT CLOSEST_DEFENDER CLOSEST_DEFENDER_ID CLOSE_DEF_DIST FGM PTS"
      ]
     },
     "metadata": {},
     "output_type": "display_data"
    }
   ],
   "source": [
    "nba_data[duplicated(nba_data,MARGIN=1),]"
   ]
  },
  {
   "cell_type": "markdown",
   "metadata": {},
   "source": [
    "No duplicate values\n",
    "\n",
    "Take as error in the dataset"
   ]
  },
  {
   "cell_type": "markdown",
   "metadata": {},
   "source": [
    "#### 2 pointers recorded as 3\n",
    "\n",
    "In the nba the shortest possible 3 pointer is 22 feet from the hoop. However using "
   ]
  },
  {
   "cell_type": "code",
   "execution_count": 13,
   "metadata": {},
   "outputs": [
    {
     "data": {
      "text/html": [
       "818"
      ],
      "text/latex": [
       "818"
      ],
      "text/markdown": [
       "818"
      ],
      "text/plain": [
       "[1] 818"
      ]
     },
     "metadata": {},
     "output_type": "display_data"
    }
   ],
   "source": [
    "nrow(nba_data[nba_data$PTS_TYPE == 3 & nba_data$SHOT_DIST < 22,])"
   ]
  },
  {
   "cell_type": "markdown",
   "metadata": {},
   "source": [
    "There are 872 instances of a 3 point shot being shot shorter than the minimum possible 3 pointer\n",
    "\n",
    "Could this is be an error in the measurement of the distance the shot is taken?\n",
    "\n",
    "'The distance of the shot is likely measured from where the ball leaves the player's hands by using multiple cameras to triangulate the ball position. A player's hands may be a couple of feet beyond his feet at release. I would also guess that the technology is not always perfect…this data is from about the time the NBA began to use this technology.'\n",
    "\n",
    "Look at the 2 point shots that are longer than the maximum 2 pont distance 23.75 feet"
   ]
  },
  {
   "cell_type": "code",
   "execution_count": 14,
   "metadata": {},
   "outputs": [
    {
     "data": {
      "text/html": [
       "490"
      ],
      "text/latex": [
       "490"
      ],
      "text/markdown": [
       "490"
      ],
      "text/plain": [
       "[1] 490"
      ]
     },
     "metadata": {},
     "output_type": "display_data"
    }
   ],
   "source": [
    "nrow(nba_data[nba_data$PTS_TYPE == 2 & nba_data$SHOT_DIST > 23.75,])"
   ]
  },
  {
   "cell_type": "markdown",
   "metadata": {},
   "source": [
    "Change the error 2s to 3s and vice versa "
   ]
  },
  {
   "cell_type": "code",
   "execution_count": 15,
   "metadata": {},
   "outputs": [],
   "source": [
    "# change pts type from 3 to 2 for too short shots\n",
    "nba_data$PTS_TYPE[nba_data$PTS_TYPE == 3 & nba_data$SHOT_DIST < 22] <- 2\n",
    "\n",
    "# pts from 3 to 2 for too short shots\n",
    "nba_data$PTS[nba_data$PTS_TYPE == 3 & nba_data$SHOT_DIST < 22] <- 2"
   ]
  },
  {
   "cell_type": "code",
   "execution_count": 16,
   "metadata": {},
   "outputs": [],
   "source": [
    "# change pts type from 2 to 3 for too long shots\n",
    "nba_data$PTS_TYPE[nba_data$PTS_TYPE == 2 & nba_data$SHOT_DIST > 23.75] <- 3\n",
    "\n",
    "# pts from 2 to 3 for too long shots\n",
    "nba_data$PTS[nba_data$PTS_TYPE == 2 & nba_data$SHOT_DIST > 23.75] <- 3"
   ]
  },
  {
   "cell_type": "markdown",
   "metadata": {},
   "source": [
    "#### game clock is a factor not a numerical value"
   ]
  },
  {
   "cell_type": "code",
   "execution_count": 17,
   "metadata": {},
   "outputs": [],
   "source": [
    "# GAME_CLOCK is a factor, not a numeric vector need to transform it first\n",
    "nba_data$GAME_CLOCK <-as.numeric(nba_data[,'GAME_CLOCK'])"
   ]
  },
  {
   "cell_type": "markdown",
   "metadata": {},
   "source": [
    "## EDA"
   ]
  },
  {
   "cell_type": "code",
   "execution_count": 18,
   "metadata": {},
   "outputs": [
    {
     "data": {
      "text/html": [
       "<table>\n",
       "<thead><tr><th scope=col>GAME_ID</th><th scope=col>DATE</th><th scope=col>HOME_TEAM</th><th scope=col>AWAY_TEAM</th><th scope=col>PLAYER_NAME</th><th scope=col>PLAYER_ID</th><th scope=col>LOCATION</th><th scope=col>W</th><th scope=col>FINAL_MARGIN</th><th scope=col>SHOT_NUMBER</th><th scope=col>...</th><th scope=col>DRIBBLES</th><th scope=col>TOUCH_TIME</th><th scope=col>SHOT_DIST</th><th scope=col>PTS_TYPE</th><th scope=col>SHOT_RESULT</th><th scope=col>CLOSEST_DEFENDER</th><th scope=col>CLOSEST_DEFENDER_ID</th><th scope=col>CLOSE_DEF_DIST</th><th scope=col>FGM</th><th scope=col>PTS</th></tr></thead>\n",
       "<tbody>\n",
       "\t<tr><td>21400001      </td><td>OCT 28, 2014  </td><td>NOP           </td><td>ORL           </td><td>Omer Asik     </td><td>201600        </td><td>H             </td><td>W             </td><td>17            </td><td>1             </td><td>...           </td><td>0             </td><td>0.8           </td><td>3.6           </td><td>2             </td><td>made          </td><td>Nikola Vucevic</td><td>202696        </td><td>1.7           </td><td>1             </td><td>2             </td></tr>\n",
       "\t<tr><td>21400001      </td><td>OCT 28, 2014  </td><td>NOP           </td><td>ORL           </td><td>Omer Asik     </td><td>201600        </td><td>H             </td><td>W             </td><td>17            </td><td>2             </td><td>...           </td><td>1             </td><td>2.9           </td><td>0.9           </td><td>2             </td><td>missed        </td><td>Kyle O'Quinn  </td><td>203124        </td><td>2.0           </td><td>0             </td><td>0             </td></tr>\n",
       "\t<tr><td>21400001      </td><td>OCT 28, 2014  </td><td>NOP           </td><td>ORL           </td><td>Omer Asik     </td><td>201600        </td><td>H             </td><td>W             </td><td>17            </td><td>3             </td><td>...           </td><td>0             </td><td>0.6           </td><td>0.8           </td><td>2             </td><td>made          </td><td>Tobias Harris </td><td>202699        </td><td>2.6           </td><td>1             </td><td>2             </td></tr>\n",
       "\t<tr><td>21400001      </td><td>OCT 28, 2014  </td><td>NOP           </td><td>ORL           </td><td>Omer Asik     </td><td>201600        </td><td>H             </td><td>W             </td><td>17            </td><td>4             </td><td>...           </td><td>0             </td><td>0.6           </td><td>3.4           </td><td>2             </td><td>missed        </td><td>Evan Fournier </td><td>203095        </td><td>1.5           </td><td>0             </td><td>0             </td></tr>\n",
       "\t<tr><td>21400001      </td><td>OCT 28, 2014  </td><td>NOP           </td><td>ORL           </td><td>Omer Asik     </td><td>201600        </td><td>H             </td><td>W             </td><td>17            </td><td>5             </td><td>...           </td><td>0             </td><td>0.8           </td><td>2.6           </td><td>2             </td><td>made          </td><td>Dewayne Dedmon</td><td>203473        </td><td>4.5           </td><td>1             </td><td>2             </td></tr>\n",
       "\t<tr><td>21400001      </td><td>OCT 28, 2014  </td><td>NOP           </td><td>ORL           </td><td>Omer Asik     </td><td>201600        </td><td>H             </td><td>W             </td><td>17            </td><td>6             </td><td>...           </td><td>0             </td><td>1.1           </td><td>2.7           </td><td>2             </td><td>made          </td><td>Dewayne Dedmon</td><td>203473        </td><td>1.7           </td><td>1             </td><td>2             </td></tr>\n",
       "</tbody>\n",
       "</table>\n"
      ],
      "text/latex": [
       "\\begin{tabular}{r|lllllllllllllllllllllll}\n",
       " GAME\\_ID & DATE & HOME\\_TEAM & AWAY\\_TEAM & PLAYER\\_NAME & PLAYER\\_ID & LOCATION & W & FINAL\\_MARGIN & SHOT\\_NUMBER & ... & DRIBBLES & TOUCH\\_TIME & SHOT\\_DIST & PTS\\_TYPE & SHOT\\_RESULT & CLOSEST\\_DEFENDER & CLOSEST\\_DEFENDER\\_ID & CLOSE\\_DEF\\_DIST & FGM & PTS\\\\\n",
       "\\hline\n",
       "\t 21400001       & OCT 28, 2014   & NOP            & ORL            & Omer Asik      & 201600         & H              & W              & 17             & 1              & ...            & 0              & 0.8            & 3.6            & 2              & made           & Nikola Vucevic & 202696         & 1.7            & 1              & 2             \\\\\n",
       "\t 21400001       & OCT 28, 2014   & NOP            & ORL            & Omer Asik      & 201600         & H              & W              & 17             & 2              & ...            & 1              & 2.9            & 0.9            & 2              & missed         & Kyle O'Quinn   & 203124         & 2.0            & 0              & 0             \\\\\n",
       "\t 21400001       & OCT 28, 2014   & NOP            & ORL            & Omer Asik      & 201600         & H              & W              & 17             & 3              & ...            & 0              & 0.6            & 0.8            & 2              & made           & Tobias Harris  & 202699         & 2.6            & 1              & 2             \\\\\n",
       "\t 21400001       & OCT 28, 2014   & NOP            & ORL            & Omer Asik      & 201600         & H              & W              & 17             & 4              & ...            & 0              & 0.6            & 3.4            & 2              & missed         & Evan Fournier  & 203095         & 1.5            & 0              & 0             \\\\\n",
       "\t 21400001       & OCT 28, 2014   & NOP            & ORL            & Omer Asik      & 201600         & H              & W              & 17             & 5              & ...            & 0              & 0.8            & 2.6            & 2              & made           & Dewayne Dedmon & 203473         & 4.5            & 1              & 2             \\\\\n",
       "\t 21400001       & OCT 28, 2014   & NOP            & ORL            & Omer Asik      & 201600         & H              & W              & 17             & 6              & ...            & 0              & 1.1            & 2.7            & 2              & made           & Dewayne Dedmon & 203473         & 1.7            & 1              & 2             \\\\\n",
       "\\end{tabular}\n"
      ],
      "text/markdown": [
       "\n",
       "| GAME_ID | DATE | HOME_TEAM | AWAY_TEAM | PLAYER_NAME | PLAYER_ID | LOCATION | W | FINAL_MARGIN | SHOT_NUMBER | ... | DRIBBLES | TOUCH_TIME | SHOT_DIST | PTS_TYPE | SHOT_RESULT | CLOSEST_DEFENDER | CLOSEST_DEFENDER_ID | CLOSE_DEF_DIST | FGM | PTS |\n",
       "|---|---|---|---|---|---|---|---|---|---|---|---|---|---|---|---|---|---|---|---|---|\n",
       "| 21400001       | OCT 28, 2014   | NOP            | ORL            | Omer Asik      | 201600         | H              | W              | 17             | 1              | ...            | 0              | 0.8            | 3.6            | 2              | made           | Nikola Vucevic | 202696         | 1.7            | 1              | 2              |\n",
       "| 21400001       | OCT 28, 2014   | NOP            | ORL            | Omer Asik      | 201600         | H              | W              | 17             | 2              | ...            | 1              | 2.9            | 0.9            | 2              | missed         | Kyle O'Quinn   | 203124         | 2.0            | 0              | 0              |\n",
       "| 21400001       | OCT 28, 2014   | NOP            | ORL            | Omer Asik      | 201600         | H              | W              | 17             | 3              | ...            | 0              | 0.6            | 0.8            | 2              | made           | Tobias Harris  | 202699         | 2.6            | 1              | 2              |\n",
       "| 21400001       | OCT 28, 2014   | NOP            | ORL            | Omer Asik      | 201600         | H              | W              | 17             | 4              | ...            | 0              | 0.6            | 3.4            | 2              | missed         | Evan Fournier  | 203095         | 1.5            | 0              | 0              |\n",
       "| 21400001       | OCT 28, 2014   | NOP            | ORL            | Omer Asik      | 201600         | H              | W              | 17             | 5              | ...            | 0              | 0.8            | 2.6            | 2              | made           | Dewayne Dedmon | 203473         | 4.5            | 1              | 2              |\n",
       "| 21400001       | OCT 28, 2014   | NOP            | ORL            | Omer Asik      | 201600         | H              | W              | 17             | 6              | ...            | 0              | 1.1            | 2.7            | 2              | made           | Dewayne Dedmon | 203473         | 1.7            | 1              | 2              |\n",
       "\n"
      ],
      "text/plain": [
       "  GAME_ID  DATE         HOME_TEAM AWAY_TEAM PLAYER_NAME PLAYER_ID LOCATION W\n",
       "1 21400001 OCT 28, 2014 NOP       ORL       Omer Asik   201600    H        W\n",
       "2 21400001 OCT 28, 2014 NOP       ORL       Omer Asik   201600    H        W\n",
       "3 21400001 OCT 28, 2014 NOP       ORL       Omer Asik   201600    H        W\n",
       "4 21400001 OCT 28, 2014 NOP       ORL       Omer Asik   201600    H        W\n",
       "5 21400001 OCT 28, 2014 NOP       ORL       Omer Asik   201600    H        W\n",
       "6 21400001 OCT 28, 2014 NOP       ORL       Omer Asik   201600    H        W\n",
       "  FINAL_MARGIN SHOT_NUMBER ... DRIBBLES TOUCH_TIME SHOT_DIST PTS_TYPE\n",
       "1 17           1           ... 0        0.8        3.6       2       \n",
       "2 17           2           ... 1        2.9        0.9       2       \n",
       "3 17           3           ... 0        0.6        0.8       2       \n",
       "4 17           4           ... 0        0.6        3.4       2       \n",
       "5 17           5           ... 0        0.8        2.6       2       \n",
       "6 17           6           ... 0        1.1        2.7       2       \n",
       "  SHOT_RESULT CLOSEST_DEFENDER CLOSEST_DEFENDER_ID CLOSE_DEF_DIST FGM PTS\n",
       "1 made        Nikola Vucevic   202696              1.7            1   2  \n",
       "2 missed      Kyle O'Quinn     203124              2.0            0   0  \n",
       "3 made        Tobias Harris    202699              2.6            1   2  \n",
       "4 missed      Evan Fournier    203095              1.5            0   0  \n",
       "5 made        Dewayne Dedmon   203473              4.5            1   2  \n",
       "6 made        Dewayne Dedmon   203473              1.7            1   2  "
      ]
     },
     "metadata": {},
     "output_type": "display_data"
    },
    {
     "data": {
      "text/html": [
       "<dl class=dl-horizontal>\n",
       "\t<dt>GAME_ID</dt>\n",
       "\t\t<dd>'integer'</dd>\n",
       "\t<dt>DATE</dt>\n",
       "\t\t<dd>'factor'</dd>\n",
       "\t<dt>HOME_TEAM</dt>\n",
       "\t\t<dd>'factor'</dd>\n",
       "\t<dt>AWAY_TEAM</dt>\n",
       "\t\t<dd>'factor'</dd>\n",
       "\t<dt>PLAYER_NAME</dt>\n",
       "\t\t<dd>'factor'</dd>\n",
       "\t<dt>PLAYER_ID</dt>\n",
       "\t\t<dd>'integer'</dd>\n",
       "\t<dt>LOCATION</dt>\n",
       "\t\t<dd>'factor'</dd>\n",
       "\t<dt>W</dt>\n",
       "\t\t<dd>'factor'</dd>\n",
       "\t<dt>FINAL_MARGIN</dt>\n",
       "\t\t<dd>'integer'</dd>\n",
       "\t<dt>SHOT_NUMBER</dt>\n",
       "\t\t<dd>'integer'</dd>\n",
       "\t<dt>PERIOD</dt>\n",
       "\t\t<dd>'integer'</dd>\n",
       "\t<dt>GAME_CLOCK</dt>\n",
       "\t\t<dd>'numeric'</dd>\n",
       "\t<dt>SHOT_CLOCK</dt>\n",
       "\t\t<dd>'numeric'</dd>\n",
       "\t<dt>DRIBBLES</dt>\n",
       "\t\t<dd>'integer'</dd>\n",
       "\t<dt>TOUCH_TIME</dt>\n",
       "\t\t<dd>'numeric'</dd>\n",
       "\t<dt>SHOT_DIST</dt>\n",
       "\t\t<dd>'numeric'</dd>\n",
       "\t<dt>PTS_TYPE</dt>\n",
       "\t\t<dd>'numeric'</dd>\n",
       "\t<dt>SHOT_RESULT</dt>\n",
       "\t\t<dd>'factor'</dd>\n",
       "\t<dt>CLOSEST_DEFENDER</dt>\n",
       "\t\t<dd>'factor'</dd>\n",
       "\t<dt>CLOSEST_DEFENDER_ID</dt>\n",
       "\t\t<dd>'integer'</dd>\n",
       "\t<dt>CLOSE_DEF_DIST</dt>\n",
       "\t\t<dd>'numeric'</dd>\n",
       "\t<dt>FGM</dt>\n",
       "\t\t<dd>'integer'</dd>\n",
       "\t<dt>PTS</dt>\n",
       "\t\t<dd>'numeric'</dd>\n",
       "</dl>\n"
      ],
      "text/latex": [
       "\\begin{description*}\n",
       "\\item[GAME\\textbackslash{}\\_ID] 'integer'\n",
       "\\item[DATE] 'factor'\n",
       "\\item[HOME\\textbackslash{}\\_TEAM] 'factor'\n",
       "\\item[AWAY\\textbackslash{}\\_TEAM] 'factor'\n",
       "\\item[PLAYER\\textbackslash{}\\_NAME] 'factor'\n",
       "\\item[PLAYER\\textbackslash{}\\_ID] 'integer'\n",
       "\\item[LOCATION] 'factor'\n",
       "\\item[W] 'factor'\n",
       "\\item[FINAL\\textbackslash{}\\_MARGIN] 'integer'\n",
       "\\item[SHOT\\textbackslash{}\\_NUMBER] 'integer'\n",
       "\\item[PERIOD] 'integer'\n",
       "\\item[GAME\\textbackslash{}\\_CLOCK] 'numeric'\n",
       "\\item[SHOT\\textbackslash{}\\_CLOCK] 'numeric'\n",
       "\\item[DRIBBLES] 'integer'\n",
       "\\item[TOUCH\\textbackslash{}\\_TIME] 'numeric'\n",
       "\\item[SHOT\\textbackslash{}\\_DIST] 'numeric'\n",
       "\\item[PTS\\textbackslash{}\\_TYPE] 'numeric'\n",
       "\\item[SHOT\\textbackslash{}\\_RESULT] 'factor'\n",
       "\\item[CLOSEST\\textbackslash{}\\_DEFENDER] 'factor'\n",
       "\\item[CLOSEST\\textbackslash{}\\_DEFENDER\\textbackslash{}\\_ID] 'integer'\n",
       "\\item[CLOSE\\textbackslash{}\\_DEF\\textbackslash{}\\_DIST] 'numeric'\n",
       "\\item[FGM] 'integer'\n",
       "\\item[PTS] 'numeric'\n",
       "\\end{description*}\n"
      ],
      "text/markdown": [
       "GAME_ID\n",
       ":   'integer'DATE\n",
       ":   'factor'HOME_TEAM\n",
       ":   'factor'AWAY_TEAM\n",
       ":   'factor'PLAYER_NAME\n",
       ":   'factor'PLAYER_ID\n",
       ":   'integer'LOCATION\n",
       ":   'factor'W\n",
       ":   'factor'FINAL_MARGIN\n",
       ":   'integer'SHOT_NUMBER\n",
       ":   'integer'PERIOD\n",
       ":   'integer'GAME_CLOCK\n",
       ":   'numeric'SHOT_CLOCK\n",
       ":   'numeric'DRIBBLES\n",
       ":   'integer'TOUCH_TIME\n",
       ":   'numeric'SHOT_DIST\n",
       ":   'numeric'PTS_TYPE\n",
       ":   'numeric'SHOT_RESULT\n",
       ":   'factor'CLOSEST_DEFENDER\n",
       ":   'factor'CLOSEST_DEFENDER_ID\n",
       ":   'integer'CLOSE_DEF_DIST\n",
       ":   'numeric'FGM\n",
       ":   'integer'PTS\n",
       ":   'numeric'\n",
       "\n"
      ],
      "text/plain": [
       "            GAME_ID                DATE           HOME_TEAM           AWAY_TEAM \n",
       "          \"integer\"            \"factor\"            \"factor\"            \"factor\" \n",
       "        PLAYER_NAME           PLAYER_ID            LOCATION                   W \n",
       "           \"factor\"           \"integer\"            \"factor\"            \"factor\" \n",
       "       FINAL_MARGIN         SHOT_NUMBER              PERIOD          GAME_CLOCK \n",
       "          \"integer\"           \"integer\"           \"integer\"           \"numeric\" \n",
       "         SHOT_CLOCK            DRIBBLES          TOUCH_TIME           SHOT_DIST \n",
       "          \"numeric\"           \"integer\"           \"numeric\"           \"numeric\" \n",
       "           PTS_TYPE         SHOT_RESULT    CLOSEST_DEFENDER CLOSEST_DEFENDER_ID \n",
       "          \"numeric\"            \"factor\"            \"factor\"           \"integer\" \n",
       "     CLOSE_DEF_DIST                 FGM                 PTS \n",
       "          \"numeric\"           \"integer\"           \"numeric\" "
      ]
     },
     "metadata": {},
     "output_type": "display_data"
    },
    {
     "data": {
      "text/html": [
       "124707"
      ],
      "text/latex": [
       "124707"
      ],
      "text/markdown": [
       "124707"
      ],
      "text/plain": [
       "[1] 124707"
      ]
     },
     "metadata": {},
     "output_type": "display_data"
    },
    {
     "data": {
      "text/html": [
       "23"
      ],
      "text/latex": [
       "23"
      ],
      "text/markdown": [
       "23"
      ],
      "text/plain": [
       "[1] 23"
      ]
     },
     "metadata": {},
     "output_type": "display_data"
    },
    {
     "data": {
      "text/plain": [
       "    GAME_ID                   DATE          HOME_TEAM       AWAY_TEAM    \n",
       " Min.   :21400001   JAN 07, 2015:  1897   SAC    : 4771   PHX    : 4666  \n",
       " 1st Qu.:21400234   JAN 16, 2015:  1821   CHI    : 4692   GSW    : 4648  \n",
       " Median :21400449   NOV 26, 2014:  1773   ATL    : 4592   LAL    : 4534  \n",
       " Mean   :21400452   FEB 27, 2015:  1744   LAC    : 4577   IND    : 4519  \n",
       " 3rd Qu.:21400673   DEC 12, 2014:  1741   WAS    : 4543   SAS    : 4488  \n",
       " Max.   :21400908   JAN 21, 2015:  1730   BOS    : 4510   BKN    : 4468  \n",
       "                    (Other)     :114001   (Other):97022   (Other):97384  \n",
       "            PLAYER_NAME       PLAYER_ID      LOCATION  W        \n",
       " Mnta Ellis       :  1043   Min.   :   708   A:62457   L:61770  \n",
       " James Harden     :  1042   1st Qu.:101162   H:62250   W:62937  \n",
       " Lamarcus Aldridge:  1005   Median :201939                      \n",
       " Damian Lillard   :   976   Mean   :157107                      \n",
       " Klay Thompson    :   963   3rd Qu.:202704                      \n",
       " Lebron James     :   958   Max.   :204060                      \n",
       " (Other)          :118720                                       \n",
       "  FINAL_MARGIN      SHOT_NUMBER         PERIOD        GAME_CLOCK   \n",
       " Min.   :-53.000   Min.   : 1.000   Min.   :1.000   Min.   :  1.0  \n",
       " 1st Qu.: -8.000   1st Qu.: 3.000   1st Qu.:1.000   1st Qu.:172.0  \n",
       " Median :  1.000   Median : 5.000   Median :2.000   Median :363.0  \n",
       " Mean   :  0.213   Mean   : 6.502   Mean   :2.469   Mean   :358.5  \n",
       " 3rd Qu.:  9.000   3rd Qu.: 9.000   3rd Qu.:3.000   3rd Qu.:541.0  \n",
       " Max.   : 53.000   Max.   :38.000   Max.   :7.000   Max.   :719.0  \n",
       "                                                                   \n",
       "   SHOT_CLOCK       DRIBBLES        TOUCH_TIME       SHOT_DIST    \n",
       " Min.   : 0.00   Min.   : 0.000   Min.   : 0.100   Min.   : 0.00  \n",
       " 1st Qu.: 8.30   1st Qu.: 0.000   1st Qu.: 0.900   1st Qu.: 4.90  \n",
       " Median :12.45   Median : 1.000   Median : 1.700   Median :14.10  \n",
       " Mean   :12.33   Mean   : 2.077   Mean   : 2.846   Mean   :13.75  \n",
       " 3rd Qu.:16.20   3rd Qu.: 3.000   3rd Qu.: 3.800   3rd Qu.:22.60  \n",
       " Max.   :24.00   Max.   :32.000   Max.   :24.000   Max.   :47.20  \n",
       "                                                                  \n",
       "    PTS_TYPE     SHOT_RESULT          CLOSEST_DEFENDER  CLOSEST_DEFENDER_ID\n",
       " Min.   :2.000   made  :56353   Serge Ibaka   :   791   Min.   :   708     \n",
       " 1st Qu.:2.000   missed:68354   DeAndre Jordan:   774   1st Qu.:200745     \n",
       " Median :2.000                  Paul Millsap  :   727   Median :201949     \n",
       " Mean   :2.267                  Draymond Green:   725   Mean   :159109     \n",
       " 3rd Qu.:3.000                  Pau Gasol     :   717   3rd Qu.:203079     \n",
       " Max.   :3.000                  Channing Frye :   680   Max.   :530027     \n",
       "                                (Other)       :120293                      \n",
       " CLOSE_DEF_DIST        FGM              PTS        \n",
       " Min.   : 0.000   Min.   :0.0000   Min.   :0.0000  \n",
       " 1st Qu.: 2.300   1st Qu.:0.0000   1st Qu.:0.0000  \n",
       " Median : 3.700   Median :0.0000   Median :0.0000  \n",
       " Mean   : 4.145   Mean   :0.4519   Mean   :0.9988  \n",
       " 3rd Qu.: 5.300   3rd Qu.:1.0000   3rd Qu.:2.0000  \n",
       " Max.   :53.200   Max.   :1.0000   Max.   :3.0000  \n",
       "                                                   "
      ]
     },
     "metadata": {},
     "output_type": "display_data"
    }
   ],
   "source": [
    "head(nba_data)\n",
    "sapply(nba_data, class)\n",
    "nrow(nba_data)\n",
    "ncol(nba_data)\n",
    "summary(nba_data)"
   ]
  },
  {
   "cell_type": "markdown",
   "metadata": {},
   "source": [
    "## Visual EDA\n",
    "\n",
    "### 3 point made 3 point attempted plot\n",
    "\n",
    "plot a graph of 3 point percentage vs 3 point attempts for each player"
   ]
  },
  {
   "cell_type": "code",
   "execution_count": 19,
   "metadata": {},
   "outputs": [],
   "source": [
    "columns <- c('PLAYER_NAME')\n",
    "three_attempts <- nba_data[nba_data$PTS_TYPE == 3, columns]\n",
    "three_made <- nba_data[nba_data$PTS_TYPE == 3 & nba_data$FGM == 1, columns]\n",
    "player_attempts <- as.data.frame(table(three_attempts))\n",
    "player_made <- as.data.frame(table(three_made))\n"
   ]
  },
  {
   "cell_type": "markdown",
   "metadata": {},
   "source": [
    "Rate Statistic Requirements(https://www.basketball-reference.com/about/rate_stat_req.html)\n",
    "\n",
    "To qualify for three-point field goal percentage (3P%) the following minimums are required:\n",
    "2013-14 to present NBA  82 3P\n",
    "\n",
    "i.e the player must have at least 82 three-point field goals made."
   ]
  },
  {
   "cell_type": "code",
   "execution_count": 20,
   "metadata": {},
   "outputs": [],
   "source": [
    "triple_df <- data.frame(player_attempts[,1], player_made[,2], player_attempts[,2])\n",
    "triple_df <- transform(triple_df, percentage = player_made[,2]/player_attempts[,2])\n",
    "#subset so 3 pointers made >= 82\n",
    "triple_df <- triple_df[triple_df[,2]>=82,]"
   ]
  },
  {
   "cell_type": "code",
   "execution_count": 21,
   "metadata": {},
   "outputs": [
    {
     "data": {
      "image/png": "[encoded data removed]",
      "text/plain": [
       "plot without title"
      ]
     },
     "metadata": {},
     "output_type": "display_data"
    }
   ],
   "source": [
    "#plot the data \n",
    "plot(triple_df[,3],triple_df[,4],col= \"blue\", pch = 19, cex = 1, lty = \"solid\", lwd = 2,xlim= c(200,470), xlab=('\n",
    "3 point attempts'), ylab=('3 point percentage'))\n",
    "text(triple_df[,3],triple_df[,4], labels=triple_df[,1], cex=0.7, pos=1)"
   ]
  },
  {
   "cell_type": "code",
   "execution_count": 22,
   "metadata": {},
   "outputs": [],
   "source": [
    "#install.packages('dplyr')\n",
    "#install.packages('hrbrthemes')\n",
    "#install.packages('viridis')"
   ]
  },
  {
   "cell_type": "code",
   "execution_count": 1,
   "metadata": {
    "scrolled": false
   },
   "outputs": [
    {
     "ename": "ERROR",
     "evalue": "Error in triple_df %>% ggplot(aes(x = triple_df[, 3], y = triple_df[, : could not find function \"%>%\"\n",
     "output_type": "error",
     "traceback": [
      "Error in triple_df %>% ggplot(aes(x = triple_df[, 3], y = triple_df[, : could not find function \"%>%\"\nTraceback:\n"
     ]
    }
   ],
   "source": [
    "\n",
    "\n",
    "# bubble plot\n",
    "triple_df %>%\n",
    "  ggplot(aes(x=triple_df[,3], y=triple_df[,4])) +\n",
    "    geom_point(aes(x=triple_df[,3], y=triple_df[,4], size = triple_df[,2],\n",
    "                   color=triple_df[,2]),alpha=0.7) +\n",
    "    scale_size(range = c(.0001, 15), name=\"3 Point Shots Made\") +\n",
    "    geom_text(aes(x=triple_df[,3], y=triple_df[,4], label = triple_df[,1]),\n",
    "         size = 3,)+\n",
    "    ylab(\"3 Point Percentage\") +\n",
    "    xlab(\"3 Point Attempts\") +\n",
    "    xlim(200,460) +\n",
    "    theme(legend.position = \"none\")\n"
   ]
  },
  {
   "cell_type": "code",
   "execution_count": 24,
   "metadata": {},
   "outputs": [
    {
     "data": {
      "image/png": "[encoded data removed]",
      "text/plain": [
       "plot without title"
      ]
     },
     "metadata": {},
     "output_type": "display_data"
    }
   ],
   "source": [
    "options(repr.plot.width=7, repr.plot.height=5)\n",
    "\n",
    "#subset to get players with more than 350 attempts\n",
    "triple_df <- triple_df[triple_df[,3]>=350,]\n",
    "\n",
    "ggplot(triple_df)  + \n",
    "    geom_bar(aes(x=triple_df[,1], y=triple_df[,3]),stat=\"identity\", fill=\"tan1\", colour=\"sienna3\")+\n",
    "    geom_line(aes(x=triple_df[,1], y=triple_df[,4]*800,group=1))+\n",
    "    #geom_text(aes(label=triple_df[,1], x=triple_df[,3], y=Rate*max(df$Response)), colour=\"black\")+\n",
    "    #geom_text(aes(label=Response, x=Year, y=0.95*Response), colour=\"black\")+\n",
    "    scale_y_continuous(sec.axis = sec_axis(~./800))"
   ]
  },
  {
   "cell_type": "markdown",
   "metadata": {},
   "source": [
    "### Contested makes "
   ]
  },
  {
   "cell_type": "code",
   "execution_count": 25,
   "metadata": {},
   "outputs": [],
   "source": [
    "# subset nba data to get the shooting player and the fgm\n",
    "def <- c('PLAYER_NAME','FGM', 'CLOSE_DEF_DIST','PTS_TYPE')\n",
    "def_df <- nba_data[,def]"
   ]
  },
  {
   "cell_type": "markdown",
   "metadata": {},
   "source": [
    "According to NBA.com/stats, a \"wide open\" 3-pointer happens with six or more feet of room between the shooter and the defender. An \"open\" 3-pointer happens with 4-6 feet of room, a \"tightly\" contested 3-pointer comes with 2-4 feet of room and a \"very tightly\" contested 3-pointer comes with 0-2 feet of room.\n",
    "\n",
    "Therefore I will delete data with CLOSE_DEF_DIST > 6 feet, as the defender is not really affecting the shot."
   ]
  },
  {
   "cell_type": "code",
   "execution_count": 26,
   "metadata": {},
   "outputs": [],
   "source": [
    "# subset to get contested made 3 point shots\n",
    "def_df <- def_df[def_df$CLOSE_DEF_DIST < 6 & def_df$PTS_TYPE == 3 &\n",
    "                 def_df$FGM == 1,]"
   ]
  },
  {
   "cell_type": "code",
   "execution_count": 27,
   "metadata": {},
   "outputs": [
    {
     "data": {
      "image/png": "[encoded data removed]",
      "text/plain": [
       "plot without title"
      ]
     },
     "metadata": {},
     "output_type": "display_data"
    }
   ],
   "source": [
    "# count the number of shots affected by each player \n",
    "contest_df <- as.data.frame(table(def_df[,1]))\n",
    "\n",
    "#plot in histogram\n",
    "ggplot(contest_df, aes(x=contest_df[,2])) + \n",
    "  geom_histogram(binwidth=15, fill=\"gold4\", color=\"#e9ecef\", alpha=0.7,position = 'identity') +\n",
    "   ylab(\"Frequency\") +\n",
    "    xlab(\"3 Point Contested Shots Made\") +\n",
    "    ggtitle(\"Histogram of 3 Point Contested Shots Made for the NBA\") +\n",
    "    geom_vline(aes(xintercept = 112.5),colour = 'royalblue1',linetype=\"dotted\")\n"
   ]
  },
  {
   "cell_type": "code",
   "execution_count": 28,
   "metadata": {},
   "outputs": [
    {
     "data": {
      "text/html": [
       "<table>\n",
       "<thead><tr><th></th><th scope=col>Var1</th><th scope=col>Freq</th></tr></thead>\n",
       "<tbody>\n",
       "\t<tr><th scope=row>109</th><td>James Harden </td><td>123          </td></tr>\n",
       "\t<tr><th scope=row>158</th><td>Klay Thompson</td><td>125          </td></tr>\n",
       "\t<tr><th scope=row>163</th><td>Kyle Korver  </td><td>116          </td></tr>\n",
       "\t<tr><th scope=row>248</th><td>Stephen Curry</td><td>117          </td></tr>\n",
       "</tbody>\n",
       "</table>\n"
      ],
      "text/latex": [
       "\\begin{tabular}{r|ll}\n",
       "  & Var1 & Freq\\\\\n",
       "\\hline\n",
       "\t109 & James Harden  & 123          \\\\\n",
       "\t158 & Klay Thompson & 125          \\\\\n",
       "\t163 & Kyle Korver   & 116          \\\\\n",
       "\t248 & Stephen Curry & 117          \\\\\n",
       "\\end{tabular}\n"
      ],
      "text/markdown": [
       "\n",
       "| <!--/--> | Var1 | Freq |\n",
       "|---|---|---|\n",
       "| 109 | James Harden  | 123           |\n",
       "| 158 | Klay Thompson | 125           |\n",
       "| 163 | Kyle Korver   | 116           |\n",
       "| 248 | Stephen Curry | 117           |\n",
       "\n"
      ],
      "text/plain": [
       "    Var1          Freq\n",
       "109 James Harden  123 \n",
       "158 Klay Thompson 125 \n",
       "163 Kyle Korver   116 \n",
       "248 Stephen Curry 117 "
      ]
     },
     "metadata": {},
     "output_type": "display_data"
    }
   ],
   "source": [
    "#subset for the best defenders\n",
    "bestdef_df <- contest_df[contest_df$Freq > 101,]\n",
    "bestdef_df"
   ]
  },
  {
   "cell_type": "markdown",
   "metadata": {},
   "source": [
    "### Points per shot "
   ]
  },
  {
   "cell_type": "code",
   "execution_count": 163,
   "metadata": {},
   "outputs": [
    {
     "data": {
      "image/png": "[encoded data removed]",
      "text/plain": [
       "plot without title"
      ]
     },
     "metadata": {},
     "output_type": "display_data"
    }
   ],
   "source": [
    "# nba points scored\n",
    "nba_points <- (nba_data[,c('PLAYER_NAME','PTS')])\n",
    "# add all the points scored \n",
    "nba_points <- aggregate(nba_points$PTS,by=list(Category=nba_points$PLAYER_NAME), FUN=sum)\n",
    "#nba number of attempts\n",
    "nba_attempts <- data.frame(table(nba_data[,'PLAYER_NAME']))\n",
    "nba_points$attempts <- nba_attempts[,2]\n",
    "# calculate pps\n",
    "nba_points$nba_pps <- nba_points[,2] / nba_points[,3]\n",
    "# plot histogram\n",
    "ggplot(nba_points, aes(x=nba_points[,4])) + \n",
    "  geom_histogram(binwidth=0.10, fill=\"gold4\", color=\"#e9ecef\", alpha=0.7,position = 'identity') +\n",
    "   ylab(\"Frequency\") +\n",
    "    xlab(\"Points per shot\") +\n",
    "    ggtitle(\"Histogram of the Points Per Shot for the NBA\") +\n",
    "    geom_vline(aes(xintercept = 1.17),colour = 'royalblue1',linetype=\"dotted\")"
   ]
  },
  {
   "cell_type": "code",
   "execution_count": 181,
   "metadata": {},
   "outputs": [
    {
     "data": {
      "text/html": [
       "<table>\n",
       "<thead><tr><th scope=col>Category</th><th scope=col>nba_pps</th></tr></thead>\n",
       "<tbody>\n",
       "\t<tr><td>Deandre Jordan</td><td>1.424936      </td></tr>\n",
       "\t<tr><td>Tyson Chandler</td><td>1.352941      </td></tr>\n",
       "\t<tr><td>Kyle Korver   </td><td>1.351464      </td></tr>\n",
       "\t<tr><td>Luke Babbitt  </td><td>1.269231      </td></tr>\n",
       "\t<tr><td>James Johnson </td><td>1.260450      </td></tr>\n",
       "\t<tr><td>Rudy Gobert   </td><td>1.250936      </td></tr>\n",
       "\t<tr><td>Greg Smith    </td><td>1.234043      </td></tr>\n",
       "\t<tr><td>Ed Davis      </td><td>1.205714      </td></tr>\n",
       "\t<tr><td>Alexis Ajinca </td><td>1.194313      </td></tr>\n",
       "\t<tr><td>Amir Johnson  </td><td>1.194030      </td></tr>\n",
       "\t<tr><td>Chris Andersen</td><td>1.183824      </td></tr>\n",
       "\t<tr><td>Mason Plumlee </td><td>1.171216      </td></tr>\n",
       "\t<tr><td>Stephen Curry </td><td>1.167355      </td></tr>\n",
       "\t<tr><td>Hedo Turkoglu </td><td>1.166667      </td></tr>\n",
       "\t<tr><td>John Henson   </td><td>1.161826      </td></tr>\n",
       "</tbody>\n",
       "</table>\n"
      ],
      "text/latex": [
       "\\begin{tabular}{r|ll}\n",
       " Category & nba\\_pps\\\\\n",
       "\\hline\n",
       "\t Deandre Jordan & 1.424936      \\\\\n",
       "\t Tyson Chandler & 1.352941      \\\\\n",
       "\t Kyle Korver    & 1.351464      \\\\\n",
       "\t Luke Babbitt   & 1.269231      \\\\\n",
       "\t James Johnson  & 1.260450      \\\\\n",
       "\t Rudy Gobert    & 1.250936      \\\\\n",
       "\t Greg Smith     & 1.234043      \\\\\n",
       "\t Ed Davis       & 1.205714      \\\\\n",
       "\t Alexis Ajinca  & 1.194313      \\\\\n",
       "\t Amir Johnson   & 1.194030      \\\\\n",
       "\t Chris Andersen & 1.183824      \\\\\n",
       "\t Mason Plumlee  & 1.171216      \\\\\n",
       "\t Stephen Curry  & 1.167355      \\\\\n",
       "\t Hedo Turkoglu  & 1.166667      \\\\\n",
       "\t John Henson    & 1.161826      \\\\\n",
       "\\end{tabular}\n"
      ],
      "text/markdown": [
       "\n",
       "| Category | nba_pps |\n",
       "|---|---|\n",
       "| Deandre Jordan | 1.424936       |\n",
       "| Tyson Chandler | 1.352941       |\n",
       "| Kyle Korver    | 1.351464       |\n",
       "| Luke Babbitt   | 1.269231       |\n",
       "| James Johnson  | 1.260450       |\n",
       "| Rudy Gobert    | 1.250936       |\n",
       "| Greg Smith     | 1.234043       |\n",
       "| Ed Davis       | 1.205714       |\n",
       "| Alexis Ajinca  | 1.194313       |\n",
       "| Amir Johnson   | 1.194030       |\n",
       "| Chris Andersen | 1.183824       |\n",
       "| Mason Plumlee  | 1.171216       |\n",
       "| Stephen Curry  | 1.167355       |\n",
       "| Hedo Turkoglu  | 1.166667       |\n",
       "| John Henson    | 1.161826       |\n",
       "\n"
      ],
      "text/plain": [
       "   Category       nba_pps \n",
       "1  Deandre Jordan 1.424936\n",
       "2  Tyson Chandler 1.352941\n",
       "3  Kyle Korver    1.351464\n",
       "4  Luke Babbitt   1.269231\n",
       "5  James Johnson  1.260450\n",
       "6  Rudy Gobert    1.250936\n",
       "7  Greg Smith     1.234043\n",
       "8  Ed Davis       1.205714\n",
       "9  Alexis Ajinca  1.194313\n",
       "10 Amir Johnson   1.194030\n",
       "11 Chris Andersen 1.183824\n",
       "12 Mason Plumlee  1.171216\n",
       "13 Stephen Curry  1.167355\n",
       "14 Hedo Turkoglu  1.166667\n",
       "15 John Henson    1.161826"
      ]
     },
     "metadata": {},
     "output_type": "display_data"
    }
   ],
   "source": [
    "top15 <- nba_points[nba_points$nba_pps > 1.160,]\n",
    "top15 <- top15[,c(1,4)]\n",
    "ranked <- top15[order(-as.numeric(top15[,2])),]\n",
    "ranked$rank <- NA\n",
    "ranked$rank <- 1:nrow(ranked)\n",
    "data.frame(ranked[1:15,1:2],row.names=ranked[,3])"
   ]
  },
  {
   "cell_type": "markdown",
   "metadata": {},
   "source": [
    "### Shot distance"
   ]
  },
  {
   "cell_type": "code",
   "execution_count": 30,
   "metadata": {},
   "outputs": [
    {
     "data": {
      "image/png": "[encoded data removed]",
      "text/plain": [
       "Plot with title \"Histogram of shot_dist\""
      ]
     },
     "metadata": {},
     "output_type": "display_data"
    }
   ],
   "source": [
    "shot_dist <- nba_data[,'SHOT_DIST']\n",
    "hist(shot_dist)\n",
    "#minimum 3 point distance \n",
    "abline(v=22, lty=3, lwd=3, col='seagreen')"
   ]
  },
  {
   "cell_type": "code",
   "execution_count": 31,
   "metadata": {},
   "outputs": [
    {
     "data": {
      "image/png": "[encoded data removed]",
      "text/plain": [
       "plot without title"
      ]
     },
     "metadata": {},
     "output_type": "display_data"
    }
   ],
   "source": [
    "shot_dist_fgm <- nba_data[,c('SHOT_DIST', 'FGM')]\n",
    "\n",
    "#find amount of shots made and missed from each distance\n",
    "shot_dist_made <- shot_dist_fgm[shot_dist_fgm$FGM == 1, 'SHOT_DIST']\n",
    "shot_dist_made <- as.data.frame(table(shot_dist_made))\n",
    "\n",
    "shot_dist_missed <- shot_dist_fgm[shot_dist_fgm$FGM == 0, 'SHOT_DIST']\n",
    "shot_dist_missed <- as.data.frame(table(shot_dist_missed))\n",
    "\n",
    "shot_dist_total <- merge(shot_dist_made,shot_dist_missed,by.x='shot_dist_made',by.y='shot_dist_missed', all=TRUE,\n",
    "                        suffixes = c(\" made\",\" missed\"))\n",
    "\n",
    "#replace missing values with 0\n",
    "shot_dist_total [is.na(shot_dist_total )] <- 0\n",
    "\n",
    "shot_dist_percent <- shot_dist_total[,2] / (shot_dist_total[,2] + shot_dist_total[,3])\n",
    "\n",
    "#plot\n",
    "plot(shot_dist_total[,1],shot_dist_percent, xlab='shot distance (feet)', ylab='shot percentage (%)')"
   ]
  },
  {
   "cell_type": "markdown",
   "metadata": {},
   "source": [
    "The closer you are to the basket the more likely the shot will go in. \n"
   ]
  },
  {
   "cell_type": "markdown",
   "metadata": {},
   "source": [
    "#### Catch and shoot\n",
    "\n",
    "NBA definition of catch & shoot, namely “Any jump shot outside of 10 feet where a player possessed the ball for 2 seconds or less and took no dribbles.\n",
    "\n",
    "https://causalkathy.com/2017/01/31/lets-talk-catch-shoot/#:~:text=To%20answer%20this%20question%2C%20I,this%20definition%20down%20a%20little."
   ]
  },
  {
   "cell_type": "code",
   "execution_count": 32,
   "metadata": {
    "scrolled": false
   },
   "outputs": [
    {
     "data": {
      "image/png": "[encoded data removed]",
      "text/plain": [
       "Plot with title \"Histogram of catch_shoot_name[, 2]\""
      ]
     },
     "metadata": {},
     "output_type": "display_data"
    },
    {
     "data": {
      "image/png": "[encoded data removed]",
      "text/plain": [
       "plot without title"
      ]
     },
     "metadata": {},
     "output_type": "display_data"
    },
    {
     "data": {
      "image/png": "[encoded data removed]",
      "text/plain": [
       "plot without title"
      ]
     },
     "metadata": {},
     "output_type": "display_data"
    }
   ],
   "source": [
    "#subset the nba data for catch and shoot shots\n",
    "catch_shoot <- nba_data[nba_data$DRIBBLES == 0 & nba_data$TOUCH_TIME <= 2 & nba_data$SHOT_DIST > 10 & \n",
    "                        nba_data$FGM == 1,'PLAYER_NAME']\n",
    "\n",
    "#count the name for each player\n",
    "catch_shoot_name <- data.frame(table(catch_shoot))\n",
    "\n",
    "\n",
    "#histogram of the data\n",
    "hist(catch_shoot_name[,2])\n",
    "\n",
    "#top catch and shoot players\n",
    "top_catch_shoot <- catch_shoot_name[catch_shoot_name$Freq > 130,] \n",
    "\n",
    "\n",
    "#players with less than 300 catch and shoot shots categorise them as 'other'\n",
    "catch_shoot_name$catch_shoot <- as.character(catch_shoot_name$catch_shoot)\n",
    "catch_shoot_name[catch_shoot_name$Freq < 160,1] = 'Other'\n",
    "catch_shoot_name$catch_shoot <- factor(catch_shoot_name$catch_shoot)\n",
    "\n",
    "#count the number of other\n",
    "catch_shoot_name <- aggregate(Freq~catch_shoot, FUN=sum,catch_shoot_name)\n",
    "\n",
    "#pie chart of the data\n",
    "pie(catch_shoot_name[,2],labels = catch_shoot_name[,1])\n",
    "pie(top_catch_shoot[,2],labels = top_catch_shoot[,1])"
   ]
  },
  {
   "cell_type": "markdown",
   "metadata": {},
   "source": [
    "#### Contested 3 point shots \n",
    "\n",
    "I will be looking at tightly contested and very tightly contested 3 point shots \n",
    "\n",
    "a \"tightly\" contested 3-pointer comes with 2-4 feet of room and a \"very tightly\" contested 3-pointer comes with 0-2 feet of room."
   ]
  },
  {
   "cell_type": "code",
   "execution_count": 33,
   "metadata": {},
   "outputs": [
    {
     "data": {
      "image/png": "[encoded data removed]",
      "text/plain": [
       "plot without title"
      ]
     },
     "metadata": {},
     "output_type": "display_data"
    }
   ],
   "source": [
    "#subset to get contested 3 point shots \n",
    "contest_df <- nba_data[nba_data$CLOSE_DEF_DIST <= 4 & nba_data$PTS_TYPE == 3,]\n",
    "\n",
    "#contest 3pointers attempted(made or missed)\n",
    "contest_attempts <- contest_df[,'PLAYER_NAME']\n",
    "# contested 3 pointers made\n",
    "contest_made <- contest_df[contest_df$FGM == 1,'PLAYER_NAME']\n",
    "\n",
    "#count for each player\n",
    "contest_attempts_tot <- as.data.frame(table(contest_attempts))\n",
    "contest_made_tot <- as.data.frame(table(contest_made))\n",
    "\n",
    "\n",
    "#calculate shot percentage\n",
    "contest_total <- data.frame(contest_attempts_tot[,1], contest_made_tot[,2], contest_attempts_tot[,2])\n",
    "contest_total <- transform(contest_total, percentage = contest_made_tot[,2]/contest_attempts_tot[,2])\n",
    "\n",
    "# at least 25 shots made\n",
    "contest_total <- contest_total[contest_total[,2]>=25,]\n",
    "\n",
    "#plot the data \n",
    "plot(contest_total[,3],contest_total[,4],col= \"blue\", pch = 19, cex = 1, lty = \"solid\", lwd = 2, xlab=('\n",
    "3 point attempts'), ylab=('3 point percentage'))\n",
    "text(contest_total[,3],contest_total[,4], labels=contest_total[,1], cex=0.7, pos=1)"
   ]
  },
  {
   "cell_type": "markdown",
   "metadata": {},
   "source": [
    "### Clutch field goal percentage\n",
    "\n",
    "To qualify for field goal percentage the player must have at least 300 field goals made\n",
    "\n",
    "https://www.basketball-reference.com/about/rate_stat_req.html"
   ]
  },
  {
   "cell_type": "code",
   "execution_count": 34,
   "metadata": {},
   "outputs": [
    {
     "data": {
      "text/html": [
       "<table>\n",
       "<thead><tr><th></th><th scope=col>clutch_nba_attempts...1.</th><th scope=col>clutch_nba_makes...2.</th><th scope=col>clutch_nba_attempts...2.</th><th scope=col>percentage</th><th scope=col>rank</th></tr></thead>\n",
       "<tbody>\n",
       "\t<tr><th scope=row>248</th><td>Stephen Curry</td><td>38           </td><td>82           </td><td>0.4634146    </td><td>194          </td></tr>\n",
       "</tbody>\n",
       "</table>\n"
      ],
      "text/latex": [
       "\\begin{tabular}{r|lllll}\n",
       "  & clutch\\_nba\\_attempts...1. & clutch\\_nba\\_makes...2. & clutch\\_nba\\_attempts...2. & percentage & rank\\\\\n",
       "\\hline\n",
       "\t248 & Stephen Curry & 38            & 82            & 0.4634146     & 194          \\\\\n",
       "\\end{tabular}\n"
      ],
      "text/markdown": [
       "\n",
       "| <!--/--> | clutch_nba_attempts...1. | clutch_nba_makes...2. | clutch_nba_attempts...2. | percentage | rank |\n",
       "|---|---|---|---|---|---|\n",
       "| 248 | Stephen Curry | 38            | 82            | 0.4634146     | 194           |\n",
       "\n"
      ],
      "text/plain": [
       "    clutch_nba_attempts...1. clutch_nba_makes...2. clutch_nba_attempts...2.\n",
       "248 Stephen Curry            38                    82                      \n",
       "    percentage rank\n",
       "248 0.4634146  194 "
      ]
     },
     "metadata": {},
     "output_type": "display_data"
    },
    {
     "data": {
      "image/png": "[encoded data removed]",
      "text/plain": [
       "plot without title"
      ]
     },
     "metadata": {},
     "output_type": "display_data"
    }
   ],
   "source": [
    "#subset the steph dataframe by last 5 minutes 4,5,6 or 7th period final margin less than 11 OR shot clock less than 1\n",
    "# shot attempts\n",
    "clutch_nba_attempts <- nba_data[(nba_data$GAME_CLOCK < 500 & nba_data$PERIOD > 3 & abs(nba_data$FINAL_MARGIN) < 11)\n",
    "                                | nba_data$SHOT_CLOCK > 23 ,'PLAYER_NAME']\n",
    "clutch_nba_attempts <- data.frame(table(clutch_nba_attempts))\n",
    "                                  \n",
    "#shots made\n",
    "clutch_nba_makes <- nba_data[(nba_data$GAME_CLOCK < 500 & nba_data$PERIOD > 3 & abs(nba_data$FINAL_MARGIN) < 11 & nba_data$FGM == 1)| \n",
    "                        nba_data$SHOT_CLOCK > 23,'PLAYER_NAME']\n",
    "                                 \n",
    "clutch_nba_makes <- data.frame(table(clutch_nba_makes))   \n",
    "\n",
    "# calc percentage\n",
    "clutch_total <- data.frame(clutch_nba_attempts[,1], clutch_nba_makes[,2], clutch_nba_attempts[,2])\n",
    "clutch_total <- transform(clutch_total, percentage = clutch_nba_makes[,2]/clutch_nba_attempts[,2])\n",
    "\n",
    "# find where curry ranks in table\n",
    "clutch_total <- clutch_total[order(-as.numeric(clutch_total[,4])),]\n",
    "clutch_total$rank <- NA\n",
    "clutch_total$rank <- 1:nrow(clutch_total)\n",
    "clutch_total[clutch_total[,1]=='Stephen Curry',]\n",
    "\n",
    "# plot histogram\n",
    "ggplot(clutch_total, aes(x=clutch_total[,4])) + \n",
    "  geom_histogram(binwidth=0.125, fill=\"gold4\", color=\"#e9ecef\", alpha=0.7,position = 'identity') +\n",
    "   ylab(\"Frequency\") +\n",
    "    xlab(\"Clutch field goal percentage\") +\n",
    "    ggtitle(\"Histogram of the clutch field goal percentage for the whole NBA\") "
   ]
  },
  {
   "cell_type": "markdown",
   "metadata": {},
   "source": [
    "Stephen Curry ranks 194 out of 281 NBA players"
   ]
  },
  {
   "cell_type": "markdown",
   "metadata": {},
   "source": [
    "# Stephen Curry\n",
    "\n",
    "#### visualisation"
   ]
  },
  {
   "cell_type": "code",
   "execution_count": 35,
   "metadata": {},
   "outputs": [
    {
     "data": {
      "text/plain": [
       "    GAME_ID                   DATE       HOME_TEAM     AWAY_TEAM  \n",
       " Min.   :21400014   FEB 04, 2015: 26   GSW    :435   GSW    :518  \n",
       " 1st Qu.:21400224   DEC 16, 2014: 24   MIN    : 42   OKC    : 37  \n",
       " Median :21400452   DEC 18, 2014: 24   HOU    : 36   SAS    : 35  \n",
       " Mean   :21400464   JAN 27, 2015: 23   UTA    : 36   HOU    : 27  \n",
       " 3rd Qu.:21400715   DEC 13, 2014: 22   SAC    : 32   DAL    : 26  \n",
       " Max.   :21400907   FEB 11, 2015: 22   LAL    : 31   CHI    : 23  \n",
       "                    (Other)     :812   (Other):341   (Other):287  \n",
       "          PLAYER_NAME    PLAYER_ID      LOCATION W        FINAL_MARGIN    \n",
       " Stephen Curry  :953   Min.   :201939   A:518    L:196   Min.   :-14.000  \n",
       " Aaron Brooks   :  0   1st Qu.:201939   H:435    W:757   1st Qu.:  3.000  \n",
       " Aaron Gordon   :  0   Median :201939                    Median : 11.000  \n",
       " Al Farouq Aminu:  0   Mean   :201939                    Mean   :  9.494  \n",
       " Al Horford     :  0   3rd Qu.:201939                    3rd Qu.: 18.000  \n",
       " Al Jefferson   :  0   Max.   :201939                    Max.   : 43.000  \n",
       " (Other)        :  0                                                      \n",
       "  SHOT_NUMBER         PERIOD        GAME_CLOCK      SHOT_CLOCK   \n",
       " Min.   : 1.000   Min.   :1.000   Min.   :  2.0   Min.   : 0.10  \n",
       " 1st Qu.: 5.000   1st Qu.:1.000   1st Qu.:174.0   1st Qu.:11.80  \n",
       " Median : 9.000   Median :2.000   Median :360.0   Median :16.00  \n",
       " Mean   : 9.424   Mean   :2.349   Mean   :353.5   Mean   :14.89  \n",
       " 3rd Qu.:14.000   3rd Qu.:3.000   3rd Qu.:518.0   3rd Qu.:18.60  \n",
       " Max.   :26.000   Max.   :5.000   Max.   :718.0   Max.   :24.00  \n",
       "                                                                 \n",
       "    DRIBBLES        TOUCH_TIME       SHOT_DIST        PTS_TYPE     SHOT_RESULT \n",
       " Min.   : 0.000   Min.   : 0.100   Min.   : 0.10   Min.   :2.000   made  :464  \n",
       " 1st Qu.: 0.000   1st Qu.: 1.100   1st Qu.: 7.70   1st Qu.:2.000   missed:489  \n",
       " Median : 3.000   Median : 3.100   Median :22.10   Median :2.000               \n",
       " Mean   : 3.759   Mean   : 3.974   Mean   :17.49   Mean   :2.477               \n",
       " 3rd Qu.: 6.000   3rd Qu.: 5.800   3rd Qu.:24.90   3rd Qu.:3.000               \n",
       " Max.   :23.000   Max.   :20.900   Max.   :42.70   Max.   :3.000               \n",
       "                                                                               \n",
       "        CLOSEST_DEFENDER CLOSEST_DEFENDER_ID CLOSE_DEF_DIST        FGM        \n",
       " Kemba Walker   : 23     Min.   :   977      Min.   : 0.000   Min.   :0.0000  \n",
       " Darren Collison: 21     1st Qu.:201152      1st Qu.: 2.800   1st Qu.:0.0000  \n",
       " Derrick Rose   : 21     Median :201960      Median : 4.000   Median :0.0000  \n",
       " Serge Ibaka    : 18     Mean   :173475      Mean   : 4.496   Mean   :0.4869  \n",
       " Zach LaVine    : 17     3rd Qu.:203076      3rd Qu.: 5.600   3rd Qu.:1.0000  \n",
       " Kyrie Irving   : 16     Max.   :204060      Max.   :28.700   Max.   :1.0000  \n",
       " (Other)        :837                                                          \n",
       "      PTS       \n",
       " Min.   :0.000  \n",
       " 1st Qu.:0.000  \n",
       " Median :0.000  \n",
       " Mean   :1.171  \n",
       " 3rd Qu.:2.000  \n",
       " Max.   :3.000  \n",
       "                "
      ]
     },
     "metadata": {},
     "output_type": "display_data"
    }
   ],
   "source": [
    "# get data\n",
    "steph_df <- nba_data[nba_data$PLAYER_NAME=='Stephen Curry',]\n",
    "summary(steph_df)"
   ]
  },
  {
   "cell_type": "markdown",
   "metadata": {},
   "source": [
    "470 FGM\n",
    "\n",
    "498 FGnotM"
   ]
  },
  {
   "cell_type": "markdown",
   "metadata": {},
   "source": [
    "#### shots per game "
   ]
  },
  {
   "cell_type": "code",
   "execution_count": 36,
   "metadata": {},
   "outputs": [
    {
     "data": {
      "image/png": "[encoded data removed]",
      "text/plain": [
       "Plot with title \"Histogram of shots_game_df[, 2]\""
      ]
     },
     "metadata": {},
     "output_type": "display_data"
    }
   ],
   "source": [
    "shots_game_col <- c('GAME_ID')\n",
    "shots_game_df <- steph_df[,shots_game_col]\n",
    "shots_game_df <- as.data.frame(table(shots_game_df))\n",
    "hist(shots_game_df[,2])"
   ]
  },
  {
   "cell_type": "code",
   "execution_count": 37,
   "metadata": {},
   "outputs": [
    {
     "data": {
      "image/png": "[encoded data removed]",
      "text/plain": [
       "plot without title"
      ]
     },
     "metadata": {},
     "output_type": "display_data"
    }
   ],
   "source": [
    "boxplot(shots_game_df[,2], col='orange')"
   ]
  },
  {
   "cell_type": "markdown",
   "metadata": {},
   "source": [
    "#### shots made per game"
   ]
  },
  {
   "cell_type": "code",
   "execution_count": 38,
   "metadata": {},
   "outputs": [
    {
     "data": {
      "image/png": "[encoded data removed]",
      "text/plain": [
       "Plot with title \"Histogram of shots_made_game_df[, 2]\""
      ]
     },
     "metadata": {},
     "output_type": "display_data"
    }
   ],
   "source": [
    "shots_made_game_df <- steph_df[steph_df$FGM == 1,shots_game_col]\n",
    "shots_made_game_df <- as.data.frame(table(shots_made_game_df))\n",
    "hist(shots_made_game_df[,2])"
   ]
  },
  {
   "cell_type": "markdown",
   "metadata": {},
   "source": [
    "### Clutch shots made/missed\n",
    "\n",
    "https://www.nba.com/stats/players/clutch-traditional/?sort=GP&dir=-1\n",
    "\n",
    "Last 5 minutes, point diff = 5 pts or less is clutch time]\n",
    "\n",
    "Can't do it, need the data of the point differential when the shot was taken\n",
    "\n",
    "Try final margin < 11"
   ]
  },
  {
   "cell_type": "code",
   "execution_count": 39,
   "metadata": {},
   "outputs": [
    {
     "data": {
      "image/png": "[encoded data removed]",
      "text/plain": [
       "plot without title"
      ]
     },
     "metadata": {},
     "output_type": "display_data"
    }
   ],
   "source": [
    "clutch_df <- steph_df[steph_df$GAME_CLOCK < 500 & steph_df$PERIOD > 3 & steph_df$FINAL_MARGIN < 8,'FGM']\n",
    "barplot(table(clutch_df))"
   ]
  },
  {
   "cell_type": "markdown",
   "metadata": {},
   "source": [
    "#### most defended by \n",
    "\n",
    " Kemba Walker   : 23     \n",
    " Darren Collison: 21     \n",
    " Derrick Rose   : 21    \n",
    " Serge Ibaka    : 18      \n",
    " Zach LaVine    : 17    \n",
    " Kyrie Irving   : 16\n",
    " \n",
    " Let's visualise how many shots steph made against these defenders"
   ]
  },
  {
   "cell_type": "code",
   "execution_count": 40,
   "metadata": {},
   "outputs": [
    {
     "data": {
      "text/html": [
       "<table>\n",
       "<thead><tr><th></th><th scope=col>CLOSEST_DEFENDER</th><th scope=col>field_goal_missed</th><th scope=col>field_goal_made</th></tr></thead>\n",
       "<tbody>\n",
       "\t<tr><th scope=row>101</th><td>Darren Collison</td><td>11             </td><td> 6             </td></tr>\n",
       "\t<tr><th scope=row>112</th><td>Derrick Rose   </td><td>12             </td><td> 6             </td></tr>\n",
       "\t<tr><th scope=row>258</th><td>Kemba Walker   </td><td>11             </td><td>11             </td></tr>\n",
       "\t<tr><th scope=row>283</th><td>Kyrie Irving   </td><td> 5             </td><td> 7             </td></tr>\n",
       "\t<tr><th scope=row>405</th><td>Serge Ibaka    </td><td>11             </td><td> 4             </td></tr>\n",
       "\t<tr><th scope=row>470</th><td>Zach LaVine    </td><td> 7             </td><td> 6             </td></tr>\n",
       "</tbody>\n",
       "</table>\n"
      ],
      "text/latex": [
       "\\begin{tabular}{r|lll}\n",
       "  & CLOSEST\\_DEFENDER & field\\_goal\\_missed & field\\_goal\\_made\\\\\n",
       "\\hline\n",
       "\t101 & Darren Collison & 11              &  6             \\\\\n",
       "\t112 & Derrick Rose    & 12              &  6             \\\\\n",
       "\t258 & Kemba Walker    & 11              & 11             \\\\\n",
       "\t283 & Kyrie Irving    &  5              &  7             \\\\\n",
       "\t405 & Serge Ibaka     & 11              &  4             \\\\\n",
       "\t470 & Zach LaVine     &  7              &  6             \\\\\n",
       "\\end{tabular}\n"
      ],
      "text/markdown": [
       "\n",
       "| <!--/--> | CLOSEST_DEFENDER | field_goal_missed | field_goal_made |\n",
       "|---|---|---|---|\n",
       "| 101 | Darren Collison | 11              |  6              |\n",
       "| 112 | Derrick Rose    | 12              |  6              |\n",
       "| 258 | Kemba Walker    | 11              | 11              |\n",
       "| 283 | Kyrie Irving    |  5              |  7              |\n",
       "| 405 | Serge Ibaka     | 11              |  4              |\n",
       "| 470 | Zach LaVine     |  7              |  6              |\n",
       "\n"
      ],
      "text/plain": [
       "    CLOSEST_DEFENDER field_goal_missed field_goal_made\n",
       "101 Darren Collison  11                 6             \n",
       "112 Derrick Rose     12                 6             \n",
       "258 Kemba Walker     11                11             \n",
       "283 Kyrie Irving      5                 7             \n",
       "405 Serge Ibaka      11                 4             \n",
       "470 Zach LaVine       7                 6             "
      ]
     },
     "metadata": {},
     "output_type": "display_data"
    },
    {
     "data": {
      "image/png": "[encoded data removed]",
      "text/plain": [
       "plot without title"
      ]
     },
     "metadata": {},
     "output_type": "display_data"
    }
   ],
   "source": [
    "defenders <- c('Kemba Walker','Darren Collison','Derrick Rose','Serge Ibaka','Zach LaVine','Kyrie Irving')\n",
    "# subset on the players who guarded steph the most, delete entries greater than 6 feet\n",
    "sc_def_df <- steph_df[(steph_df$CLOSEST_DEFENDER=='Kemba Walker'|steph_df$CLOSEST_DEFENDER=='Darren Collison'|\n",
    "                      steph_df$CLOSEST_DEFENDER=='Derrick Rose'|steph_df$CLOSEST_DEFENDER=='Serge Ibaka'|\n",
    "                      steph_df$CLOSEST_DEFENDER=='Zach LaVine'|steph_df$CLOSEST_DEFENDER=='Kyrie Irving') &\n",
    "                      steph_df$CLOSE_DEF_DIST<6,c('CLOSEST_DEFENDER','FGM')]\n",
    "\n",
    "#freq for fgm=0/1 for each defender\n",
    "freq_one <- as.data.frame(table(sc_def_df[sc_def_df$FGM==1,]))\n",
    "freq_zero <- as.data.frame(table(sc_def_df[sc_def_df$FGM==0,]))\n",
    "freq_one <- freq_one[freq_one$Freq!=0,]\n",
    "freq_zero <- freq_zero[freq_zero$Freq!=0,]\n",
    "\n",
    "#rename column\n",
    "freq_one$field_goal_made <- freq_one$Freq\n",
    "freq_one <- freq_one[,c(1,4)]\n",
    "freq_zero$field_goal_missed <- freq_zero$Freq\n",
    "freq_zero <- freq_zero[,c(1,4)]\n",
    "\n",
    "#combine data frames\n",
    "def_freq_df <- cbind(freq_zero,freq_one)\n",
    "def_freq_df <- def_freq_df[,c(1,2,4)]\n",
    "def_freq_df\n",
    "\n",
    "#melt the data frame for plotting\n",
    "#melted_def_df <- melt(def_freq_df,id.vars='Player name')\n",
    "\n",
    "ggplot(def_freq_df, aes(CLOSEST_DEFENDER,field_goal_missed))  + \n",
    "    geom_bar(aes(CLOSEST_DEFENDER,field_goal_made),stat=\"identity\", fill=\"tan1\", colour=\"sienna3\")"
   ]
  },
  {
   "cell_type": "markdown",
   "metadata": {},
   "source": [
    "# Inferential analysis "
   ]
  },
  {
   "cell_type": "markdown",
   "metadata": {},
   "source": [
    "### Confidence intervals\n",
    "\n",
    "#### shot attempts per game vs games won for steph curry"
   ]
  },
  {
   "cell_type": "code",
   "execution_count": 41,
   "metadata": {
    "scrolled": false
   },
   "outputs": [
    {
     "data": {
      "image/png": "[encoded data removed]",
      "text/plain": [
       "Plot with title \"Histogram of games_won_df[, 2]\""
      ]
     },
     "metadata": {},
     "output_type": "display_data"
    },
    {
     "data": {
      "image/png": "[encoded data removed]",
      "text/plain": [
       "Plot with title \"Histogram of games_lost_df[, 2]\""
      ]
     },
     "metadata": {},
     "output_type": "display_data"
    }
   ],
   "source": [
    "# shot attemps per game\n",
    "shots_per_game <- steph_df[,'GAME_ID']\n",
    "spg_df <- as.data.frame(table(shots_per_game))\n",
    "\n",
    "#games won\n",
    "games_won <- steph_df[steph_df$FINAL_MARGIN > 0,'GAME_ID']\n",
    "games_won_df <- as.data.frame(table(games_won))\n",
    "\n",
    "#games_lost\n",
    "games_lost <- steph_df[steph_df$FINAL_MARGIN < 0,'GAME_ID']\n",
    "games_lost_df <- as.data.frame(table(games_lost))\n",
    "\n",
    "hist(games_won_df[,2])\n",
    "hist(games_lost_df[,2])"
   ]
  },
  {
   "cell_type": "markdown",
   "metadata": {},
   "source": [
    "### Confidence intervals for the mean shot attempts for games won and lost \n",
    "\n",
    "#### Games won"
   ]
  },
  {
   "cell_type": "code",
   "execution_count": 42,
   "metadata": {},
   "outputs": [
    {
     "name": "stdout",
     "output_type": "stream",
     "text": [
      "[1] 14.38387 17.82890\n",
      "attr(,\"conf.level\")\n",
      "[1] 0.99\n"
     ]
    },
    {
     "data": {
      "image/png": "[encoded data removed]",
      "text/plain": [
       "Plot with title \"Histogram of games_won_df[, 2]\""
      ]
     },
     "metadata": {},
     "output_type": "display_data"
    }
   ],
   "source": [
    "ci_games_won <- t.test(games_won_df[,2], conf.level=0.99)$conf.int\n",
    "print(ci_games_won)\n",
    "hist(games_won_df[,2], freq=FALSE, col='cyan')\n",
    "abline(v=ci_games_won[1], lty=3, lwd=3, col='seagreen')\n",
    "abline(v=ci_games_won[2], lty=3, lwd=3, col='seagreen')"
   ]
  },
  {
   "cell_type": "markdown",
   "metadata": {},
   "source": [
    "#### games lost"
   ]
  },
  {
   "cell_type": "code",
   "execution_count": 43,
   "metadata": {},
   "outputs": [
    {
     "name": "stdout",
     "output_type": "stream",
     "text": [
      "[1] 13.92915 21.70721\n",
      "attr(,\"conf.level\")\n",
      "[1] 0.99\n"
     ]
    },
    {
     "data": {
      "image/png": "[encoded data removed]",
      "text/plain": [
       "Plot with title \"Histogram of games_lost_df[, 2]\""
      ]
     },
     "metadata": {},
     "output_type": "display_data"
    }
   ],
   "source": [
    "ci_games_lost <- t.test(games_lost_df[,2], conf.level=0.99)$conf.int\n",
    "print(ci_games_lost)\n",
    "hist(games_lost_df[,2], freq=FALSE, col='cyan')\n",
    "abline(v=ci_games_lost[1], lty=3, lwd=3, col='seagreen')\n",
    "abline(v=ci_games_lost[2], lty=3, lwd=3, col='seagreen')"
   ]
  },
  {
   "cell_type": "markdown",
   "metadata": {},
   "source": [
    "steph may have more shot attempts in a loss"
   ]
  },
  {
   "cell_type": "markdown",
   "metadata": {},
   "source": [
    "## Two-proportions z-test-\n",
    "\n",
    "#### looking at steph vs rest of nba on proportion of 3 pointers made\n",
    "\n",
    "The two-proportions z-test is used to compare two observed proportions.\n",
    "\n",
    "Group A = Steph\n",
    "\n",
    "p_A = 3pointers made $\\div$ 3pointers attempted\n",
    "\n",
    "Group B = Everyone but steph\n",
    "   \n",
    "p_B = 3pointers made $\\div$ 3pointers attempted\n",
    "     \n",
    "whether the observed proportion of 3 pointer made in group A (pA) is greater than the observed proportion of 3 pointers made in group (pB)?\n",
    "\n",
    "=> $H_0:p_A ≥ p_B$\n",
    "\n",
    "=> $H_1:p_A < p_B$ \n",
    "\n",
    "http://www.sthda.com/english/wiki/two-proportions-z-test-in-r"
   ]
  },
  {
   "cell_type": "code",
   "execution_count": 44,
   "metadata": {},
   "outputs": [],
   "source": [
    "#number of 3 point shots made for curry\n",
    "pA_x <- nrow(steph_df[steph_df$PTS_TYPE == 3 & steph_df$FGM == 1,])\n",
    "# number of 3 point attempts for curry\n",
    "pA_n <- nrow(steph_df[steph_df$PTS_TYPE == 3,])\n",
    "# number of 3 point shots made for the nba\n",
    "pB_x <- nrow(nba_data[nba_data$PTS_TYPE == 3 & nba_data$FGM == 1 & nba_data$PLAYER_NAME!='Stephen Curry',])  \n",
    "# number of 3 point attempts for the nba\n",
    "pB_n <- nrow(nba_data[nba_data$PTS_TYPE == 3 & nba_data$PLAYER_NAME!='Stephen Curry',])"
   ]
  },
  {
   "cell_type": "code",
   "execution_count": 45,
   "metadata": {},
   "outputs": [],
   "source": [
    "#3's missed\n",
    "pA_m <- nrow(steph_df[steph_df$PTS_TYPE == 3 & steph_df$FGM == 0,])\n",
    "\n",
    "pB_m <- nrow(nba_data[nba_data$PTS_TYPE == 3 & nba_data$FGM == 0 & nba_data$PLAYER_NAME!='Stephen Curry',])"
   ]
  },
  {
   "cell_type": "code",
   "execution_count": 46,
   "metadata": {},
   "outputs": [
    {
     "data": {
      "text/html": [
       "<table>\n",
       "<thead><tr><th></th><th scope=col>3's Made</th><th scope=col>3's Missed</th></tr></thead>\n",
       "<tbody>\n",
       "\t<tr><th scope=row>Curry</th><td>  189</td><td>  266</td></tr>\n",
       "\t<tr><th scope=row>NBA</th><td>11509</td><td>21288</td></tr>\n",
       "</tbody>\n",
       "</table>\n"
      ],
      "text/latex": [
       "\\begin{tabular}{r|ll}\n",
       "  & 3's Made & 3's Missed\\\\\n",
       "\\hline\n",
       "\tCurry &   189 &   266\\\\\n",
       "\tNBA & 11509 & 21288\\\\\n",
       "\\end{tabular}\n"
      ],
      "text/markdown": [
       "\n",
       "| <!--/--> | 3's Made | 3's Missed |\n",
       "|---|---|---|\n",
       "| Curry |   189 |   266 |\n",
       "| NBA | 11509 | 21288 |\n",
       "\n"
      ],
      "text/plain": [
       "      3's Made 3's Missed\n",
       "Curry   189      266     \n",
       "NBA   11509    21288     "
      ]
     },
     "metadata": {},
     "output_type": "display_data"
    }
   ],
   "source": [
    "# contingency table\n",
    "con_table <- rbind(c(pA_x, pA_m), c(pB_x,pB_m))\n",
    "colnames(con_table) <- c(\"3's Made\",\"3's Missed\")\n",
    "rownames(con_table) <- c(\"Curry\",\"NBA\")\n",
    "\n",
    "con_table"
   ]
  },
  {
   "cell_type": "code",
   "execution_count": 47,
   "metadata": {},
   "outputs": [
    {
     "data": {
      "text/plain": [
       "\n",
       "\t2-sample test for equality of proportions without continuity\n",
       "\tcorrection\n",
       "\n",
       "data:  con_table\n",
       "X-squared = 8.1793, df = 1, p-value = 0.9979\n",
       "alternative hypothesis: less\n",
       "95 percent confidence interval:\n",
       " -1.0000000  0.1027147\n",
       "sample estimates:\n",
       "   prop 1    prop 2 \n",
       "0.4153846 0.3509162 \n"
      ]
     },
     "metadata": {},
     "output_type": "display_data"
    }
   ],
   "source": [
    "prop.test(con_table, alternative='less', conf.level=0.95, correct = FALSE)"
   ]
  },
  {
   "cell_type": "markdown",
   "metadata": {},
   "source": [
    "test for normality"
   ]
  },
  {
   "cell_type": "markdown",
   "metadata": {},
   "source": [
    "We obtain a p-value of $ 0.9982$. At the significance level $ 𝛼=0.05 $ for instance, we retain  $𝐻_0$  for  $𝐻_1$  and we thus conclude that the data suggests that the proportion of Stephen Curry making a 3 pointer is greater than the rest of the nba making a 3 pointer.\n",
    "\n",
    "Correct = FALSE, Yates continuity is not applied.\n",
    "\n",
    "Yates continuity corrects the error introduced by assuming that the discrete probabilities of frequencies in the table can be approximated by a continuous distribution (chi-squared).\n",
    "\n",
    "Yates (1934) https://rss.onlinelibrary.wiley.com/doi/10.2307/2983604"
   ]
  },
  {
   "cell_type": "code",
   "execution_count": 130,
   "metadata": {},
   "outputs": [
    {
     "data": {
      "text/html": [
       "<table>\n",
       "<thead><tr><th scope=col>Measurement</th><th scope=col>Results</th></tr></thead>\n",
       "<tbody>\n",
       "\t<tr><td>Estimated Proportion 1</td><td>0.4153846             </td></tr>\n",
       "\t<tr><td>Estimated Proportion 2</td><td>0.3509162             </td></tr>\n",
       "\t<tr><td>P-Value               </td><td>0.9978815             </td></tr>\n",
       "</tbody>\n",
       "</table>\n"
      ],
      "text/latex": [
       "\\begin{tabular}{r|ll}\n",
       " Measurement & Results\\\\\n",
       "\\hline\n",
       "\t Estimated Proportion 1 & 0.4153846             \\\\\n",
       "\t Estimated Proportion 2 & 0.3509162             \\\\\n",
       "\t P-Value                & 0.9978815             \\\\\n",
       "\\end{tabular}\n"
      ],
      "text/markdown": [
       "\n",
       "| Measurement | Results |\n",
       "|---|---|\n",
       "| Estimated Proportion 1 | 0.4153846              |\n",
       "| Estimated Proportion 2 | 0.3509162              |\n",
       "| P-Value                | 0.9978815              |\n",
       "\n"
      ],
      "text/plain": [
       "  Measurement            Results  \n",
       "1 Estimated Proportion 1 0.4153846\n",
       "2 Estimated Proportion 2 0.3509162\n",
       "3 P-Value                0.9978815"
      ]
     },
     "metadata": {},
     "output_type": "display_data"
    }
   ],
   "source": [
    "Results <- c(prop.test(con_table, alternative='less', conf.level=0.95, correct = FALSE)$estimate,\n",
    "             prop.test(con_table, alternative='less', conf.level=0.95, correct = FALSE)$p.value)\n",
    "Measurement <- c('Estimated Proportion 1','Estimated Proportion 2','P-Value')\n",
    "Results <- data.frame(Results)[1:3,1]\n",
    "ztest <- data.frame(Measurement,Results)\n",
    "ztest"
   ]
  },
  {
   "cell_type": "markdown",
   "metadata": {},
   "source": [
    "verify with t test"
   ]
  },
  {
   "cell_type": "code",
   "execution_count": 132,
   "metadata": {},
   "outputs": [],
   "source": [
    "# make an array with 1 = made 3, 0= missed 3\n",
    "sc_threes <- c(rep_len(1, pA_x), rep_len(0, pA_m))\n",
    "nba_threes<- c(rep_len(1, pB_x), rep_len(0, pB_m))"
   ]
  },
  {
   "cell_type": "code",
   "execution_count": 133,
   "metadata": {},
   "outputs": [
    {
     "data": {
      "text/plain": [
       "\n",
       "\tF test to compare two variances\n",
       "\n",
       "data:  sc_threes and nba_threes\n",
       "F = 1.0685, num df = 454, denom df = 32796, p-value = 0.3062\n",
       "alternative hypothesis: true ratio of variances is not equal to 1\n",
       "95 percent confidence interval:\n",
       " 0.9411321 1.2233325\n",
       "sample estimates:\n",
       "ratio of variances \n",
       "          1.068461 \n"
      ]
     },
     "metadata": {},
     "output_type": "display_data"
    }
   ],
   "source": [
    "# test equality of variances\n",
    "var.test(sc_threes,nba_threes, alternative = \"two.sided\")"
   ]
  },
  {
   "cell_type": "code",
   "execution_count": 136,
   "metadata": {},
   "outputs": [
    {
     "data": {
      "text/html": [
       "<table>\n",
       "<thead><tr><th scope=col>Measurement</th><th scope=col>Results</th></tr></thead>\n",
       "<tbody>\n",
       "\t<tr><td>Estimate for the ratio of variances</td><td>1.0684612                          </td></tr>\n",
       "\t<tr><td>P-Value                            </td><td>0.3062384                          </td></tr>\n",
       "</tbody>\n",
       "</table>\n"
      ],
      "text/latex": [
       "\\begin{tabular}{r|ll}\n",
       " Measurement & Results\\\\\n",
       "\\hline\n",
       "\t Estimate for the ratio of variances & 1.0684612                          \\\\\n",
       "\t P-Value                             & 0.3062384                          \\\\\n",
       "\\end{tabular}\n"
      ],
      "text/markdown": [
       "\n",
       "| Measurement | Results |\n",
       "|---|---|\n",
       "| Estimate for the ratio of variances | 1.0684612                           |\n",
       "| P-Value                             | 0.3062384                           |\n",
       "\n"
      ],
      "text/plain": [
       "  Measurement                         Results  \n",
       "1 Estimate for the ratio of variances 1.0684612\n",
       "2 P-Value                             0.3062384"
      ]
     },
     "metadata": {},
     "output_type": "display_data"
    }
   ],
   "source": [
    "Results <- c(var.test(sc_threes,nba_threes, alternative = \"two.sided\")$estimate,\n",
    "             var.test(sc_threes,nba_threes, alternative = \"two.sided\")$p.value)\n",
    "Measurement <- c('Estimate for the ratio of variances','P-Value')\n",
    "Results <- data.frame(Results)[1:2,1]\n",
    "ftest <- data.frame(Measurement,Results)"
   ]
  },
  {
   "cell_type": "code",
   "execution_count": 49,
   "metadata": {},
   "outputs": [
    {
     "data": {
      "text/plain": [
       "\n",
       "\tWelch Two Sample t-test\n",
       "\n",
       "data:  sc_threes and nba_threes\n",
       "t = 2.7696, df = 465.87, p-value = 0.9971\n",
       "alternative hypothesis: true difference in means is less than 0\n",
       "95 percent confidence interval:\n",
       "      -Inf 0.1028325\n",
       "sample estimates:\n",
       "mean of x mean of y \n",
       "0.4153846 0.3509162 \n"
      ]
     },
     "metadata": {},
     "output_type": "display_data"
    }
   ],
   "source": [
    "t.test(sc_threes,nba_threes, alternative='less', conf.level=0.95)"
   ]
  },
  {
   "cell_type": "code",
   "execution_count": 137,
   "metadata": {},
   "outputs": [
    {
     "data": {
      "text/html": [
       "<table>\n",
       "<thead><tr><th scope=col>Measurement</th><th scope=col>Results</th></tr></thead>\n",
       "<tbody>\n",
       "\t<tr><td>Estimated mean of x</td><td>0.4153846          </td></tr>\n",
       "\t<tr><td>Estimated mean of y</td><td>0.3509162          </td></tr>\n",
       "\t<tr><td>P-Value            </td><td>0.9970815          </td></tr>\n",
       "</tbody>\n",
       "</table>\n"
      ],
      "text/latex": [
       "\\begin{tabular}{r|ll}\n",
       " Measurement & Results\\\\\n",
       "\\hline\n",
       "\t Estimated mean of x & 0.4153846          \\\\\n",
       "\t Estimated mean of y & 0.3509162          \\\\\n",
       "\t P-Value             & 0.9970815          \\\\\n",
       "\\end{tabular}\n"
      ],
      "text/markdown": [
       "\n",
       "| Measurement | Results |\n",
       "|---|---|\n",
       "| Estimated mean of x | 0.4153846           |\n",
       "| Estimated mean of y | 0.3509162           |\n",
       "| P-Value             | 0.9970815           |\n",
       "\n"
      ],
      "text/plain": [
       "  Measurement         Results  \n",
       "1 Estimated mean of x 0.4153846\n",
       "2 Estimated mean of y 0.3509162\n",
       "3 P-Value             0.9970815"
      ]
     },
     "metadata": {},
     "output_type": "display_data"
    }
   ],
   "source": [
    "Results <- c(t.test(sc_threes,nba_threes, alternative='less', conf.level=0.95)$estimate,\n",
    "             t.test(sc_threes,nba_threes, alternative='less', conf.level=0.95)$p.value)\n",
    "Measurement <- c('Estimated mean of x','Estimated mean of y','P-Value')\n",
    "Results <- data.frame(Results)[1:3,1]\n",
    "ttest <- data.frame(Measurement,Results)\n",
    "ttest"
   ]
  },
  {
   "cell_type": "markdown",
   "metadata": {},
   "source": [
    "Same hypothesis as the z test.\n",
    "\n",
    "The large P value of 0.9979 suggests that proportions of stephen curry making a 3 pointer is higher than the rest of the nba at $\\alpha = 0.05 ,0.1$\n",
    "\n",
    "https://towardsdatascience.com/trust-the-process-doubt-the-procedure-nba-playoff-win-chances-379ad92e20a0"
   ]
  },
  {
   "cell_type": "code",
   "execution_count": 50,
   "metadata": {},
   "outputs": [
    {
     "data": {
      "text/plain": [
       "\n",
       "\tPearson's Chi-squared test\n",
       "\n",
       "data:  con_table\n",
       "X-squared = 8.1793, df = 1, p-value = 0.004237\n"
      ]
     },
     "metadata": {},
     "output_type": "display_data"
    }
   ],
   "source": [
    "chisq.test(con_table ,correct=FALSE)"
   ]
  },
  {
   "cell_type": "markdown",
   "metadata": {},
   "source": [
    "Chi-squared test is testing the null that both proportions are equal.\n",
    "\n",
    "We can see that the low p value of 0.003516 suggests that the proportions are not equal."
   ]
  },
  {
   "cell_type": "markdown",
   "metadata": {},
   "source": [
    "### Shot percentage per game\n",
    "\n",
    "This will allow me to plot histograms and test for normality"
   ]
  },
  {
   "cell_type": "code",
   "execution_count": 51,
   "metadata": {},
   "outputs": [],
   "source": [
    "# steph 3's made\n",
    "sc_threes <- (steph_df[steph_df$PTS_TYPE == 3,c('GAME_ID','FGM')])\n",
    "\n",
    "sc_made_threes <- as.data.frame(table(sc_threes[sc_threes$FGM == 1,'GAME_ID']))\n",
    "\n",
    "# steph 3's missed\n",
    "sc_missed_threes <- as.data.frame(table(sc_threes[,'GAME_ID']))\n",
    "\n",
    "# combine and calculate shot percentage\n",
    "sc_total <- merge(sc_made_threes,sc_missed_threes,by.x='Var1',by.y='Var1', all=TRUE,\n",
    "                        suffixes = c(\" made\",\" missed\"))\n",
    "\n",
    "#replace missing values with 0\n",
    "sc_total [is.na(sc_total )] <- 0\n",
    "\n",
    "#calculate percentage\n",
    "sc_percent <- sc_total[,2] / sc_total[,3]"
   ]
  },
  {
   "cell_type": "code",
   "execution_count": 52,
   "metadata": {},
   "outputs": [],
   "source": [
    "# nba 3's made\n",
    "nba_threes <- (nba_data[nba_data$PTS_TYPE == 3 & nba_data$PLAYER_NAME!='Stephen Curry',c('GAME_ID','FGM')])\n",
    "\n",
    "nba_made_threes <- as.data.frame(table(nba_threes[nba_threes$FGM == 1 ,'GAME_ID']))\n",
    "\n",
    "# nba 3's missed\n",
    "nba_missed_threes <- as.data.frame(table(nba_threes[,'GAME_ID']))\n",
    "\n",
    "# combine and calculate shot percentage\n",
    "nba_total <- merge(nba_made_threes,nba_missed_threes,by.x='Var1',by.y='Var1', all=TRUE,\n",
    "                        suffixes = c(\" made\",\" missed\"))\n",
    "\n",
    "#replace missing values with 0\n",
    "nba_total [is.na(nba_total )] <- 0\n",
    "\n",
    "#calculate percentage\n",
    "nba_percent <- nba_total[,2] / nba_total[,3]"
   ]
  },
  {
   "cell_type": "code",
   "execution_count": 53,
   "metadata": {},
   "outputs": [],
   "source": [
    "#prop.test(x = c(sc_total[,2], nba_total[,2]), n = c(sc_total[,3],nba_total[,3]), alternative='less', conf.level=0.95)"
   ]
  },
  {
   "cell_type": "markdown",
   "metadata": {},
   "source": [
    "## T test\n",
    "\n",
    "### Points per shot attempt per game\n",
    "\n",
    "We will look at the a player effiency metric points per shot attempt. Calculated with:\n",
    "\n",
    " Points per shot attempt = (Total Points off of 2PA and 3PA) $\\div $Total FGA \n",
    "\n",
    "We will compare the top 3 in the MVP voting, Steph vs Lebron and James Harden\n",
    "\n",
    "The two-proportions z-test is used to compare two observed proportions.\n",
    "\n",
    "Group A = Steph\n",
    "\n",
    "Group B = James and LeBron\n",
    "     \n",
    "whether the observed proportion PPS made in group A (pA) is greater than the observed proportion of PPS in group (pB)?\n",
    "\n",
    "=> $H_0:p_A ≥ p_B$\n",
    "\n",
    "=> $H_1:p_A < p_B$ "
   ]
  },
  {
   "cell_type": "code",
   "execution_count": 54,
   "metadata": {},
   "outputs": [],
   "source": [
    "# steph points scored\n",
    "sc_points <- (steph_df[,c('GAME_ID','PTS')])\n",
    "sc_points <- aggregate(sc_points$PTS,by=list(Category=sc_points$GAME_ID), FUN=sum)\n",
    "#steph number of attempts\n",
    "sc_attempts <- data.frame(table(steph_df[,'GAME_ID']))\n",
    "sc_points$attempts <- sc_attempts[,2]\n",
    "# calculate pps\n",
    "sc_pps <- sc_points[,2] / sc_points[,3]\n",
    "# subset the data to get James and LeBrons shots\n",
    "mvp_df <-  nba_data[nba_data$PLAYER_NAME=='James Harden' |\n",
    "                    nba_data$PLAYER_NAME=='Lebron James',]\n",
    "\n",
    "# james and lebron points scored\n",
    "mvp_points <- (mvp_df[,c('GAME_ID','PTS')])\n",
    "mvp_points <- aggregate(mvp_points$PTS,by=list(Category=mvp_points$GAME_ID), FUN=sum)\n",
    "#james and lebron number of attempts\n",
    "mvp_attempts <- data.frame(table(mvp_df[,'GAME_ID']))\n",
    "mvp_points$attempts <- mvp_attempts[,2]\n",
    "# calculate pps\n",
    "mvp_pps <- mvp_points[,2] / mvp_points[,3]"
   ]
  },
  {
   "cell_type": "code",
   "execution_count": 55,
   "metadata": {},
   "outputs": [],
   "source": [
    "sc_pps_df <- data.frame(sc_pps)\n",
    "mvp_pps_df <- data.frame(mvp_pps)\n",
    "\n",
    "#https://www.r-graph-gallery.com/220-basic-ggplot2-histogram.html"
   ]
  },
  {
   "cell_type": "code",
   "execution_count": 91,
   "metadata": {},
   "outputs": [
    {
     "data": {
      "image/png": "[encoded data removed]",
      "text/plain": [
       "plot without title"
      ]
     },
     "metadata": {},
     "output_type": "display_data"
    }
   ],
   "source": [
    "#install.packages('gridExtra')\n",
    "p1 <- ggplot(sc_pps_df, aes(x=sc_pps)) + \n",
    "  geom_histogram(binwidth=0.2, fill=\"royalblue1\", color=\"#e9ecef\", alpha=0.7,position = 'identity') +\n",
    "   ylab(\"Frequency\") +\n",
    "    xlab(\"Stephen Curry Points per Shot\") +\n",
    "    ggtitle(\"Histogram of Stephen Curry's \\n Points per Shot per Game\")+\n",
    "    theme(plot.title = element_text(hjust = 0.5))\n",
    "p2 <- ggplot(mvp_pps_df, aes(x=mvp_pps)) + \n",
    "  geom_histogram(binwidth=0.2, fill=\"royalblue1\", color=\"#e9ecef\", alpha=0.7,position = 'identity') +\n",
    "   ylab(\"Frequency\") +\n",
    "    xlab(\"LeBron James and James Harden's \\n combined Points per Shot\") +\n",
    "    ggtitle(\"Histogram of Lebron James and \\n James Harden's points per \\n shot per game\")+\n",
    "     theme(plot.title = element_text(hjust = 0.5))\n",
    "\n",
    "grid.arrange(p1, p2, nrow = 1)"
   ]
  },
  {
   "cell_type": "code",
   "execution_count": 57,
   "metadata": {},
   "outputs": [
    {
     "name": "stdout",
     "output_type": "stream",
     "text": [
      "[1] \"Shapiro-Wilk normality test for the Stephen Curry PPS data\"\n"
     ]
    },
    {
     "data": {
      "text/plain": [
       "\n",
       "\tShapiro-Wilk normality test\n",
       "\n",
       "data:  sc_pps\n",
       "W = 0.97022, p-value = 0.164\n"
      ]
     },
     "metadata": {},
     "output_type": "display_data"
    },
    {
     "name": "stdout",
     "output_type": "stream",
     "text": [
      "[1] \"Shapiro-Wilk normality test for the Lebron James and James Harden PPS  data\"\n"
     ]
    },
    {
     "data": {
      "text/plain": [
       "\n",
       "\tShapiro-Wilk normality test\n",
       "\n",
       "data:  mvp_pps\n",
       "W = 0.99204, p-value = 0.7809\n"
      ]
     },
     "metadata": {},
     "output_type": "display_data"
    }
   ],
   "source": [
    "# test for normality\n",
    "print('Shapiro-Wilk normality test for the Stephen Curry PPS data')\n",
    "shapiro.test(sc_pps)\n",
    "\n",
    "# test for normality\n",
    "print('Shapiro-Wilk normality test for the Lebron James and James Harden PPS  data')\n",
    "shapiro.test(mvp_pps)"
   ]
  },
  {
   "cell_type": "markdown",
   "metadata": {},
   "source": [
    "We obtain a p-value of  0.164 for the steph pps data. At the significance level  α=0.05  for instance, we retain  H0  for  H1  and we thus conclude that you cannot reject the hypothesis that the sample comes from a population which has a normal distribution. Likewise for the james and lebron data. We obtain a p- value of 0.7809. At significance level α=0.05 we retain H0\n",
    "\n",
    "both have large sample sizes"
   ]
  },
  {
   "cell_type": "code",
   "execution_count": 151,
   "metadata": {},
   "outputs": [
    {
     "data": {
      "text/html": [
       "58"
      ],
      "text/latex": [
       "58"
      ],
      "text/markdown": [
       "58"
      ],
      "text/plain": [
       "[1] 58"
      ]
     },
     "metadata": {},
     "output_type": "display_data"
    },
    {
     "data": {
      "text/html": [
       "109"
      ],
      "text/latex": [
       "109"
      ],
      "text/markdown": [
       "109"
      ],
      "text/plain": [
       "[1] 109"
      ]
     },
     "metadata": {},
     "output_type": "display_data"
    }
   ],
   "source": [
    "nrow(sc_pps_df)\n",
    "nrow(mvp_pps_df)"
   ]
  },
  {
   "cell_type": "code",
   "execution_count": 154,
   "metadata": {},
   "outputs": [
    {
     "data": {
      "text/html": [
       "<table>\n",
       "<thead><tr><th scope=col>Measurement</th><th scope=col>Curry_PPS</th><th scope=col>James_And_Harden_PPS</th></tr></thead>\n",
       "<tbody>\n",
       "\t<tr><td>P-Value  </td><td>0.1640065</td><td>0.7809302</td></tr>\n",
       "</tbody>\n",
       "</table>\n"
      ],
      "text/latex": [
       "\\begin{tabular}{r|lll}\n",
       " Measurement & Curry\\_PPS & James\\_And\\_Harden\\_PPS\\\\\n",
       "\\hline\n",
       "\t P-Value   & 0.1640065 & 0.7809302\\\\\n",
       "\\end{tabular}\n"
      ],
      "text/markdown": [
       "\n",
       "| Measurement | Curry_PPS | James_And_Harden_PPS |\n",
       "|---|---|---|\n",
       "| P-Value   | 0.1640065 | 0.7809302 |\n",
       "\n"
      ],
      "text/plain": [
       "  Measurement Curry_PPS James_And_Harden_PPS\n",
       "1 P-Value     0.1640065 0.7809302           "
      ]
     },
     "metadata": {},
     "output_type": "display_data"
    }
   ],
   "source": [
    "Curry_PPS <- shapiro.test(sc_pps)$p.value\n",
    "James_And_Harden_PPS <- shapiro.test(mvp_pps)$p.value\n",
    "Measurement <- 'P-Value'\n",
    "Results <- data.frame(Results)\n",
    "shaptest <- data.frame(Measurement,Curry_PPS,James_And_Harden_PPS)\n",
    "shaptest"
   ]
  },
  {
   "cell_type": "code",
   "execution_count": 58,
   "metadata": {},
   "outputs": [
    {
     "data": {
      "text/plain": [
       "\n",
       "\tF test to compare two variances\n",
       "\n",
       "data:  sc_pps and mvp_pps\n",
       "F = 1.0745, num df = 57, denom df = 108, p-value = 0.7381\n",
       "alternative hypothesis: true ratio of variances is not equal to 1\n",
       "95 percent confidence interval:\n",
       " 0.6911918 1.7258177\n",
       "sample estimates:\n",
       "ratio of variances \n",
       "          1.074482 \n"
      ]
     },
     "metadata": {},
     "output_type": "display_data"
    }
   ],
   "source": [
    "# test equality of variances\n",
    "var.test(sc_pps, mvp_pps, alternative = \"two.sided\")"
   ]
  },
  {
   "cell_type": "markdown",
   "metadata": {},
   "source": [
    "The p-value of F-test is p = 0.7381 which is greater than the significance level 0.05. In conclusion, there is no significant difference between the two variances."
   ]
  },
  {
   "cell_type": "code",
   "execution_count": 155,
   "metadata": {},
   "outputs": [
    {
     "data": {
      "text/html": [
       "<table>\n",
       "<thead><tr><th scope=col>Measurement</th><th scope=col>Results</th></tr></thead>\n",
       "<tbody>\n",
       "\t<tr><td>Estimate for the ratio of variances</td><td>1.0744817                          </td></tr>\n",
       "\t<tr><td>P-Value                            </td><td>0.7381446                          </td></tr>\n",
       "</tbody>\n",
       "</table>\n"
      ],
      "text/latex": [
       "\\begin{tabular}{r|ll}\n",
       " Measurement & Results\\\\\n",
       "\\hline\n",
       "\t Estimate for the ratio of variances & 1.0744817                          \\\\\n",
       "\t P-Value                             & 0.7381446                          \\\\\n",
       "\\end{tabular}\n"
      ],
      "text/markdown": [
       "\n",
       "| Measurement | Results |\n",
       "|---|---|\n",
       "| Estimate for the ratio of variances | 1.0744817                           |\n",
       "| P-Value                             | 0.7381446                           |\n",
       "\n"
      ],
      "text/plain": [
       "  Measurement                         Results  \n",
       "1 Estimate for the ratio of variances 1.0744817\n",
       "2 P-Value                             0.7381446"
      ]
     },
     "metadata": {},
     "output_type": "display_data"
    }
   ],
   "source": [
    "Results <- c(var.test(sc_pps, mvp_pps, alternative = \"two.sided\")$estimate,\n",
    "             var.test(sc_pps, mvp_pps, alternative = \"two.sided\")$p.value)\n",
    "Measurement <- c('Estimate for the ratio of variances','P-Value')\n",
    "Results <- data.frame(Results)[1:2,1]\n",
    "ftest1 <- data.frame(Measurement,Results)\n",
    "ftest1"
   ]
  },
  {
   "cell_type": "code",
   "execution_count": 92,
   "metadata": {},
   "outputs": [
    {
     "data": {
      "text/plain": [
       "\n",
       "\tTwo Sample t-test\n",
       "\n",
       "data:  sc_pps and mvp_pps\n",
       "t = 2.4345, df = 165, p-value = 0.992\n",
       "alternative hypothesis: true difference in means is less than 0\n",
       "95 percent confidence interval:\n",
       "      -Inf 0.1886002\n",
       "sample estimates:\n",
       "mean of x mean of y \n",
       " 1.164923  1.052625 \n"
      ]
     },
     "metadata": {},
     "output_type": "display_data"
    }
   ],
   "source": [
    "t.test(sc_pps, mvp_pps, alternative='less', conf.level=0.95,var.equal = TRUE)"
   ]
  },
  {
   "cell_type": "code",
   "execution_count": 156,
   "metadata": {},
   "outputs": [
    {
     "data": {
      "text/html": [
       "<table>\n",
       "<thead><tr><th scope=col>Measurement</th><th scope=col>Results</th></tr></thead>\n",
       "<tbody>\n",
       "\t<tr><td>Estimated mean of x</td><td>1.1649235          </td></tr>\n",
       "\t<tr><td>Estimated mean of y</td><td>1.0526254          </td></tr>\n",
       "\t<tr><td>P-Value            </td><td>0.9920107          </td></tr>\n",
       "</tbody>\n",
       "</table>\n"
      ],
      "text/latex": [
       "\\begin{tabular}{r|ll}\n",
       " Measurement & Results\\\\\n",
       "\\hline\n",
       "\t Estimated mean of x & 1.1649235          \\\\\n",
       "\t Estimated mean of y & 1.0526254          \\\\\n",
       "\t P-Value             & 0.9920107          \\\\\n",
       "\\end{tabular}\n"
      ],
      "text/markdown": [
       "\n",
       "| Measurement | Results |\n",
       "|---|---|\n",
       "| Estimated mean of x | 1.1649235           |\n",
       "| Estimated mean of y | 1.0526254           |\n",
       "| P-Value             | 0.9920107           |\n",
       "\n"
      ],
      "text/plain": [
       "  Measurement         Results  \n",
       "1 Estimated mean of x 1.1649235\n",
       "2 Estimated mean of y 1.0526254\n",
       "3 P-Value             0.9920107"
      ]
     },
     "metadata": {},
     "output_type": "display_data"
    }
   ],
   "source": [
    "Results <- c(t.test(sc_pps, mvp_pps, alternative='less', conf.level=0.95,var.equal = TRUE)$estimate,\n",
    "             t.test(sc_pps, mvp_pps, alternative='less', conf.level=0.95,var.equal = TRUE)$p.value)\n",
    "Measurement <- c('Estimated mean of x','Estimated mean of y','P-Value')\n",
    "Results <- data.frame(Results)[1:3,1]\n",
    "ttest1 <- data.frame(Measurement,Results)\n",
    "ttest1"
   ]
  },
  {
   "cell_type": "markdown",
   "metadata": {},
   "source": [
    "## T test \n",
    "\n",
    "##### does steph curry shoot the same percentage per game in the clutch as the regular time?\n",
    "\n",
    "is steph curry's shot affected by pressure?\n",
    "\n",
    "We will test if the shooting percentage remains the same during clutch times (last 5 mins final margin < 11 or last second of shot clock) and regular time\n",
    "\n",
    "clutch_df is the clutch time shot data\n",
    "\n",
    "regular_df is the regular time shot data\n",
    "\n",
    "$H_{0} : \\mu_{clutch} = \\mu_{regular}$\n",
    "\n",
    "$H_{1} : \\mu_{clutch} > \\mu_{regular}$"
   ]
  },
  {
   "cell_type": "code",
   "execution_count": 60,
   "metadata": {},
   "outputs": [],
   "source": [
    "#get the data for clutch\n",
    "\n",
    "#subset the steph dataframe by last 5 minutes 4,5,6 or 7th period final margin less than 11 OR shot clock less than 1\n",
    "clutch_df <- steph_df[(steph_df$GAME_CLOCK < 500 & steph_df$PERIOD > 3 & abs(steph_df$FINAL_MARGIN) < 11) | steph_df$SHOT_CLOCK > 23,\n",
    "                      c('GAME_ID','FGM')]\n",
    "\n",
    "#find amount of shots made and missed for each game\n",
    "clutch_made <- clutch_df[clutch_df$FGM == 1, 'GAME_ID']\n",
    "clutch_made <- as.data.frame(table(clutch_made))\n",
    "\n",
    "clutch_missed <- clutch_df[clutch_df$FGM == 0, 'GAME_ID']\n",
    "clutch_missed <- as.data.frame(table(clutch_missed))\n",
    "\n",
    "\n",
    "clutch_total <- merge(clutch_made,clutch_missed,by.x='clutch_made',by.y='clutch_missed', all=TRUE,\n",
    "                        suffixes = c(\" made\",\" missed\"))\n",
    "\n",
    "#replace missing values with 0\n",
    "clutch_total [is.na(clutch_total )] <- 0\n",
    "\n",
    "clutch_percent <- clutch_total[,2] / (clutch_total[,2] + clutch_total[,3])"
   ]
  },
  {
   "cell_type": "code",
   "execution_count": 61,
   "metadata": {},
   "outputs": [
    {
     "data": {
      "text/html": [
       "22"
      ],
      "text/latex": [
       "22"
      ],
      "text/markdown": [
       "22"
      ],
      "text/plain": [
       "[1] 22"
      ]
     },
     "metadata": {},
     "output_type": "display_data"
    }
   ],
   "source": [
    "nrow(clutch_missed)"
   ]
  },
  {
   "cell_type": "code",
   "execution_count": 62,
   "metadata": {},
   "outputs": [],
   "source": [
    "#data for regular time\n",
    "\n",
    "regular_df <- steph_df[!((steph_df$GAME_CLOCK < 500 & steph_df$PERIOD > 3 & abs(steph_df$FINAL_MARGIN) < 8) | steph_df$SHOT_CLOCK > 23),\n",
    "                      c('GAME_ID','FGM')]\n",
    "\n",
    "#find amount of shots made and missed for each game\n",
    "regular_made <- regular_df[regular_df$FGM == 1, 'GAME_ID']\n",
    "regular_made <- as.data.frame(table(regular_made))\n",
    "\n",
    "regular_missed <- regular_df[regular_df$FGM == 0, 'GAME_ID']\n",
    "regular_missed <- as.data.frame(table(regular_missed))\n",
    "\n",
    "regular_total <- merge(regular_made,regular_missed,by.x='regular_made',by.y='regular_missed', all=TRUE,\n",
    "                       suffixes = c(\" made\",\" missed\"))\n",
    "\n",
    "#replace missing values with 0\n",
    "regular_total [is.na(regular_total )] <- 0\n",
    "\n",
    "regular_percent <- regular_total[,2] / (regular_total[,2] + regular_total[,3])\n"
   ]
  },
  {
   "cell_type": "code",
   "execution_count": 63,
   "metadata": {},
   "outputs": [
    {
     "data": {
      "image/png": "[encoded data removed]",
      "text/plain": [
       "Plot with title \"Histogram of regular_percent\""
      ]
     },
     "metadata": {},
     "output_type": "display_data"
    }
   ],
   "source": [
    "par(mfrow=c(1,2))\n",
    "hist(clutch_percent)\n",
    "hist(regular_percent)"
   ]
  },
  {
   "cell_type": "code",
   "execution_count": 64,
   "metadata": {},
   "outputs": [
    {
     "name": "stderr",
     "output_type": "stream",
     "text": [
      "Warning message:\n",
      "\"package 'ggpubr' was built under R version 3.6.3\""
     ]
    },
    {
     "name": "stdout",
     "output_type": "stream",
     "text": [
      "[1] \"Shapiro-Wilk normality test for the clutch data\"\n"
     ]
    },
    {
     "data": {
      "text/plain": [
       "\n",
       "\tShapiro-Wilk normality test\n",
       "\n",
       "data:  clutch_percent\n",
       "W = 0.82799, p-value = 0.000277\n"
      ]
     },
     "metadata": {},
     "output_type": "display_data"
    },
    {
     "name": "stdout",
     "output_type": "stream",
     "text": [
      "[1] \"Shapiro-Wilk normality test for the regular data\"\n"
     ]
    },
    {
     "data": {
      "text/plain": [
       "\n",
       "\tShapiro-Wilk normality test\n",
       "\n",
       "data:  regular_percent\n",
       "W = 0.98725, p-value = 0.8096\n"
      ]
     },
     "metadata": {},
     "output_type": "display_data"
    }
   ],
   "source": [
    "# test for normality\n",
    "library(ggpubr)\n",
    "print('Shapiro-Wilk normality test for the clutch data')\n",
    "shapiro.test(clutch_percent)\n",
    "print('Shapiro-Wilk normality test for the regular data')\n",
    "shapiro.test(regular_percent)"
   ]
  },
  {
   "cell_type": "markdown",
   "metadata": {},
   "source": [
    "The clutch data is not normally distributed but the sample size of $71$ means that means of samples from a population with finite variance approach a normal distribution regardless of the distribution of the population (central limit theorem)\n",
    "\n",
    "By the central limit theorem, means of samples from a population with finite variance approach a normal distribution regardless of the distribution of the population. Rules of thumb say that the sample means are basically normally distributed as long as the sample size is at least 20 or 30. For a t-test to be valid on a sample of smaller size, the population distribution would have to be approximately normal. https://stats.stackexchange.com/questions/9573/t-test-for-non-normal-when-n50#:~:text=For%20a%20t%2Dtest%20to,samples%20from%20non%2Dnormal%20distributions."
   ]
  },
  {
   "cell_type": "code",
   "execution_count": 65,
   "metadata": {},
   "outputs": [
    {
     "data": {
      "text/plain": [
       "\n",
       "\tWelch Two Sample t-test\n",
       "\n",
       "data:  clutch_percent and regular_percent\n",
       "t = -1.0847, df = 30.04, p-value = 0.2867\n",
       "alternative hypothesis: true difference in means is not equal to 0\n",
       "95 percent confidence interval:\n",
       " -0.2354382  0.0720885\n",
       "sample estimates:\n",
       "mean of x mean of y \n",
       "0.4093596 0.4910345 \n"
      ]
     },
     "metadata": {},
     "output_type": "display_data"
    }
   ],
   "source": [
    "t.test(clutch_percent, regular_percent, alternative='two.sided', conf.level=0.95)"
   ]
  },
  {
   "cell_type": "markdown",
   "metadata": {},
   "source": [
    "We obtain a p-value of 0.8172. At a significance level  𝛼=0.05 , we therefore retain $𝐻_{0}$. This means that steph may shoot the same percentage in the clutch moments as regular moments. \n",
    "\n",
    "Compare to rest of the league\n",
    "\n",
    "### 2 Sample t-test clutchness steph vs the nba\n",
    "\n",
    "$H_{0} : \\mu_{steph- clutch} = \\mu_{nba- clutch}$\n",
    "\n",
    "$H_{1} : \\mu_{steph- clutch} > \\mu_{nba- clutch}$"
   ]
  },
  {
   "cell_type": "code",
   "execution_count": 66,
   "metadata": {},
   "outputs": [],
   "source": [
    "#rename for steph data\n",
    "clutch_sc <- clutch_df\n",
    "clutch_percent_sc <- clutch_percent\n",
    "\n",
    "\n",
    "# obtain clutch data for the rest of the league \n",
    "clutch_nba <- nba_data[(nba_data$GAME_CLOCK < 500 & nba_data$PERIOD > 3 & abs(nba_data$FINAL_MARGIN) < 8) | \n",
    "                       nba_data$SHOT_CLOCK > 23, c('GAME_ID','FGM')]\n",
    "\n",
    "#find percent, copy paste as above\n",
    "clutch_made_nba <- clutch_nba[clutch_nba$FGM == 1, 'GAME_ID']\n",
    "clutch_made_nba <- as.data.frame(table(clutch_made_nba))\n",
    "\n",
    "clutch_missed_nba <- clutch_nba[clutch_nba$FGM == 0, 'GAME_ID']\n",
    "clutch_missed_nba <- as.data.frame(table(clutch_missed_nba))\n",
    "\n",
    "clutch_total_nba <- merge(clutch_made_nba,clutch_missed_nba,by.x='clutch_made_nba',by.y='clutch_missed_nba', all=TRUE,\n",
    "                        suffixes = c(\" made\",\" missed\"))\n",
    "\n",
    "#replace missing values with 0\n",
    "clutch_total_nba[is.na(clutch_total_nba)] <- 0\n",
    "\n",
    "clutch_percent_nba <- clutch_total_nba[,2] / (clutch_total_nba[,2] + clutch_total_nba[,3])"
   ]
  },
  {
   "cell_type": "code",
   "execution_count": 67,
   "metadata": {},
   "outputs": [
    {
     "data": {
      "image/png": "[encoded data removed]",
      "text/plain": [
       "Plot with title \"Histogram of clutch_percent_nba\""
      ]
     },
     "metadata": {},
     "output_type": "display_data"
    }
   ],
   "source": [
    "par(mfrow=c(1,2))\n",
    "hist(clutch_percent_sc)\n",
    "hist(clutch_percent_nba)"
   ]
  },
  {
   "cell_type": "code",
   "execution_count": 68,
   "metadata": {},
   "outputs": [
    {
     "data": {
      "text/plain": [
       "\n",
       "\tWelch Two Sample t-test\n",
       "\n",
       "data:  clutch_percent_sc and clutch_percent_nba\n",
       "t = -1.6324, df = 28.609, p-value = 0.9432\n",
       "alternative hypothesis: true difference in means is greater than 0\n",
       "95 percent confidence interval:\n",
       " -0.247818       Inf\n",
       "sample estimates:\n",
       "mean of x mean of y \n",
       "0.4093596 0.5307574 \n"
      ]
     },
     "metadata": {},
     "output_type": "display_data"
    }
   ],
   "source": [
    "t.test(clutch_percent_sc, clutch_percent_nba, alternative='greater', conf.level=0.95)"
   ]
  },
  {
   "cell_type": "markdown",
   "metadata": {},
   "source": [
    "We obtain a p-value of 0.9151. At a significance level  𝛼=0.05 , we therefore retain $𝐻_{0}$. This means that steph may shoot the same percentage in the clutch moments vs the rest of the nba. \n",
    "\n",
    "Let's compare this to the top 3 point shooters\n",
    "\n",
    "### 2 Sample t-test clutchness steph vs top 3 point shooters"
   ]
  },
  {
   "cell_type": "code",
   "execution_count": 69,
   "metadata": {},
   "outputs": [],
   "source": [
    "# obtain clutch data for the top 3 point shooters\n",
    "\n",
    "#subset nba_data for those shooters\n",
    "three_data <- nba_data[(nba_data$PLAYER_NAME=='Damian Lillard'|nba_data$PLAYER_NAME=='James Harden'|\n",
    "                      nba_data$PLAYER_NAME=='Klay Thompson'|nba_data$PLAYER_NAME=='Kyle Korver'|\n",
    "                      nba_data$PLAYER_NAME=='Trevor Ariza'|nba_data$PLAYER_NAME=='Wesley Matthews'),]\n",
    "\n",
    "#subset for the clutch shots\n",
    "clutch_three <- three_data[(three_data$GAME_CLOCK < 500 & three_data$PERIOD > 3 & abs(three_data$FINAL_MARGIN) < 8) | \n",
    "                       three_data$SHOT_CLOCK > 23, c('GAME_ID','FGM')]\n",
    "\n",
    "#find percent, copy paste as above\n",
    "clutch_made_three <- clutch_three[clutch_three$FGM == 1, 'GAME_ID']\n",
    "clutch_made_three <- as.data.frame(table(clutch_made_three))\n",
    "\n",
    "clutch_missed_three <- clutch_three[clutch_three$FGM == 0, 'GAME_ID']\n",
    "clutch_missed_three <- as.data.frame(table(clutch_missed_three))\n",
    "\n",
    "clutch_total_three <- merge(clutch_made_three,clutch_missed_three,by.x='clutch_made_three',by.y='clutch_missed_three', all=TRUE,\n",
    "                        suffixes = c(\" made\",\" missed\"))\n",
    "\n",
    "#replace missing values with 0\n",
    "clutch_total_three[is.na(clutch_total_three)] <- 0\n",
    "\n",
    "clutch_percent_three <- clutch_total_three[,2] / (clutch_total_three[,2] + clutch_total_three[,3])"
   ]
  },
  {
   "cell_type": "code",
   "execution_count": 70,
   "metadata": {},
   "outputs": [
    {
     "data": {
      "image/png": "[encoded data removed]",
      "text/plain": [
       "Plot with title \"Histogram of clutch_percent_three\""
      ]
     },
     "metadata": {},
     "output_type": "display_data"
    }
   ],
   "source": [
    "par(mfrow=c(1,2))\n",
    "hist(clutch_percent_sc)\n",
    "hist(clutch_percent_three)"
   ]
  },
  {
   "cell_type": "code",
   "execution_count": 71,
   "metadata": {},
   "outputs": [
    {
     "data": {
      "text/plain": [
       "\n",
       "\tWelch Two Sample t-test\n",
       "\n",
       "data:  clutch_percent_sc and clutch_percent_three\n",
       "t = -0.40644, df = 41.266, p-value = 0.6567\n",
       "alternative hypothesis: true difference in means is greater than 0\n",
       "95 percent confidence interval:\n",
       " -0.1707916        Inf\n",
       "sample estimates:\n",
       "mean of x mean of y \n",
       "0.4093596 0.4425880 \n"
      ]
     },
     "metadata": {},
     "output_type": "display_data"
    }
   ],
   "source": [
    "t.test(clutch_percent_sc, clutch_percent_three, alternative='greater', conf.level=0.95)"
   ]
  },
  {
   "cell_type": "markdown",
   "metadata": {},
   "source": [
    "We obtain a p-value of 0.6221. At a significance level  𝛼=0.05 , we therefore retain $𝐻_{0}$. This means that steph may shoot the same percentage in the clutch moments vs the other top 3 point shooters."
   ]
  },
  {
   "cell_type": "markdown",
   "metadata": {},
   "source": [
    "#### t test steph 3 point shot makes vs rest of nba \n",
    "\n",
    "$H_{0} : \\mu_{clutch} = \\mu_{regular}$\n",
    "\n",
    "$H_{1} : \\mu_{clutch} > \\mu_{regular}$"
   ]
  },
  {
   "cell_type": "code",
   "execution_count": 72,
   "metadata": {},
   "outputs": [],
   "source": [
    "#3 pointer made by steph per game\n",
    "three_made_sc <- steph_df[steph_df$PTS == 3,'GAME_ID']\n",
    "three_made_sc <- as.data.frame(table(three_made_sc))\n",
    "\n",
    "#3 pointer made by nba players per game \n",
    "three_made_nba <- nba_data[nba_data$PTS == 3,c('GAME_ID','PLAYER_NAME')]\n",
    "three_made_nba <- as.data.frame(table(three_made_nba))\n",
    "\n",
    "# delete rows with 0\n",
    "three_made_nba <- three_made_nba[three_made_nba$Freq > 0,]"
   ]
  },
  {
   "cell_type": "code",
   "execution_count": 73,
   "metadata": {},
   "outputs": [
    {
     "data": {
      "image/png": "[encoded data removed]",
      "text/plain": [
       "Plot with title \"Histogram of three_made_nba[, 3]\""
      ]
     },
     "metadata": {},
     "output_type": "display_data"
    }
   ],
   "source": [
    "par(mfrow=c(1,2))\n",
    "hist(three_made_sc[,2])\n",
    "hist(three_made_nba[,3])"
   ]
  },
  {
   "cell_type": "code",
   "execution_count": 74,
   "metadata": {},
   "outputs": [
    {
     "name": "stdout",
     "output_type": "stream",
     "text": [
      "[1] \"Shapiro-Wilk normality test for the steph data\"\n"
     ]
    },
    {
     "data": {
      "text/plain": [
       "\n",
       "\tShapiro-Wilk normality test\n",
       "\n",
       "data:  three_made_sc[, 2]\n",
       "W = 0.90904, p-value = 0.0004616\n"
      ]
     },
     "metadata": {},
     "output_type": "display_data"
    },
    {
     "name": "stdout",
     "output_type": "stream",
     "text": [
      "[1] \"Shapiro-Wilk normality test for the nba data\"\n"
     ]
    },
    {
     "data": {
      "text/plain": [
       "\n",
       "\tShapiro-Wilk normality test\n",
       "\n",
       "data:  three_made_nba[1:5000, 3]\n",
       "W = 0.76109, p-value < 2.2e-16\n"
      ]
     },
     "metadata": {},
     "output_type": "display_data"
    }
   ],
   "source": [
    "# test for normality\n",
    "print('Shapiro-Wilk normality test for the steph data')\n",
    "shapiro.test(three_made_sc[,2])\n",
    "\n",
    "# sample size is too large (make it a random sample)\n",
    "print('Shapiro-Wilk normality test for the nba data')\n",
    "shapiro.test(three_made_nba[1:5000,3])"
   ]
  },
  {
   "cell_type": "markdown",
   "metadata": {},
   "source": [
    "Both p values are very small, suggests the data is not guassian. \n",
    "\n",
    "However due to the central limit theorem and both samples being quite large, they approach a normal distribution regardless of the distribution of the population"
   ]
  },
  {
   "cell_type": "code",
   "execution_count": 75,
   "metadata": {},
   "outputs": [
    {
     "data": {
      "text/plain": [
       "\n",
       "\tWelch Two Sample t-test\n",
       "\n",
       "data:  three_made_sc[, 2] and three_made_nba[, 3]\n",
       "t = 5.7286, df = 55.331, p-value = 2.162e-07\n",
       "alternative hypothesis: true difference in means is greater than 0\n",
       "95 percent confidence interval:\n",
       " 1.052634      Inf\n",
       "sample estimates:\n",
       "mean of x mean of y \n",
       " 3.357143  1.870327 \n"
      ]
     },
     "metadata": {},
     "output_type": "display_data"
    }
   ],
   "source": [
    "t.test(three_made_sc[,2], three_made_nba[,3], alternative='greater', conf.level=0.95)"
   ]
  },
  {
   "cell_type": "markdown",
   "metadata": {},
   "source": [
    "We obtain a small p-value of 2.162e-07. At a significance level  𝛼=0.05 , we therefore reject $𝐻_{0}$.\n",
    "\n",
    "This suggests Steph makes more 3's per game than the rest of the nba"
   ]
  },
  {
   "cell_type": "markdown",
   "metadata": {},
   "source": [
    "## t test (non parametric)\n",
    "\n",
    "#### steph curry clutchness \n",
    "\n",
    "is steph curry's shot affected by pressure?\n",
    "\n",
    "We will test if the shooting percentage remains the same during clutch times (last 5 mins final margin < 11 or last second of shot clock) and regular time\n",
    "\n",
    "Then do the one way t test\n",
    "\n",
    "$H_{0} : \\mu_{clutch} = \\mu_{regular}$\n",
    "\n",
    "$H_{1} : \\mu_{clutch} != \\mu_{regular}$\n",
    "\n",
    "https://statistics.laerd.com/statistical-guides/one-way-anova-statistical-guide-2.php"
   ]
  },
  {
   "cell_type": "code",
   "execution_count": 182,
   "metadata": {},
   "outputs": [],
   "source": [
    "#get the data for clutch\n",
    "\n",
    "#subset the steph dataframe by last 5 minutes 4,5,6 or 7th period final margin less than 11 OR shot clock less than 1\n",
    "clutch_df <- steph_df[(steph_df$GAME_CLOCK < 500 & steph_df$PERIOD > 3 & abs(steph_df$FINAL_MARGIN) < 11) | steph_df$SHOT_CLOCK > 23,\n",
    "                      c('GAME_ID','FGM')]\n",
    "\n",
    "#find amount of shots made and missed for each game\n",
    "clutch_made <- clutch_df[clutch_df$FGM == 1, 'GAME_ID']\n",
    "clutch_made <- as.data.frame(table(clutch_made))\n",
    "\n",
    "clutch_missed <- clutch_df[clutch_df$FGM == 0, 'GAME_ID']\n",
    "clutch_missed <- as.data.frame(table(clutch_missed))\n",
    "\n",
    "\n",
    "clutch_total <- merge(clutch_made,clutch_missed,by.x='clutch_made',by.y='clutch_missed', all=TRUE,\n",
    "                        suffixes = c(\" made\",\" missed\"))\n",
    "\n",
    "#replace missing values with 0\n",
    "clutch_total [is.na(clutch_total )] <- 0\n",
    "\n",
    "clutch_percent <- clutch_total[,2] / (clutch_total[,2] + clutch_total[,3])\n",
    "clutch_df <- data.frame(clutch_percent)"
   ]
  },
  {
   "cell_type": "code",
   "execution_count": 183,
   "metadata": {},
   "outputs": [],
   "source": [
    "#data for regular time\n",
    "\n",
    "regular_df <- steph_df[!((steph_df$GAME_CLOCK < 500 & steph_df$PERIOD > 3 & abs(steph_df$FINAL_MARGIN) < 8) | steph_df$SHOT_CLOCK > 23),\n",
    "                      c('GAME_ID','FGM')]\n",
    "\n",
    "#find amount of shots made and missed for each game\n",
    "regular_made <- regular_df[regular_df$FGM == 1, 'GAME_ID']\n",
    "regular_made <- as.data.frame(table(regular_made))\n",
    "\n",
    "regular_missed <- regular_df[regular_df$FGM == 0, 'GAME_ID']\n",
    "regular_missed <- as.data.frame(table(regular_missed))\n",
    "\n",
    "regular_total <- merge(regular_made,regular_missed,by.x='regular_made',by.y='regular_missed', all=TRUE,\n",
    "                       suffixes = c(\" made\",\" missed\"))\n",
    "\n",
    "#replace missing values with 0\n",
    "regular_total [is.na(regular_total )] <- 0\n",
    "\n",
    "regular_percent <- regular_total[,2] / (regular_total[,2] + regular_total[,3])\n",
    "regular_df <- data.frame(regular_percent)"
   ]
  },
  {
   "cell_type": "code",
   "execution_count": 184,
   "metadata": {},
   "outputs": [
    {
     "data": {
      "image/png": "[encoded data removed]",
      "text/plain": [
       "plot without title"
      ]
     },
     "metadata": {},
     "output_type": "display_data"
    }
   ],
   "source": [
    "p1 <- ggplot(clutch_df, aes(x=clutch_df[,1])) + \n",
    "  geom_histogram(binwidth=0.2, fill=\"royalblue1\", color=\"#e9ecef\", alpha=0.7,position = 'identity') +\n",
    "   ylab(\"Frequency\") +\n",
    "    xlab(\"Stephen Curry's field goal percent in the clutch\") +\n",
    "    ggtitle(\"Histogram of Stephen Curry's field goal percentage in the clutch\")\n",
    "p2 <- ggplot(regular_df, aes(x=regular_df[,1])) + \n",
    "  geom_histogram(binwidth=0.1, fill=\"royalblue1\", color=\"#e9ecef\", alpha=0.7,position = 'identity') +\n",
    "   ylab(\"Frequency\") +\n",
    "    xlab(\"Stephen Curry's field goal percentage in regular time\") +\n",
    "    ggtitle(\"Histogram of Stephen Curry's field goal percentage in regular time\")\n",
    "\n",
    "grid.arrange(p1, p2, nrow = 1)"
   ]
  },
  {
   "cell_type": "code",
   "execution_count": 185,
   "metadata": {},
   "outputs": [
    {
     "name": "stdout",
     "output_type": "stream",
     "text": [
      "[1] \"Shapiro-Wilk normality test for the clutch data\"\n"
     ]
    },
    {
     "data": {
      "text/plain": [
       "\n",
       "\tShapiro-Wilk normality test\n",
       "\n",
       "data:  clutch_percent\n",
       "W = 0.82799, p-value = 0.000277\n"
      ]
     },
     "metadata": {},
     "output_type": "display_data"
    },
    {
     "name": "stdout",
     "output_type": "stream",
     "text": [
      "[1] \"Shapiro-Wilk normality test for the regular data\"\n"
     ]
    },
    {
     "data": {
      "text/plain": [
       "\n",
       "\tShapiro-Wilk normality test\n",
       "\n",
       "data:  regular_percent\n",
       "W = 0.98725, p-value = 0.8096\n"
      ]
     },
     "metadata": {},
     "output_type": "display_data"
    }
   ],
   "source": [
    "# test for normality\n",
    "print('Shapiro-Wilk normality test for the clutch data')\n",
    "shapiro.test(clutch_percent)\n",
    "print('Shapiro-Wilk normality test for the regular data')\n",
    "shapiro.test(regular_percent)"
   ]
  },
  {
   "cell_type": "markdown",
   "metadata": {},
   "source": [
    "We obtain a p value of 0.8096 for the regular timed data. At significance of alpha =0.05, the Shapiro-wilk test suggests that the data is approximately normally distributed. \n",
    "We obtain a p value of 0.00277 for the clutch data which, at significance level of alpha =0.05, we reject H0 that the data is approximately normally distibuted. However since there is a large sample size ({number}) due to the central lmit theorem, the data is approxiamtely noramlly distributed "
   ]
  },
  {
   "cell_type": "code",
   "execution_count": 186,
   "metadata": {},
   "outputs": [
    {
     "data": {
      "text/html": [
       "<table>\n",
       "<thead><tr><th scope=col>Measurement</th><th scope=col>Clutch</th><th scope=col>Regular</th></tr></thead>\n",
       "<tbody>\n",
       "\t<tr><td>P-Value     </td><td>0.0002770426</td><td>0.8096102   </td></tr>\n",
       "</tbody>\n",
       "</table>\n"
      ],
      "text/latex": [
       "\\begin{tabular}{r|lll}\n",
       " Measurement & Clutch & Regular\\\\\n",
       "\\hline\n",
       "\t P-Value      & 0.0002770426 & 0.8096102   \\\\\n",
       "\\end{tabular}\n"
      ],
      "text/markdown": [
       "\n",
       "| Measurement | Clutch | Regular |\n",
       "|---|---|---|\n",
       "| P-Value      | 0.0002770426 | 0.8096102    |\n",
       "\n"
      ],
      "text/plain": [
       "  Measurement Clutch       Regular  \n",
       "1 P-Value     0.0002770426 0.8096102"
      ]
     },
     "metadata": {},
     "output_type": "display_data"
    }
   ],
   "source": [
    "Clutch <- shapiro.test(clutch_percent)$p.value\n",
    "Regular <- shapiro.test(regular_percent)$p.value\n",
    "Measurement <- 'P-Value'\n",
    "Results <- data.frame(Results)\n",
    "shaptest2 <- data.frame(Measurement,Clutch,Regular)\n",
    "shaptest2"
   ]
  },
  {
   "cell_type": "code",
   "execution_count": 80,
   "metadata": {},
   "outputs": [
    {
     "data": {
      "text/plain": [
       "\n",
       "\tF test to compare two variances\n",
       "\n",
       "data:  clutch_percent and regular_percent\n",
       "F = 14.085, num df = 28, denom df = 56, p-value = 4.441e-16\n",
       "alternative hypothesis: true ratio of variances is not equal to 1\n",
       "95 percent confidence interval:\n",
       "  7.603194 28.024690\n",
       "sample estimates:\n",
       "ratio of variances \n",
       "          14.08547 \n"
      ]
     },
     "metadata": {},
     "output_type": "display_data"
    }
   ],
   "source": [
    "# test equality of variances\n",
    "var.test(clutch_percent, regular_percent, alternative = \"two.sided\")"
   ]
  },
  {
   "cell_type": "markdown",
   "metadata": {},
   "source": [
    "We obtain a very small p value of 4.441e-16 which, at the significance level of alpha = 0.05, we reject H0. In conclusion, there is sugested significant difference between the two variances.\n",
    "\n",
    "Since the assumptions of the t test have not been met we will conduct a non-parametric test instead. We will conduct the wilcox rank sum test"
   ]
  },
  {
   "cell_type": "code",
   "execution_count": 81,
   "metadata": {},
   "outputs": [
    {
     "data": {
      "text/plain": [
       "\n",
       "\tWilcoxon rank sum test with continuity correction\n",
       "\n",
       "data:  clutch_percent and regular_percent\n",
       "W = 629, p-value = 0.07146\n",
       "alternative hypothesis: true location shift is not equal to 0\n"
      ]
     },
     "metadata": {},
     "output_type": "display_data"
    }
   ],
   "source": [
    "wilcox.test(clutch_percent,regular_percent,alternative='two.sided', conf.level=0.95)"
   ]
  },
  {
   "cell_type": "markdown",
   "metadata": {},
   "source": [
    "We obtain a p value of p = 0.07146 which, at alpha =0.05, is greater than the significance level so we therefore retain H0. Thus we cannot conclude that a significant difference exists between Stephen Curry's shooting percentage in clutch moments and regular time moments\n",
    "\n",
    "Conclusion:\n",
    "We did obtain a p value at 0.07146 which at alpha = 0.01, for instance, we would reject H0 in favour of the alternate hypothesis. Maybe if we increased the sample size to include the clutch data in the playoff we would recieve a more significant conclusion."
   ]
  },
  {
   "cell_type": "code",
   "execution_count": 159,
   "metadata": {},
   "outputs": [
    {
     "data": {
      "text/html": [
       "<table>\n",
       "<thead><tr><th scope=col>Measurement</th><th scope=col>Results</th></tr></thead>\n",
       "<tbody>\n",
       "\t<tr><td>P-Value   </td><td>0.07146299</td></tr>\n",
       "</tbody>\n",
       "</table>\n"
      ],
      "text/latex": [
       "\\begin{tabular}{r|ll}\n",
       " Measurement & Results\\\\\n",
       "\\hline\n",
       "\t P-Value    & 0.07146299\\\\\n",
       "\\end{tabular}\n"
      ],
      "text/markdown": [
       "\n",
       "| Measurement | Results |\n",
       "|---|---|\n",
       "| P-Value    | 0.07146299 |\n",
       "\n"
      ],
      "text/plain": [
       "  Measurement Results   \n",
       "1 P-Value     0.07146299"
      ]
     },
     "metadata": {},
     "output_type": "display_data"
    }
   ],
   "source": [
    "Results <- wilcox.test(clutch_percent,regular_percent,alternative='two.sided', conf.level=0.95)$p.value\n",
    "Measurement <- 'P-Value'\n",
    "Results <- data.frame(Results)\n",
    "ttest2 <- data.frame(Measurement,Results)\n",
    "ttest2"
   ]
  },
  {
   "cell_type": "code",
   "execution_count": 187,
   "metadata": {},
   "outputs": [
    {
     "ename": "ERROR",
     "evalue": "Error in kruskal.test.default(clutch_percent, regular_percent, alternative = \"two.sided\", : 'x' and 'g' must have the same length\n",
     "output_type": "error",
     "traceback": [
      "Error in kruskal.test.default(clutch_percent, regular_percent, alternative = \"two.sided\", : 'x' and 'g' must have the same length\nTraceback:\n",
      "1. kruskal.test(clutch_percent, regular_percent, alternative = \"two.sided\", \n .     conf.level = 0.95)",
      "2. kruskal.test.default(clutch_percent, regular_percent, alternative = \"two.sided\", \n .     conf.level = 0.95)",
      "3. stop(\"'x' and 'g' must have the same length\")"
     ]
    }
   ],
   "source": [
    "Results <- kruskal.test(clutch_percent,regular_percent,alternative='two.sided', conf.level=0.95)$p.value\n",
    "Measurement <- 'P-Value'\n",
    "Results <- data.frame(Results)\n",
    "ttest2 <- data.frame(Measurement,Results)"
   ]
  },
  {
   "cell_type": "markdown",
   "metadata": {},
   "source": [
    "## Correlation"
   ]
  },
  {
   "cell_type": "code",
   "execution_count": 82,
   "metadata": {
    "scrolled": false
   },
   "outputs": [
    {
     "name": "stderr",
     "output_type": "stream",
     "text": [
      "Warning message:\n",
      "\"package 'Hmisc' was built under R version 3.6.3\"Loading required package: lattice\n",
      "Loading required package: survival\n",
      "Warning message:\n",
      "\"package 'survival' was built under R version 3.6.3\"Loading required package: Formula\n",
      "Warning message:\n",
      "\"package 'Formula' was built under R version 3.6.3\"\n",
      "Attaching package: 'Hmisc'\n",
      "\n",
      "The following objects are masked from 'package:dplyr':\n",
      "\n",
      "    src, summarize\n",
      "\n",
      "The following objects are masked from 'package:base':\n",
      "\n",
      "    format.pval, units\n",
      "\n"
     ]
    },
    {
     "data": {
      "text/plain": [
       "                 FGM FINAL_MARGIN SHOT_NUMBER PERIOD SHOT_CLOCK GAME_CLOCK\n",
       "FGM             1.00         0.04       -0.04  -0.04       0.04       0.04\n",
       "FINAL_MARGIN    0.04         1.00       -0.10  -0.13      -0.06      -0.06\n",
       "SHOT_NUMBER    -0.04        -0.10        1.00   0.86      -0.19      -0.20\n",
       "PERIOD         -0.04        -0.13        0.86   1.00      -0.17      -0.05\n",
       "SHOT_CLOCK      0.04        -0.06       -0.19  -0.17       1.00       0.15\n",
       "GAME_CLOCK      0.04        -0.06       -0.20  -0.05       0.15       1.00\n",
       "DRIBBLES       -0.02        -0.01        0.15   0.12      -0.04      -0.16\n",
       "TOUCH_TIME     -0.03        -0.01        0.16   0.13      -0.07      -0.17\n",
       "SHOT_DIST      -0.21        -0.01       -0.01  -0.03      -0.04      -0.01\n",
       "PTS_TYPE       -0.14         0.02       -0.01  -0.01      -0.01      -0.02\n",
       "CLOSE_DEF_DIST  0.03         0.04       -0.02  -0.05       0.10       0.04\n",
       "               DRIBBLES TOUCH_TIME SHOT_DIST PTS_TYPE CLOSE_DEF_DIST\n",
       "FGM               -0.02      -0.03     -0.21    -0.14           0.03\n",
       "FINAL_MARGIN      -0.01      -0.01     -0.01     0.02           0.04\n",
       "SHOT_NUMBER        0.15       0.16     -0.01    -0.01          -0.02\n",
       "PERIOD             0.12       0.13     -0.03    -0.01          -0.05\n",
       "SHOT_CLOCK        -0.04      -0.07     -0.04    -0.01           0.10\n",
       "GAME_CLOCK        -0.16      -0.17     -0.01    -0.02           0.04\n",
       "DRIBBLES           1.00       0.95     -0.14    -0.22          -0.17\n",
       "TOUCH_TIME         0.95       1.00     -0.14    -0.22          -0.17\n",
       "SHOT_DIST         -0.14      -0.14      1.00     0.81           0.39\n",
       "PTS_TYPE          -0.22      -0.22      0.81     1.00           0.38\n",
       "CLOSE_DEF_DIST    -0.17      -0.17      0.39     0.38           1.00\n",
       "\n",
       "n= 953 \n",
       "\n",
       "\n",
       "P\n",
       "               FGM    FINAL_MARGIN SHOT_NUMBER PERIOD SHOT_CLOCK GAME_CLOCK\n",
       "FGM                   0.1893       0.1680      0.1712 0.1876     0.2646    \n",
       "FINAL_MARGIN   0.1893              0.0026      0.0000 0.0640     0.0639    \n",
       "SHOT_NUMBER    0.1680 0.0026                   0.0000 0.0000     0.0000    \n",
       "PERIOD         0.1712 0.0000       0.0000             0.0000     0.1299    \n",
       "SHOT_CLOCK     0.1876 0.0640       0.0000      0.0000            0.0000    \n",
       "GAME_CLOCK     0.2646 0.0639       0.0000      0.1299 0.0000               \n",
       "DRIBBLES       0.6019 0.7042       0.0000      0.0002 0.2106     0.0000    \n",
       "TOUCH_TIME     0.2954 0.6849       0.0000      0.0000 0.0348     0.0000    \n",
       "SHOT_DIST      0.0000 0.7065       0.8033      0.4046 0.2141     0.7941    \n",
       "PTS_TYPE       0.0000 0.5174       0.8099      0.6919 0.8534     0.4899    \n",
       "CLOSE_DEF_DIST 0.2875 0.1906       0.4740      0.1375 0.0027     0.2445    \n",
       "               DRIBBLES TOUCH_TIME SHOT_DIST PTS_TYPE CLOSE_DEF_DIST\n",
       "FGM            0.6019   0.2954     0.0000    0.0000   0.2875        \n",
       "FINAL_MARGIN   0.7042   0.6849     0.7065    0.5174   0.1906        \n",
       "SHOT_NUMBER    0.0000   0.0000     0.8033    0.8099   0.4740        \n",
       "PERIOD         0.0002   0.0000     0.4046    0.6919   0.1375        \n",
       "SHOT_CLOCK     0.2106   0.0348     0.2141    0.8534   0.0027        \n",
       "GAME_CLOCK     0.0000   0.0000     0.7941    0.4899   0.2445        \n",
       "DRIBBLES                0.0000     0.0000    0.0000   0.0000        \n",
       "TOUCH_TIME     0.0000              0.0000    0.0000   0.0000        \n",
       "SHOT_DIST      0.0000   0.0000               0.0000   0.0000        \n",
       "PTS_TYPE       0.0000   0.0000     0.0000             0.0000        \n",
       "CLOSE_DEF_DIST 0.0000   0.0000     0.0000    0.0000                 "
      ]
     },
     "metadata": {},
     "output_type": "display_data"
    },
    {
     "name": "stdout",
     "output_type": "stream",
     "text": [
      "[1] \" \"\n"
     ]
    },
    {
     "data": {
      "text/plain": [
       "                 FGM FINAL_MARGIN SHOT_NUMBER PERIOD SHOT_CLOCK GAME_CLOCK\n",
       "FGM             1.00         0.06       -0.01  -0.01       0.10       0.02\n",
       "FINAL_MARGIN    0.06         1.00        0.00   0.00      -0.01       0.00\n",
       "SHOT_NUMBER    -0.01         0.00        1.00   0.66      -0.03      -0.09\n",
       "PERIOD         -0.01         0.00        0.66   1.00      -0.05      -0.02\n",
       "SHOT_CLOCK      0.10        -0.01       -0.03  -0.05       1.00       0.05\n",
       "GAME_CLOCK      0.02         0.00       -0.09  -0.02       0.05       1.00\n",
       "DRIBBLES       -0.03         0.01        0.14   0.06      -0.07      -0.09\n",
       "TOUCH_TIME     -0.05         0.01        0.15   0.05      -0.13      -0.08\n",
       "SHOT_DIST      -0.19         0.01        0.01   0.03      -0.15      -0.04\n",
       "PTS_TYPE       -0.12         0.02        0.00   0.05      -0.02      -0.04\n",
       "CLOSE_DEF_DIST  0.00         0.03       -0.04  -0.01       0.04       0.00\n",
       "               DRIBBLES TOUCH_TIME SHOT_DIST PTS_TYPE CLOSE_DEF_DIST\n",
       "FGM               -0.03      -0.05     -0.19    -0.12           0.00\n",
       "FINAL_MARGIN       0.01       0.01      0.01     0.02           0.03\n",
       "SHOT_NUMBER        0.14       0.15      0.01     0.00          -0.04\n",
       "PERIOD             0.06       0.05      0.03     0.05          -0.01\n",
       "SHOT_CLOCK        -0.07      -0.13     -0.15    -0.02           0.04\n",
       "GAME_CLOCK        -0.09      -0.08     -0.04    -0.04           0.00\n",
       "DRIBBLES           1.00       0.93     -0.10    -0.17          -0.16\n",
       "TOUCH_TIME         0.93       1.00     -0.11    -0.19          -0.18\n",
       "SHOT_DIST         -0.10      -0.11      1.00     0.74           0.52\n",
       "PTS_TYPE          -0.17      -0.19      0.74     1.00           0.41\n",
       "CLOSE_DEF_DIST    -0.16      -0.18      0.52     0.41           1.00\n",
       "\n",
       "n= 124707 \n",
       "\n",
       "\n",
       "P\n",
       "               FGM    FINAL_MARGIN SHOT_NUMBER PERIOD SHOT_CLOCK GAME_CLOCK\n",
       "FGM                   0.0000       0.0014      0.0000 0.0000     0.0000    \n",
       "FINAL_MARGIN   0.0000              0.7157      0.3144 0.0043     0.0882    \n",
       "SHOT_NUMBER    0.0014 0.7157                   0.0000 0.0000     0.0000    \n",
       "PERIOD         0.0000 0.3144       0.0000             0.0000     0.0000    \n",
       "SHOT_CLOCK     0.0000 0.0043       0.0000      0.0000            0.0000    \n",
       "GAME_CLOCK     0.0000 0.0882       0.0000      0.0000 0.0000               \n",
       "DRIBBLES       0.0000 0.0000       0.0000      0.0000 0.0000     0.0000    \n",
       "TOUCH_TIME     0.0000 0.0001       0.0000      0.0000 0.0000     0.0000    \n",
       "SHOT_DIST      0.0000 0.0014       0.0000      0.0000 0.0000     0.0000    \n",
       "PTS_TYPE       0.0000 0.0000       0.0916      0.0000 0.0000     0.0000    \n",
       "CLOSE_DEF_DIST 0.9187 0.0000       0.0000      0.0002 0.0000     0.7390    \n",
       "               DRIBBLES TOUCH_TIME SHOT_DIST PTS_TYPE CLOSE_DEF_DIST\n",
       "FGM            0.0000   0.0000     0.0000    0.0000   0.9187        \n",
       "FINAL_MARGIN   0.0000   0.0001     0.0014    0.0000   0.0000        \n",
       "SHOT_NUMBER    0.0000   0.0000     0.0000    0.0916   0.0000        \n",
       "PERIOD         0.0000   0.0000     0.0000    0.0000   0.0002        \n",
       "SHOT_CLOCK     0.0000   0.0000     0.0000    0.0000   0.0000        \n",
       "GAME_CLOCK     0.0000   0.0000     0.0000    0.0000   0.7390        \n",
       "DRIBBLES                0.0000     0.0000    0.0000   0.0000        \n",
       "TOUCH_TIME     0.0000              0.0000    0.0000   0.0000        \n",
       "SHOT_DIST      0.0000   0.0000               0.0000   0.0000        \n",
       "PTS_TYPE       0.0000   0.0000     0.0000             0.0000        \n",
       "CLOSE_DEF_DIST 0.0000   0.0000     0.0000    0.0000                 "
      ]
     },
     "metadata": {},
     "output_type": "display_data"
    }
   ],
   "source": [
    "rcorr(as.matrix(steph_df[,c('FGM','FINAL_MARGIN','SHOT_NUMBER','PERIOD','SHOT_CLOCK','GAME_CLOCK','DRIBBLES','TOUCH_TIME',\n",
    "                               'SHOT_DIST','PTS_TYPE','CLOSE_DEF_DIST')]))\n",
    "print(' ')\n",
    "rcorr(as.matrix(nba_data[,c('FGM','FINAL_MARGIN','SHOT_NUMBER','PERIOD','SHOT_CLOCK','GAME_CLOCK','DRIBBLES','TOUCH_TIME',\n",
    "                               'SHOT_DIST','PTS_TYPE','CLOSE_DEF_DIST')]))"
   ]
  },
  {
   "cell_type": "code",
   "execution_count": 83,
   "metadata": {},
   "outputs": [
    {
     "ename": "ERROR",
     "evalue": "Error in eval(expr, envir, enclos): object 'nonononononnono' not found\n",
     "output_type": "error",
     "traceback": [
      "Error in eval(expr, envir, enclos): object 'nonononononnono' not found\nTraceback:\n"
     ]
    }
   ],
   "source": [
    "nonononononnono"
   ]
  },
  {
   "cell_type": "markdown",
   "metadata": {},
   "source": [
    "## Regression\n",
    "\n",
    "predict if a shot will go in \n",
    "\n",
    "We search for the set of features that may lead to the best model to predict `FGM`. "
   ]
  },
  {
   "cell_type": "code",
   "execution_count": null,
   "metadata": {},
   "outputs": [],
   "source": [
    "#install.packages('corrplot')"
   ]
  },
  {
   "cell_type": "code",
   "execution_count": null,
   "metadata": {},
   "outputs": [],
   "source": [
    "library('corrplot')\n",
    "\n",
    "CorrMat <- cor(nba_data[,c('FGM','FINAL_MARGIN','SHOT_NUMBER','PERIOD','SHOT_CLOCK','GAME_CLOCK','DRIBBLES','TOUCH_TIME',\n",
    "                               'SHOT_DIST','PTS_TYPE','CLOSE_DEF_DIST' )])\n",
    "corrplot(CorrMat, method=\"circle\")"
   ]
  },
  {
   "cell_type": "code",
   "execution_count": null,
   "metadata": {},
   "outputs": [],
   "source": [
    "mod0 <- lm(FGM ~ 1, data=nba_data)\n",
    "\n",
    "#not sure if I can use final margin\n",
    "step(mod0, scope=list(lower=FGM~1,\n",
    "                      upper=FGM~FINAL_MARGIN+SHOT_NUMBER+PERIOD+SHOT_CLOCK+GAME_CLOCK+DRIBBLES+TOUCH_TIME+\n",
    "                      SHOT_DIST+PTS_TYPE+CLOSE_DEF_DIST),trace=1)"
   ]
  },
  {
   "cell_type": "markdown",
   "metadata": {},
   "source": [
    "For model comparison, the model with the lowest AIC score is preferred. The absolute values of the AIC scores do not matter. These scores can be negative or positive. You should not care for the absolute values and the sign of AIC scores when comparing models.\n",
    "\n",
    "https://books.google.ca/books?id=fT1Iu-h6E-oC&printsec=frontcover#v=onepage&q&f=false\n",
    "\n",
    "The highest absolute AIC score is 181735. The model is: FGM ~ SHOT_DIST + CLOSE_DEF_DIST + FINAL_MARGIN + TOUCH_TIME + \n",
    "    SHOT_CLOCK + DRIBBLES + PTS_TYPE + SHOT_NUMBER."
   ]
  },
  {
   "cell_type": "code",
   "execution_count": null,
   "metadata": {},
   "outputs": [],
   "source": [
    "model = lm(FGM ~  SHOT_DIST + CLOSE_DEF_DIST + FINAL_MARGIN + TOUCH_TIME + SHOT_CLOCK + DRIBBLES + \n",
    "           PTS_TYPE + SHOT_NUMBER, data=nba_data)\n",
    "summary(model)"
   ]
  },
  {
   "cell_type": "markdown",
   "metadata": {},
   "source": [
    "##### Can we predict Stephen Curry's shot outcome using regression?"
   ]
  },
  {
   "cell_type": "code",
   "execution_count": null,
   "metadata": {},
   "outputs": [],
   "source": [
    "library('corrplot')\n",
    "\n",
    "CorrMat_sc <- cor(steph_df[,c('FGM','FINAL_MARGIN','SHOT_NUMBER','PERIOD','SHOT_CLOCK','GAME_CLOCK','DRIBBLES','TOUCH_TIME',\n",
    "                               'SHOT_DIST','PTS_TYPE','CLOSE_DEF_DIST' )])\n",
    "corrplot(CorrMat_sc, method=\"circle\")"
   ]
  },
  {
   "cell_type": "code",
   "execution_count": null,
   "metadata": {},
   "outputs": [],
   "source": [
    "mod0_sc <- lm(FGM ~ 1, data=steph_df)\n",
    "\n",
    "#not sure if I can use final margin\n",
    "step(mod0_sc, scope=list(lower=FGM~1,\n",
    "                      upper=FGM~FINAL_MARGIN+SHOT_NUMBER+PERIOD+SHOT_CLOCK+GAME_CLOCK+DRIBBLES+TOUCH_TIME+\n",
    "                      SHOT_DIST+PTS_TYPE+CLOSE_DEF_DIST),trace=1)"
   ]
  },
  {
   "cell_type": "markdown",
   "metadata": {},
   "source": [
    "The highest absolute AIC score is 1376.31. The model is:FGM ~ SHOT_DIST + CLOSE_DEF_DIST + PTS_TYPE + PERIOD"
   ]
  },
  {
   "cell_type": "code",
   "execution_count": null,
   "metadata": {},
   "outputs": [],
   "source": [
    "model_sc = glm(FGM ~  SHOT_DIST + CLOSE_DEF_DIST + PTS_TYPE + PERIOD, data=steph_df, family='binomial')\n",
    "summary(model_sc)"
   ]
  },
  {
   "cell_type": "code",
   "execution_count": null,
   "metadata": {},
   "outputs": [],
   "source": [
    "prediction <- ifelse(predict(model_sc, steph_df, type='response') > 0.41, TRUE, FALSE)\n",
    "confusion  <- table(prediction, as.logical(model_sc$y))"
   ]
  },
  {
   "cell_type": "code",
   "execution_count": null,
   "metadata": {},
   "outputs": [],
   "source": [
    "confusion.glm <- function(data, model, tresh){\n",
    "  prediction <- ifelse(predict(model, data, type='response') > tresh, TRUE, FALSE)\n",
    "  confusion  <- table(prediction, as.logical(model$y))\n",
    "  confusion  <- cbind(confusion, c(1 - confusion[1,1]/(confusion[1,1]+confusion[2,1]), \n",
    "                                   1 - confusion[2,2]/(confusion[2,2]+confusion[1,2])))\n",
    "  confusion  <- as.data.frame(confusion)\n",
    "  names(confusion) <- c('FALSE', 'TRUE', 'class.error')\n",
    "  confusion\n",
    "}"
   ]
  },
  {
   "cell_type": "code",
   "execution_count": null,
   "metadata": {},
   "outputs": [],
   "source": [
    "#install.packages('pROC')"
   ]
  },
  {
   "cell_type": "code",
   "execution_count": null,
   "metadata": {},
   "outputs": [],
   "source": [
    "library('pROC')\n",
    "\n",
    "prob <- predict(model_sc, type=c(\"response\"))\n",
    "\n",
    "steph_df$prob <- prob\n",
    "\n",
    "ROC_curve <- roc(FGM ~ prob, data=steph_df, \n",
    "                 levels=c(0,1), direction='<')\n",
    "\n",
    "options(repr.plot.width=6, repr.plot.height=6)\n",
    "\n",
    "plot(ROC_curve)\n",
    "\n",
    "# Confusion matrix at a given decision treshod\n",
    "# 0.41 because \n",
    "Confu_T <- confusion.glm(steph_df, model_sc, 0.41)\n",
    "\n",
    "SensitivityT <- Confu_T[2,2]/sum(Confu_T[,2])\n",
    "SpecificityT <- Confu_T[1,1]/sum(Confu_T[,1])\n",
    "\n",
    "abline(v=SpecificityT, col='orange', lwd=4, lty=3)\n",
    "abline(h=SensitivityT , col='orange', lwd=4, lty=3)"
   ]
  },
  {
   "cell_type": "code",
   "execution_count": null,
   "metadata": {},
   "outputs": [],
   "source": [
    "# install.packages('cowplot')\n",
    "#https://github.com/StatQuest/logistic_regression_demo/blob/master/logistic_regression_demo.R"
   ]
  },
  {
   "cell_type": "code",
   "execution_count": null,
   "metadata": {
    "scrolled": false
   },
   "outputs": [],
   "source": [
    "library(ggplot2)\n",
    "library(cowplot)\n",
    "\n",
    "predicted.data <- data.frame(steph_df$prob,steph_df$FGM)\n",
    "predicted.data <- predicted.data[\n",
    "  order(steph_df$prob, decreasing=FALSE),]\n",
    "predicted.data$rank <- 1:nrow(predicted.data)\n",
    "\n",
    "## Lastly, we can plot the predicted probabilities for each sample having\n",
    "\n",
    "options(repr.plot.width=6, repr.plot.height=6)\n",
    "\n",
    "ggplot(data=predicted.data, aes(x=rank, y=steph_df.prob)) +\n",
    "  geom_point(aes(color=steph_df.FGM), alpha=1, shape=4, stroke=2) +\n",
    "  xlab(\"Index\") +\n",
    "  ylab(\"Predicted probability of making a field goal\")\n",
    " "
   ]
  },
  {
   "cell_type": "markdown",
   "metadata": {},
   "source": [
    "### Improving the model\n",
    "\n",
    "I will split the data into training and test sets to see if this will improve model performance\n",
    "\n",
    "and scale features, add away team and location"
   ]
  },
  {
   "cell_type": "markdown",
   "metadata": {},
   "source": [
    "##### away team and location"
   ]
  },
  {
   "cell_type": "code",
   "execution_count": null,
   "metadata": {},
   "outputs": [],
   "source": [
    "#install.packages('dummies')"
   ]
  },
  {
   "cell_type": "code",
   "execution_count": null,
   "metadata": {},
   "outputs": [],
   "source": [
    "#load package\n",
    "library(dummies)\n",
    "\n",
    "#maybe add 'AWAY_TEAM'\n",
    "steph_df <- dummy.data.frame(steph_df, names=c('LOCATION'), sep=\"_\")"
   ]
  },
  {
   "cell_type": "code",
   "execution_count": null,
   "metadata": {},
   "outputs": [],
   "source": [
    "#install.packages('caTools')\n",
    "#https://www.analytics-tuts.com/how-to-split-train-and-test-data-in-r/"
   ]
  },
  {
   "cell_type": "markdown",
   "metadata": {},
   "source": [
    "##### train and test split"
   ]
  },
  {
   "cell_type": "code",
   "execution_count": null,
   "metadata": {},
   "outputs": [],
   "source": [
    "# take the data \n",
    "sc_model_data <- steph_df[,c('FGM','FINAL_MARGIN','SHOT_NUMBER','PERIOD','SHOT_CLOCK','GAME_CLOCK','DRIBBLES','TOUCH_TIME',\n",
    "                               'SHOT_DIST','PTS_TYPE','CLOSE_DEF_DIST','LOCATION_A','LOCATION_H' )]\n",
    "#load package\n",
    "library(caTools)\n",
    "\n",
    "#split the data\n",
    "data <- sample.split(sc_model_data,SplitRatio = 0.8)\n",
    "\n",
    "#train data\n",
    "train <- subset(sc_model_data,data==TRUE)\n",
    "\n",
    "#subsetting into Test data\n",
    "test =subset(sc_model_data,data==FALSE)"
   ]
  },
  {
   "cell_type": "markdown",
   "metadata": {},
   "source": [
    "feature scaling"
   ]
  },
  {
   "cell_type": "code",
   "execution_count": null,
   "metadata": {},
   "outputs": [],
   "source": [
    "train[,c('FINAL_MARGIN','SHOT_NUMBER','SHOT_CLOCK','GAME_CLOCK','DRIBBLES','TOUCH_TIME',\n",
    "                               'SHOT_DIST','CLOSE_DEF_DIST')]<- scale(train[,c('FINAL_MARGIN','SHOT_NUMBER','SHOT_CLOCK','GAME_CLOCK','DRIBBLES','TOUCH_TIME',\n",
    "                               'SHOT_DIST','CLOSE_DEF_DIST')])\n",
    "test[,c('FINAL_MARGIN','SHOT_NUMBER','SHOT_CLOCK','GAME_CLOCK','DRIBBLES','TOUCH_TIME',\n",
    "                               'SHOT_DIST','CLOSE_DEF_DIST')]<- scale(test[,c('FINAL_MARGIN','SHOT_NUMBER','SHOT_CLOCK','GAME_CLOCK','DRIBBLES','TOUCH_TIME',\n",
    "                             'SHOT_DIST','CLOSE_DEF_DIST')])\n"
   ]
  },
  {
   "cell_type": "markdown",
   "metadata": {},
   "source": [
    "I will change categorial variaibles to categorical variables (fgm,ptstype,period(?)\n",
    "\n",
    "is period categorical(?)"
   ]
  },
  {
   "cell_type": "code",
   "execution_count": null,
   "metadata": {},
   "outputs": [],
   "source": [
    "test$FGM <- as.factor(test$FGM)\n",
    "train$FGM <- as.factor(train$FGM)\n",
    "\n",
    "test$PTS_TYPE <- as.factor(test$PTS_TYPE)\n",
    "train$PTS_TYPE<- as.factor(train$PTS_TYPE)\n",
    "\n",
    "test$PERIOD <- as.factor(test$PERIOD)\n",
    "train$PERIOD<- as.factor(train$PERIOD)\n",
    "\n",
    "test$LOCATION_A <- as.factor(test$LOCATION_A)\n",
    "train$LOCATION_A <- as.factor(train$LOCATION_A)\n",
    "\n",
    "test$LOCATION_H <- as.factor(test$LOCATION_H)\n",
    "train$LOCATION_H <- as.factor(train$LOCATION_H)"
   ]
  },
  {
   "cell_type": "markdown",
   "metadata": {},
   "source": [
    "Find the best parameters"
   ]
  },
  {
   "cell_type": "code",
   "execution_count": null,
   "metadata": {},
   "outputs": [],
   "source": [
    "model_sc <- glm(FGM~1, data=train,family='binomial')\n",
    "\n",
    "\n",
    "step(model_sc, scope=list(lower=FGM~1,\n",
    "                      upper=FGM~FINAL_MARGIN+SHOT_NUMBER+PERIOD+SHOT_CLOCK+GAME_CLOCK+DRIBBLES+TOUCH_TIME+\n",
    "                      SHOT_DIST+PTS_TYPE+CLOSE_DEF_DIST+LOCATION_H+LOCATION_A),trace=1)"
   ]
  },
  {
   "cell_type": "markdown",
   "metadata": {},
   "source": [
    "Now I will fit a logistic regression model using the training data \n",
    "\n",
    "##### Model results for Stephen Curry "
   ]
  },
  {
   "cell_type": "code",
   "execution_count": null,
   "metadata": {},
   "outputs": [],
   "source": [
    "\n",
    "new_model <- glm(FGM~ SHOT_DIST + CLOSE_DEF_DIST + PTS_TYPE + TOUCH_TIME,data= train, family='binomial')\n",
    "summary(new_model)"
   ]
  },
  {
   "cell_type": "markdown",
   "metadata": {},
   "source": [
    "Use the model to make predictions for the test data "
   ]
  },
  {
   "cell_type": "code",
   "execution_count": null,
   "metadata": {},
   "outputs": [],
   "source": [
    "model_pred_prob = predict(new_model, test, type='response')\n",
    "\n",
    "#new df with prediction \n",
    "model_pred_FGM <- rep(1,nrow(test))\n",
    "model_pred_FGM[model_pred_prob > 0.5] <- 0\n",
    "\n",
    "#confusion matrix\n",
    "confu_mat <- table(model_pred_FGM,test[,1])\n",
    "confu_mat\n",
    "#mean(model_pred_FGM != test[,1])\n",
    "#accuracy\n",
    "(confu_mat[1,1]+confu_mat[2,2])/ (confu_mat[1,1]+confu_mat[2,2]+ confu_mat[2,1]+confu_mat[1,2])"
   ]
  },
  {
   "cell_type": "markdown",
   "metadata": {},
   "source": [
    "accuracy has decreased"
   ]
  },
  {
   "cell_type": "code",
   "execution_count": null,
   "metadata": {},
   "outputs": [],
   "source": [
    "test$prob <- model_pred_prob\n",
    "\n",
    "# plot a ROC as above\n",
    "ROC_curve <- roc(FGM ~ prob, data=test, \n",
    "                 levels=c(0,1), direction='<')\n",
    "\n",
    "options(repr.plot.width=6, repr.plot.height=6)\n",
    "(confu_mat[1,1]+confu_mat[2,2])/ (confu_mat[1,1]+confu_mat[2,2]+ confu_mat[2,1]+confu_mat[1,2])\n",
    "plot(ROC_curve)"
   ]
  },
  {
   "cell_type": "code",
   "execution_count": null,
   "metadata": {},
   "outputs": [],
   "source": [
    "predicted.data <- data.frame(test$prob,test$FGM)\n",
    "predicted.data <- predicted.data[\n",
    "  order(test$prob, decreasing=FALSE),]\n",
    "predicted.data$rank <- 1:nrow(predicted.data)\n",
    "\n",
    "## Lastly, we can plot the predicted probabilities for each sample having\n",
    "\n",
    "options(repr.plot.width=5, repr.plot.height=5)\n",
    "\n",
    "ggplot(data=predicted.data, aes(x=rank, y=test.prob)) +\n",
    "  geom_point(aes(color=test.FGM), alpha=1, shape=4, stroke=2) +\n",
    "  xlab(\"Index\") +\n",
    "  ylab(\"Predicted probability of making a field goal\")\n",
    " "
   ]
  },
  {
   "cell_type": "code",
   "execution_count": null,
   "metadata": {},
   "outputs": [],
   "source": [
    "#install.packages('MLmetrics')\n",
    "library(MLmetrics)\n",
    "\n",
    "F1_Score(y_pred=model_pred_FGM, y_true = test$FGM)"
   ]
  },
  {
   "cell_type": "markdown",
   "metadata": {},
   "source": [
    "### Logistic regression for top 3 point shooters"
   ]
  },
  {
   "cell_type": "code",
   "execution_count": null,
   "metadata": {},
   "outputs": [],
   "source": [
    "#get data\n",
    "three_df <- nba_data[(nba_data$PLAYER_NAME=='Damian Lillard'|nba_data$PLAYER_NAME=='James Harden'|\n",
    "                      nba_data$PLAYER_NAME=='Klay Thompson'|nba_data$PLAYER_NAME=='Kyle Korver'|\n",
    "                      nba_data$PLAYER_NAME=='Trevor Ariza'|nba_data$PLAYER_NAME=='Wesley Matthews'),]"
   ]
  },
  {
   "cell_type": "code",
   "execution_count": null,
   "metadata": {},
   "outputs": [],
   "source": [
    "#load package\n",
    "library(dummies)\n",
    "\n",
    "three_df <- dummy.data.frame(three_df, names=c('LOCATION'), sep=\"_\")"
   ]
  },
  {
   "cell_type": "code",
   "execution_count": null,
   "metadata": {},
   "outputs": [],
   "source": [
    "#train and test split\n",
    "\n",
    "# take the data \n",
    "three_model_data <- three_df[,c('FGM','FINAL_MARGIN','SHOT_NUMBER','PERIOD','SHOT_CLOCK','GAME_CLOCK','DRIBBLES','TOUCH_TIME',\n",
    "                               'SHOT_DIST','PTS_TYPE','CLOSE_DEF_DIST','LOCATION_A','LOCATION_H')]\n",
    "#load package\n",
    "library(caTools)\n",
    "\n",
    "#split the data\n",
    "data <- sample.split(three_model_data,SplitRatio = 0.8)\n",
    "\n",
    "#train data\n",
    "train <- subset(three_model_data,data==TRUE)\n",
    "\n",
    "#subsetting into Test data\n",
    "test <- subset(sc_model_data,data==FALSE)"
   ]
  },
  {
   "cell_type": "code",
   "execution_count": null,
   "metadata": {},
   "outputs": [],
   "source": [
    "#feature scaling\n",
    "\n",
    "train[,c('FINAL_MARGIN','SHOT_NUMBER','SHOT_CLOCK','GAME_CLOCK','DRIBBLES','TOUCH_TIME',\n",
    "                               'SHOT_DIST','CLOSE_DEF_DIST')]<- scale(train[,c('FINAL_MARGIN','SHOT_NUMBER','SHOT_CLOCK','GAME_CLOCK','DRIBBLES','TOUCH_TIME',\n",
    "                               'SHOT_DIST','CLOSE_DEF_DIST')])\n",
    "test[,c('FINAL_MARGIN','SHOT_NUMBER','SHOT_CLOCK','GAME_CLOCK','DRIBBLES','TOUCH_TIME',\n",
    "                               'SHOT_DIST','CLOSE_DEF_DIST')]<- scale(test[,c('FINAL_MARGIN','SHOT_NUMBER','SHOT_CLOCK','GAME_CLOCK','DRIBBLES','TOUCH_TIME',\n",
    "                             'SHOT_DIST','CLOSE_DEF_DIST')])"
   ]
  },
  {
   "cell_type": "code",
   "execution_count": null,
   "metadata": {},
   "outputs": [],
   "source": [
    "test$FGM <- as.factor(test$FGM)\n",
    "train$FGM <- as.factor(train$FGM)\n",
    "\n",
    "test$PTS_TYPE <- as.factor(test$PTS_TYPE)\n",
    "train$PTS_TYPE<- as.factor(train$PTS_TYPE)\n",
    "\n",
    "test$PERIOD <- as.factor(test$PERIOD)\n",
    "train$PERIOD<- as.factor(train$PERIOD)\n",
    "\n",
    "test$LOCATION_A <- as.factor(test$LOCATION_A)\n",
    "train$LOCATION_A <- as.factor(train$LOCATION_A)\n",
    "\n",
    "test$LOCATION_H <- as.factor(test$LOCATION_H)\n",
    "train$LOCATION_H <- as.factor(train$LOCATION_H)"
   ]
  },
  {
   "cell_type": "code",
   "execution_count": null,
   "metadata": {
    "scrolled": false
   },
   "outputs": [],
   "source": [
    "model_three <- glm(FGM~1, data=train,family='binomial')\n",
    "\n",
    "\n",
    "step(model_three, scope=list(lower=FGM~1,\n",
    "                      upper=FGM~FINAL_MARGIN+SHOT_NUMBER+PERIOD+SHOT_CLOCK+GAME_CLOCK+DRIBBLES+TOUCH_TIME+\n",
    "                      SHOT_DIST+PTS_TYPE+CLOSE_DEF_DIST+LOCATION_H+LOCATION_A),trace=1)"
   ]
  },
  {
   "cell_type": "markdown",
   "metadata": {},
   "source": [
    "##### Model results for the top 3 point shooters"
   ]
  },
  {
   "cell_type": "code",
   "execution_count": null,
   "metadata": {},
   "outputs": [],
   "source": [
    "new_three_model <- glm(FGM~ SHOT_DIST + CLOSE_DEF_DIST + FINAL_MARGIN + TOUCH_TIME +\n",
    "                       DRIBBLES + SHOT_NUMBER+PTS_TYPE,data= train, family='binomial')\n",
    "summary(new_three_model)"
   ]
  },
  {
   "cell_type": "code",
   "execution_count": null,
   "metadata": {},
   "outputs": [],
   "source": [
    "model_pred_prob = predict(new_three_model, test, type='response')\n",
    "\n",
    "#new df with prediction \n",
    "model_pred_FGM <- rep(1,nrow(test))\n",
    "model_pred_FGM[model_pred_prob > 0.5] <- 0\n",
    "\n",
    "#confusion matrix\n",
    "confu_mat <- table(model_pred_FGM,test[,1])\n",
    "confu_mat\n",
    "#mean(model_pred_FGM != test[,1])\n",
    "#accuracy\n",
    "(confu_mat[1,1]+confu_mat[2,2])/ (confu_mat[1,1]+confu_mat[2,2]+ confu_mat[2,1]+confu_mat[1,2])"
   ]
  },
  {
   "cell_type": "code",
   "execution_count": null,
   "metadata": {},
   "outputs": [],
   "source": [
    "test$prob <- model_pred_prob\n",
    "\n",
    "# plot a ROC as above\n",
    "ROC_curve <- roc(FGM ~ prob, data=test, \n",
    "                 levels=c(0,1), direction='<')\n",
    "\n",
    "options(repr.plot.width=6, repr.plot.height=6)\n",
    "(confu_mat[1,1]+confu_mat[2,2])/ (confu_mat[1,1]+confu_mat[2,2]+ confu_mat[2,1]+confu_mat[1,2])\n",
    "plot(ROC_curve)"
   ]
  },
  {
   "cell_type": "markdown",
   "metadata": {},
   "source": [
    "Get the model coefficients in standardized form"
   ]
  },
  {
   "cell_type": "code",
   "execution_count": null,
   "metadata": {},
   "outputs": [],
   "source": [
    "#install.packages('reghelper')"
   ]
  },
  {
   "cell_type": "code",
   "execution_count": null,
   "metadata": {},
   "outputs": [],
   "source": [
    "library('reghelper')\n",
    "\n",
    "log_mod <- glm(FGM~ SHOT_DIST + CLOSE_DEF_DIST,data= train, family = 'binomial')\n",
    "#beta(log_mod,x=TRUE,y=TRUE)\n",
    "beta(new_three_model,x=TRUE,y=FALSE)\n",
    "beta(new_model,x=TRUE,y=FALSE)"
   ]
  },
  {
   "cell_type": "markdown",
   "metadata": {},
   "source": [
    "perfom wald chi squared on results\n",
    "\n",
    "$\\dfrac{(b_{sc} - b_{NBA})^2}{(std(b_{sc}))^2+(std(b_{NBA}))^2}$\n",
    "\n",
    "where $b_{sc}$ is the coefficient for Stephen Curry's SHOT_DIST\n",
    "\n",
    "\n",
    "    $b_{NBA}$ is the coefficient for the other top 3-point shooters SHOT_DIST\n",
    "    \n",
    "    $std(b_{sc})$ is the estimated standard error for Stephen Curry's SHOT_DIST\n",
    "    \n",
    "    $std(b_{NBA})$ is the estimated standard error for the other top three point shootersv HOT_DIST   "
   ]
  },
  {
   "cell_type": "code",
   "execution_count": null,
   "metadata": {},
   "outputs": [],
   "source": [
    "wald = ((-0.73587+0.57065)^2)/((0.13763)^2+(0.06268)^2)\n",
    "wald"
   ]
  },
  {
   "cell_type": "code",
   "execution_count": null,
   "metadata": {},
   "outputs": [],
   "source": [
    "model_sc_test <- glm(FGM~SHOT_DIST+CLOSE_DEF_DIST, data=train,family='binomial')\n",
    "summary(model_sc_test)"
   ]
  }
 ],
 "metadata": {
  "kernelspec": {
   "display_name": "R",
   "language": "R",
   "name": "ir"
  },
  "language_info": {
   "codemirror_mode": "r",
   "file_extension": ".r",
   "mimetype": "text/x-r-source",
   "name": "R",
   "pygments_lexer": "r",
   "version": "3.6.1"
  }
 },
 "nbformat": 4,
 "nbformat_minor": 4
}
